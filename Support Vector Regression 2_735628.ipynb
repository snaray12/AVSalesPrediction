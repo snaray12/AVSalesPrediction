{
 "cells": [
  {
   "cell_type": "code",
   "execution_count": null,
   "id": "a5bebf2b",
   "metadata": {},
   "outputs": [],
   "source": [
    "import pandas as pd\n",
    "import numpy as np\n",
    "import seaborn as sns\n"
   ]
  },
  {
   "cell_type": "code",
   "execution_count": null,
   "id": "4a76eff2",
   "metadata": {},
   "outputs": [],
   "source": [
    "import os"
   ]
  },
  {
   "cell_type": "code",
   "execution_count": null,
   "id": "b48c7dac",
   "metadata": {},
   "outputs": [],
   "source": [
    "from datetime import datetime"
   ]
  },
  {
   "cell_type": "code",
   "execution_count": null,
   "id": "67c6c048",
   "metadata": {},
   "outputs": [],
   "source": [
    "import matplotlib.pyplot as plt\n",
    "from matplotlib.patches import Patch"
   ]
  },
  {
   "cell_type": "code",
   "execution_count": null,
   "id": "f993f924",
   "metadata": {},
   "outputs": [],
   "source": [
    "from sklearn.svm import SVR\n",
    "from sklearn.linear_model import LinearRegression\n",
    "from sklearn.preprocessing import LabelEncoder, OneHotEncoder,MinMaxScaler\n",
    "from sklearn.metrics import mean_squared_log_error\n",
    "\n",
    "from sklearn.pipeline import Pipeline\n",
    "from sklearn.base import BaseEstimator, TransformerMixin\n",
    "from sklearn.compose import ColumnTransformer, make_column_transformer"
   ]
  },
  {
   "cell_type": "code",
   "execution_count": null,
   "id": "3621ba7c",
   "metadata": {},
   "outputs": [],
   "source": [
    "from sklearn.model_selection import TimeSeriesSplit"
   ]
  },
  {
   "cell_type": "code",
   "execution_count": null,
   "id": "497b2ccb",
   "metadata": {},
   "outputs": [],
   "source": []
  },
  {
   "cell_type": "code",
   "execution_count": null,
   "id": "419787c8",
   "metadata": {},
   "outputs": [],
   "source": [
    "import statsmodels.api as sm\n",
    "from statsmodels.api import OLS\n",
    "from statsmodels.graphics.tsaplots import plot_acf, plot_pacf"
   ]
  },
  {
   "cell_type": "code",
   "execution_count": null,
   "id": "6e608cef",
   "metadata": {},
   "outputs": [],
   "source": [
    "plt.rcParams.update({'figure.max_open_warning': 0})\n",
    "plt.style.use('fivethirtyeight')\n",
    "cmap_data = plt.cm.Paired\n",
    "cmap_cv = plt.cm.coolwarm"
   ]
  },
  {
   "cell_type": "code",
   "execution_count": null,
   "id": "b7ec8c00",
   "metadata": {},
   "outputs": [],
   "source": [
    "def plot_cv_indices(cv, n_splits, X, y, date_col = None):\n",
    "    \"\"\"Create a sample plot for indices of a cross-validation object.\"\"\"\n",
    "    \n",
    "    fig, ax = plt.subplots(1, 1, figsize = (11, 7))\n",
    "    \n",
    "    # Generate the training/testing visualizations for each CV split\n",
    "    for ii, (tr, tt) in enumerate(cv.split(X=X, y=y)):\n",
    "        # Fill in indices with the training/test groups\n",
    "        indices = np.array([np.nan] * len(X))\n",
    "        indices[tt] = 1\n",
    "        indices[tr] = 0\n",
    "\n",
    "        # Visualize the results\n",
    "        ax.scatter(range(len(indices)), [ii + .5] * len(indices),\n",
    "                   c=indices, marker='_', lw=10, cmap=cmap_cv,\n",
    "                   vmin=-.2, vmax=1.2)\n",
    "\n",
    "\n",
    "    # Formatting\n",
    "    yticklabels = list(range(n_splits))\n",
    "    \n",
    "    if date_col is not None:\n",
    "        tick_locations  = ax.get_xticks()\n",
    "        tick_dates = [\" \"] + date_col.iloc[list(tick_locations[1:-1])].astype(str).tolist() + [\" \"]\n",
    "\n",
    "        tick_locations_str = [str(int(i)) for i in tick_locations]\n",
    "        new_labels = ['\\n\\n'.join(x) for x in zip(list(tick_locations_str), tick_dates) ]\n",
    "        ax.set_xticks(tick_locations)\n",
    "        ax.set_xticklabels(new_labels)\n",
    "    \n",
    "#     ax.set(yticks=np.arange(n_splits+2) + .5, yticklabels=yticklabels,\n",
    "#            xlabel='Sample index', ylabel=\"CV iteration\",\n",
    "#            ylim=[n_splits+0.2, -.2])\n",
    "    ax.legend([Patch(color=cmap_cv(.8)), Patch(color=cmap_cv(.02))],\n",
    "              ['Testing set', 'Training set'], loc=(1.02, .8))\n",
    "    ax.set_title('{}'.format(type(cv).__name__), fontsize=15)\n",
    "    "
   ]
  },
  {
   "cell_type": "code",
   "execution_count": null,
   "id": "ce02a6cd",
   "metadata": {},
   "outputs": [],
   "source": [
    "class StoreCatTransformer(BaseEstimator, TransformerMixin):\n",
    "    def __init__(self, input_features = [], feature_name = \"StoreCat\"):\n",
    "        print(\"\\n>>>>>>>>>>init() called.\\n\")\n",
    "        self.feature_name = feature_name\n",
    "        self.input_features = input_features\n",
    "        \n",
    "    def fit(self, X, y=None):\n",
    "        print(\"\\n>>>>>>>>>>fit() called.\\n\")\n",
    "        return self\n",
    "    \n",
    "    def transform(self, X, y = None):\n",
    "        print(\"\\n>>>>>>>>>>transform() called.\\n\")\n",
    "        X_ = X.copy()\n",
    "        X_[self.feature_name] = ''\n",
    "        for col in self.input_features:\n",
    "            X_[self.feature_name] = X_[self.feature_name] + X_[col]\n",
    "        le = LabelEncoder()\n",
    "        X_[self.feature_name] = le.fit_transform(X_[self.feature_name])\n",
    "        return X_"
   ]
  },
  {
   "cell_type": "code",
   "execution_count": null,
   "id": "6fe03c67",
   "metadata": {},
   "outputs": [],
   "source": [
    "class DayOfWeekTransformer(BaseEstimator, TransformerMixin):\n",
    "    def __init__(self):\n",
    "        print(\"\\n>>>>>>>>>>init() called.\\n\")\n",
    "        self.dayOfWeekDict = {0:\"Monday\",\n",
    "                 1:\"Tuesday\",\n",
    "                 2:\"Wednesday\",\n",
    "                 3:\"Thursday\",\n",
    "                 4:\"Friday\",\n",
    "                 5:\"Saturday\",\n",
    "                 6:\"Sunday\"}\n",
    "        \n",
    "    def fit(self, X, y=None):\n",
    "        print(\"\\n>>>>>>>>>>fit() called.\\n\")\n",
    "        return self\n",
    "    \n",
    "    def transform(self, X, y = None):\n",
    "        print(\"\\n>>>>>>>>>>transform() called.\\n\")\n",
    "        X_ = X.copy()\n",
    "        X_['Date'] = pd.to_datetime(X_['Date'])\n",
    "        X_['Year'] = X_['Date'].dt.year\n",
    "        X_['Month'] = X_['Date'].dt.month\n",
    "        X_['DayOfWeek'] = X_['Date'].dt.dayofweek\n",
    "        X_['DayOfWeek'] = X_['DayOfWeek'].apply(lambda x : self.dayOfWeekDict.get(x))\n",
    "        le = LabelEncoder()\n",
    "        X_[\"DayOfWeek\"] = le.fit_transform(X_[\"DayOfWeek\"])\n",
    "        return X_"
   ]
  },
  {
   "cell_type": "code",
   "execution_count": null,
   "id": "487fe042",
   "metadata": {},
   "outputs": [],
   "source": [
    "class CustomLabelEncode(BaseEstimator, TransformerMixin):\n",
    "    def __init__(self, feature):\n",
    "        self.feature = feature\n",
    "        \n",
    "    def fit(self, X, y=None):\n",
    "        return self\n",
    "    def transform(self, X, y=None):\n",
    "        X_ = X.copy()\n",
    "        X_[self.feature] = LabelEncoder().fit_transform(X_[self.feature])\n",
    "        return X_"
   ]
  },
  {
   "cell_type": "code",
   "execution_count": null,
   "id": "7ebd5ee2",
   "metadata": {},
   "outputs": [],
   "source": [
    "filename = \"TRAIN.csv\"\n",
    "testfilename = \"TEST_FINAL.csv\""
   ]
  },
  {
   "cell_type": "code",
   "execution_count": null,
   "id": "f3102d73",
   "metadata": {},
   "outputs": [],
   "source": [
    "homedir = os.path.abspath(os.path.dirname(\"__name__\"))"
   ]
  },
  {
   "cell_type": "code",
   "execution_count": null,
   "id": "311a444f",
   "metadata": {},
   "outputs": [],
   "source": [
    "fp = os.path.join(homedir, filename)\n",
    "testfp = os.path.join(homedir, testfilename)"
   ]
  },
  {
   "cell_type": "code",
   "execution_count": null,
   "id": "8ef79ef1",
   "metadata": {},
   "outputs": [],
   "source": []
  },
  {
   "cell_type": "code",
   "execution_count": null,
   "id": "7846eced",
   "metadata": {},
   "outputs": [],
   "source": [
    "mms = MinMaxScaler()"
   ]
  },
  {
   "cell_type": "code",
   "execution_count": null,
   "id": "b9a9b89d",
   "metadata": {},
   "outputs": [],
   "source": []
  },
  {
   "cell_type": "code",
   "execution_count": null,
   "id": "7edf09e1",
   "metadata": {},
   "outputs": [],
   "source": [
    "df = pd.read_csv(fp)\n"
   ]
  },
  {
   "cell_type": "code",
   "execution_count": null,
   "id": "ff29c4b2",
   "metadata": {},
   "outputs": [],
   "source": [
    "df.head()"
   ]
  },
  {
   "cell_type": "code",
   "execution_count": null,
   "id": "8b248497",
   "metadata": {},
   "outputs": [],
   "source": [
    "preprocessor = ColumnTransformer(\n",
    "    transformers=[\n",
    "        \n",
    "        (\"DiscountEncoder\", CustomLabelEncode(\"Discount\"))\n",
    "    ], remainder='passthrough'\n",
    ")"
   ]
  },
  {
   "cell_type": "code",
   "execution_count": null,
   "id": "44456b36",
   "metadata": {},
   "outputs": [],
   "source": [
    "mycols = ['Store_id', \"Date\", \"Holiday\", \"Discount\", \"StoreCat\", \"DayOfWeek\"]"
   ]
  },
  {
   "cell_type": "code",
   "execution_count": null,
   "id": "e5da25b8",
   "metadata": {},
   "outputs": [],
   "source": [
    "pipe = Pipeline(steps = [\n",
    "    (\"preprocess\",CustomLabelEncode(\"Discount\")),\n",
    "    (\"transform1\", StoreCatTransformer([\"Store_Type\", \"Location_Type\", \"Region_Code\"], \"StoreCat\")),\n",
    "    (\"transform2\", DayOfWeekTransformer()),\n",
    "#     (\"selector\", ColumnTransformer([\n",
    "#         (\"selector\", \"passthrough\", mycols)\n",
    "#     ], remainder=\"drop\")),\n",
    "    \n",
    "])"
   ]
  },
  {
   "cell_type": "code",
   "execution_count": null,
   "id": "f1d0318d",
   "metadata": {},
   "outputs": [],
   "source": [
    "df2 = pipe.fit_transform(df)"
   ]
  },
  {
   "cell_type": "code",
   "execution_count": null,
   "id": "977aa149",
   "metadata": {},
   "outputs": [],
   "source": []
  },
  {
   "cell_type": "code",
   "execution_count": null,
   "id": "029401ea",
   "metadata": {},
   "outputs": [],
   "source": []
  },
  {
   "cell_type": "code",
   "execution_count": null,
   "id": "350272fc",
   "metadata": {},
   "outputs": [],
   "source": []
  },
  {
   "cell_type": "code",
   "execution_count": null,
   "id": "f22f0ed8",
   "metadata": {},
   "outputs": [],
   "source": [
    "df2[df2['Store_id']==1].head()"
   ]
  },
  {
   "cell_type": "code",
   "execution_count": null,
   "id": "5f13478c",
   "metadata": {},
   "outputs": [],
   "source": [
    "df2['SalesBak'] = df2['Sales']"
   ]
  },
  {
   "cell_type": "code",
   "execution_count": null,
   "id": "890d0bca",
   "metadata": {},
   "outputs": [],
   "source": [
    "df2['Sales'] = mms.fit_transform(np.array(df2['Sales']).reshape(-1,1))"
   ]
  },
  {
   "cell_type": "code",
   "execution_count": null,
   "id": "5aa18811",
   "metadata": {},
   "outputs": [],
   "source": [
    "df2[\"Sales_t1\"] = df2.groupby(\"Store_id\").Sales.shift(1)\n",
    "df2[\"Sales_t2\"] = df2.groupby(\"Store_id\").Sales.shift(2)\n",
    "df2[\"Sales_t3\"] = df2.groupby(\"Store_id\").Sales.shift(3)\n",
    "df2[\"Sales_t4\"] = df2.groupby(\"Store_id\").Sales.shift(4)\n",
    "df2[\"Sales_t5\"] = df2.groupby(\"Store_id\").Sales.shift(5)\n",
    "df2[\"Sales_t6\"] = df2.groupby(\"Store_id\").Sales.shift(6)\n",
    "df2[\"Sales_t7\"] = df2.groupby(\"Store_id\").Sales.shift(7)"
   ]
  },
  {
   "cell_type": "code",
   "execution_count": null,
   "id": "5539857a",
   "metadata": {},
   "outputs": [],
   "source": [
    "df2.dropna(inplace=True)"
   ]
  },
  {
   "cell_type": "code",
   "execution_count": null,
   "id": "4cdc3d84",
   "metadata": {},
   "outputs": [],
   "source": [
    "df2['Date'] = pd.to_datetime(df2['Date'])"
   ]
  },
  {
   "cell_type": "code",
   "execution_count": null,
   "id": "2c70b513",
   "metadata": {},
   "outputs": [],
   "source": [
    "df2.dtypes"
   ]
  },
  {
   "cell_type": "code",
   "execution_count": null,
   "id": "999fe439",
   "metadata": {},
   "outputs": [],
   "source": [
    "df2.columns"
   ]
  },
  {
   "cell_type": "code",
   "execution_count": null,
   "id": "6b51d2b4",
   "metadata": {},
   "outputs": [],
   "source": [
    "df2.set_index(\"Date\", inplace=True)"
   ]
  },
  {
   "cell_type": "code",
   "execution_count": null,
   "id": "abc18d5e",
   "metadata": {},
   "outputs": [],
   "source": [
    "df2.head()"
   ]
  },
  {
   "cell_type": "code",
   "execution_count": null,
   "id": "447be063",
   "metadata": {},
   "outputs": [],
   "source": [
    "traindf = df2.loc[\"2018-01-01\":\"2018-12-31\"]\n",
    "testdf = df2.loc[\"2018-10-01\":\"2019-05-31\"]\n",
    "\n",
    "\n",
    "# traindf =storedf[:trainlen] \n",
    "# testdf = storedf[trainlen:] "
   ]
  },
  {
   "cell_type": "code",
   "execution_count": null,
   "id": "41c16770",
   "metadata": {},
   "outputs": [],
   "source": [
    "traindf.reset_index(inplace=True)"
   ]
  },
  {
   "cell_type": "code",
   "execution_count": null,
   "id": "2a2e8a23",
   "metadata": {},
   "outputs": [],
   "source": [
    "traindf.shape"
   ]
  },
  {
   "cell_type": "code",
   "execution_count": null,
   "id": "9f59c6b3",
   "metadata": {},
   "outputs": [],
   "source": [
    "traindf[\"7SMA\"] = traindf.groupby(\"Store_id\")['Sales'].rolling(window=7).mean().reset_index(0,drop=True)\n",
    "traindf[\"7EMA\"] = traindf.groupby(\"Store_id\")['Sales'].ewm(span=7).mean().reset_index(0,drop=True)\n",
    "\n",
    "traindf[\"14SMA\"] = traindf.groupby(\"Store_id\")['Sales'].rolling(window=14).mean().reset_index(0,drop=True)\n",
    "traindf[\"14EMA\"] = traindf.groupby(\"Store_id\")['Sales'].ewm(span=14).mean().reset_index(0,drop=True)\n",
    "\n",
    "traindf[\"30SMA\"] = traindf.groupby(\"Store_id\")['Sales'].rolling(window=30).mean().reset_index(0,drop=True)\n",
    "traindf[\"30EMA\"] = traindf.groupby(\"Store_id\")['Sales'].ewm(span=30).mean().reset_index(0,drop=True)\n",
    "\n",
    "traindf[\"60SMA\"] = traindf.groupby(\"Store_id\")['Sales'].rolling(window=60).mean().reset_index(0,drop=True)\n",
    "traindf[\"60EMA\"] = traindf.groupby(\"Store_id\")['Sales'].ewm(span=60).mean().reset_index(0,drop=True)\n",
    "\n",
    "traindf[\"90SMA\"] = traindf.groupby(\"Store_id\")['Sales'].rolling(window=90).mean().reset_index(0,drop=True)\n",
    "traindf[\"90EMA\"] = traindf.groupby(\"Store_id\")['Sales'].ewm(span=90).mean().reset_index(0,drop=True)"
   ]
  },
  {
   "cell_type": "code",
   "execution_count": null,
   "id": "b03c2446",
   "metadata": {},
   "outputs": [],
   "source": [
    "traindf.dropna(inplace=True)"
   ]
  },
  {
   "cell_type": "code",
   "execution_count": null,
   "id": "20aae2f1",
   "metadata": {},
   "outputs": [],
   "source": [
    "traindf.head()"
   ]
  },
  {
   "cell_type": "code",
   "execution_count": null,
   "id": "ef79c59a",
   "metadata": {},
   "outputs": [],
   "source": [
    "# yval = mms.fit_transform(np.array(traindf['Sales']).reshape(-1,1))"
   ]
  },
  {
   "cell_type": "code",
   "execution_count": null,
   "id": "8ac64ba2",
   "metadata": {},
   "outputs": [],
   "source": [
    "model_svr = SVR()"
   ]
  },
  {
   "cell_type": "code",
   "execution_count": null,
   "id": "9f37989c",
   "metadata": {},
   "outputs": [],
   "source": [
    "X = traindf.loc[:, ('Store_id', 'DayOfWeek', 'StoreCat', 'Discount', 'Holiday',\n",
    "                    'Sales_t1', 'Sales_t2', 'Sales_t3', 'Sales_t4', 'Sales_t5', 'Sales_t6', 'Sales_t7',\n",
    "                    \"7SMA\",\"7EMA\", \"14SMA\", \"14EMA\",\"30SMA\", \"60SMA\", \"90SMA\", \"30EMA\", \"60EMA\", \"90EMA\")]"
   ]
  },
  {
   "cell_type": "code",
   "execution_count": null,
   "id": "0f0d273f",
   "metadata": {},
   "outputs": [],
   "source": [
    "model_svr.fit(X, yval)"
   ]
  },
  {
   "cell_type": "code",
   "execution_count": null,
   "id": "1187a90c",
   "metadata": {},
   "outputs": [],
   "source": [
    "testdf['zSales'] = testdf['Sales']\n"
   ]
  },
  {
   "cell_type": "code",
   "execution_count": null,
   "id": "5610d0eb",
   "metadata": {
    "scrolled": false
   },
   "outputs": [],
   "source": [
    "testdf.loc[\"2019-01-01\":\"2019-05-31\", \"zSales\"] = 0\n",
    "testdf.loc[\"2019-01-01\":\"2019-05-31\", \"Sales_t1\"] = 0\n",
    "testdf.loc[\"2019-01-01\":\"2019-05-31\", \"Sales_t2\"] = 0\n",
    "testdf.loc[\"2019-01-01\":\"2019-05-31\", \"Sales_t3\"] = 0\n",
    "testdf.loc[\"2019-01-01\":\"2019-05-31\", \"Sales_t4\"] = 0\n",
    "testdf.loc[\"2019-01-01\":\"2019-05-31\", \"Sales_t5\"] = 0\n",
    "testdf.loc[\"2019-01-01\":\"2019-05-31\", \"Sales_t6\"] = 0\n",
    "testdf.loc[\"2019-01-01\":\"2019-05-31\", \"Sales_t7\"] = 0"
   ]
  },
  {
   "cell_type": "code",
   "execution_count": null,
   "id": "57b23f8f",
   "metadata": {},
   "outputs": [],
   "source": [
    "testdf.head()"
   ]
  },
  {
   "cell_type": "code",
   "execution_count": null,
   "id": "c797d285",
   "metadata": {},
   "outputs": [],
   "source": [
    "import warnings\n",
    "warnings.simplefilter(action='ignore', category=FutureWarning)"
   ]
  },
  {
   "cell_type": "code",
   "execution_count": null,
   "id": "1438dbee",
   "metadata": {},
   "outputs": [],
   "source": [
    "pd.options.mode.chained_assignment = None "
   ]
  },
  {
   "cell_type": "code",
   "execution_count": null,
   "id": "44600a9e",
   "metadata": {},
   "outputs": [],
   "source": [
    "predlist = []\n",
    "for sid in testdf['Store_id'].unique().tolist():\n",
    "    sdf = testdf[testdf['Store_id']==sid]\n",
    "    for ix in [x for x in sdf.index.strftime(\"%Y-%m-%d\").tolist() if x > \"2018-12-31\"]:\n",
    "        tempdf = sdf.loc[:ix]\n",
    "        tempdf = tempdf[-90:]\n",
    "        \n",
    "        tempdf[\"7SMA\"] = tempdf.groupby(\"Store_id\")['Sales'].rolling(window=7).mean().reset_index(0,drop=True)\n",
    "        tempdf[\"7EMA\"] = tempdf.groupby(\"Store_id\")['Sales'].ewm(span=7).mean().reset_index(0,drop=True)\n",
    "\n",
    "        tempdf[\"14SMA\"] = tempdf.groupby(\"Store_id\")['Sales'].rolling(window=14).mean().reset_index(0,drop=True)\n",
    "        tempdf[\"14EMA\"] = tempdf.groupby(\"Store_id\")['Sales'].ewm(span=14).mean().reset_index(0,drop=True)\n",
    "        \n",
    "        tempdf[\"60SMA\"] = tempdf.rolling(window=60)['zSales'].mean()\n",
    "        tempdf[\"60EMA\"] = tempdf.ewm(span=60)['zSales'].mean()\n",
    "\n",
    "        tempdf[\"30SMA\"] = tempdf.rolling(window=30)['zSales'].mean()\n",
    "        tempdf[\"30EMA\"] = tempdf.ewm(span=30)['zSales'].mean()\n",
    "\n",
    "        tempdf[\"90SMA\"] = tempdf.rolling(window=90)['zSales'].mean()\n",
    "        tempdf[\"90EMA\"] = tempdf.ewm(span=90)['zSales'].mean()\n",
    "        tempdf.dropna(inplace=True)\n",
    "#         print(ix)\n",
    "#         print(tempdf.shape)\n",
    "#         print(tempdf)\n",
    "        texog = tempdf.loc[:, ('Store_id', 'DayOfWeek', 'StoreCat', 'Discount', 'Holiday',\n",
    "                               'Sales_t1', 'Sales_t2', 'Sales_t3', 'Sales_t4', 'Sales_t5', 'Sales_t6', 'Sales_t7',\n",
    "                                      \"7SMA\",\"7EMA\", \"14SMA\", \"14EMA\",\"30SMA\", \"60SMA\", \"90SMA\", \"30EMA\", \n",
    "                                               \"60EMA\", \"90EMA\")]\n",
    "#         print(texog.dtypes)\n",
    "        pred = model_svr.predict(texog)\n",
    "        predlist.append({\"ID\":tempdf.iloc[0, 0],\"Date\":ix, \"Pred\":pred.tolist()[0]})\n",
    "        sdf.loc[ix, \"zSales\"] = pred.tolist()[0]\n",
    "        sdf.loc[ix, \"Sales_t1\"] = sdf.loc[ix, \"Sales_t2\"]\n",
    "        sdf.loc[ix, \"Sales_t2\"] = sdf.loc[ix, \"Sales_t3\"]\n",
    "        sdf.loc[ix, \"Sales_t3\"] = sdf.loc[ix, \"Sales_t4\"]\n",
    "        sdf.loc[ix, \"Sales_t4\"] = sdf.loc[ix, \"Sales_t5\"]\n",
    "        sdf.loc[ix, \"Sales_t5\"] = sdf.loc[ix, \"Sales_t6\"]\n",
    "        sdf.loc[ix, \"Sales_t6\"] = sdf.loc[ix, \"Sales_t7\"]\n",
    "        sdf.loc[ix, \"Sales_t7\"] = sdf.loc[ix, \"zSales\"]\n",
    "        \n",
    "#         print(tempdf.tail(1))\n",
    "    "
   ]
  },
  {
   "cell_type": "code",
   "execution_count": null,
   "id": "2e5aee76",
   "metadata": {},
   "outputs": [],
   "source": [
    "len(predlist)"
   ]
  },
  {
   "cell_type": "code",
   "execution_count": null,
   "id": "d9560636",
   "metadata": {},
   "outputs": [],
   "source": [
    "outdf = pd.DataFrame(predlist).set_index(\"Date\")"
   ]
  },
  {
   "cell_type": "code",
   "execution_count": null,
   "id": "cd36fdc9",
   "metadata": {},
   "outputs": [],
   "source": [
    "outdf.head()"
   ]
  },
  {
   "cell_type": "code",
   "execution_count": null,
   "id": "e9908582",
   "metadata": {},
   "outputs": [],
   "source": [
    "outdf['zPred'] = mms.inverse_transform(np.array(outdf['Pred']).reshape(-1,1))"
   ]
  },
  {
   "cell_type": "code",
   "execution_count": null,
   "id": "6b359369",
   "metadata": {},
   "outputs": [],
   "source": [
    "testdf2 = pd.merge(testdf, outdf[[\"ID\", \"zPred\"]], on=\"ID\", how='left')"
   ]
  },
  {
   "cell_type": "code",
   "execution_count": null,
   "id": "66609ae5",
   "metadata": {},
   "outputs": [],
   "source": [
    "testdf2.dropna(inplace=True)"
   ]
  },
  {
   "cell_type": "code",
   "execution_count": null,
   "id": "cb30ade6",
   "metadata": {},
   "outputs": [],
   "source": [
    "testdf2['Pred'] = testdf2['zPred'].apply(lambda x : 0 if x<0 else x)"
   ]
  },
  {
   "cell_type": "code",
   "execution_count": null,
   "id": "202a8a74",
   "metadata": {},
   "outputs": [],
   "source": [
    "testdf2.head()"
   ]
  },
  {
   "cell_type": "code",
   "execution_count": null,
   "id": "73daafc8",
   "metadata": {},
   "outputs": [],
   "source": [
    "testdf2['Diff'] = testdf2['Pred'] / testdf2['Sales']"
   ]
  },
  {
   "cell_type": "code",
   "execution_count": null,
   "id": "406bd5c2",
   "metadata": {},
   "outputs": [],
   "source": [
    "testdf2['Pred_Signal'] = testdf2['Diff'].apply(lambda x : 'Acceptable' if (x < 1.1)&(x>0.9)  else 'NotAcceptable')"
   ]
  },
  {
   "cell_type": "code",
   "execution_count": null,
   "id": "6df33ce4",
   "metadata": {},
   "outputs": [],
   "source": [
    "testdf2['Pred_Signal'].value_counts()"
   ]
  },
  {
   "cell_type": "code",
   "execution_count": null,
   "id": "9a3653c5",
   "metadata": {},
   "outputs": [],
   "source": [
    "notacceptabledf = testdf2[testdf2['Pred_Signal']=='NotAcceptable']"
   ]
  },
  {
   "cell_type": "code",
   "execution_count": null,
   "id": "1b6b0c27",
   "metadata": {},
   "outputs": [],
   "source": [
    "pd.pivot_table(notacceptabledf, index=\"Store_id\", columns=\"Pred_Signal\", values=\"ID\", aggfunc='count', fill_value=0)"
   ]
  },
  {
   "cell_type": "code",
   "execution_count": null,
   "id": "1d99c5f2",
   "metadata": {},
   "outputs": [],
   "source": []
  },
  {
   "cell_type": "code",
   "execution_count": null,
   "id": "ce24c0cb",
   "metadata": {},
   "outputs": [],
   "source": [
    "negativedf = testdf2[testdf2['Pred'] <0]"
   ]
  },
  {
   "cell_type": "code",
   "execution_count": null,
   "id": "c0bd1400",
   "metadata": {},
   "outputs": [],
   "source": [
    "negativedf.shape"
   ]
  },
  {
   "cell_type": "code",
   "execution_count": null,
   "id": "996b827c",
   "metadata": {},
   "outputs": [],
   "source": []
  },
  {
   "cell_type": "code",
   "execution_count": null,
   "id": "d37a75aa",
   "metadata": {},
   "outputs": [],
   "source": [
    "testdf2.dropna(inplace=True)"
   ]
  },
  {
   "cell_type": "code",
   "execution_count": null,
   "id": "a8127b66",
   "metadata": {},
   "outputs": [],
   "source": [
    "mean_squared_log_error(testdf2['SalesBak'], testdf2['Pred'])*1000"
   ]
  },
  {
   "cell_type": "code",
   "execution_count": null,
   "id": "d41ab249",
   "metadata": {},
   "outputs": [],
   "source": [
    "359.1428448111441"
   ]
  },
  {
   "cell_type": "code",
   "execution_count": null,
   "id": "4b659ef3",
   "metadata": {},
   "outputs": [],
   "source": []
  },
  {
   "cell_type": "code",
   "execution_count": null,
   "id": "130d6a80",
   "metadata": {},
   "outputs": [],
   "source": []
  },
  {
   "cell_type": "code",
   "execution_count": null,
   "id": "63909d26",
   "metadata": {},
   "outputs": [],
   "source": []
  },
  {
   "cell_type": "markdown",
   "id": "79d09702",
   "metadata": {},
   "source": [
    "# Test "
   ]
  },
  {
   "cell_type": "code",
   "execution_count": null,
   "id": "6d9804d1",
   "metadata": {},
   "outputs": [],
   "source": [
    "combdf = testdf.loc['2019-03-01':'2019-05-31']"
   ]
  },
  {
   "cell_type": "code",
   "execution_count": null,
   "id": "b8a4b321",
   "metadata": {},
   "outputs": [],
   "source": [
    "combdf[combdf['Store_id']==1].shape"
   ]
  },
  {
   "cell_type": "code",
   "execution_count": null,
   "id": "89b3c70a",
   "metadata": {},
   "outputs": [],
   "source": [
    "combdf"
   ]
  },
  {
   "cell_type": "code",
   "execution_count": null,
   "id": "ab3eee29",
   "metadata": {},
   "outputs": [],
   "source": [
    "combdf.shape"
   ]
  },
  {
   "cell_type": "code",
   "execution_count": null,
   "id": "c8af5b69",
   "metadata": {},
   "outputs": [],
   "source": [
    "validdf = pd.read_csv(testfp)"
   ]
  },
  {
   "cell_type": "code",
   "execution_count": null,
   "id": "8a3f815d",
   "metadata": {},
   "outputs": [],
   "source": [
    "validdf2 = pipe.fit_transform(validdf)"
   ]
  },
  {
   "cell_type": "code",
   "execution_count": null,
   "id": "709752a5",
   "metadata": {},
   "outputs": [],
   "source": [
    "validdf2['Date'] = pd.to_datetime(validdf2['Date'])"
   ]
  },
  {
   "cell_type": "code",
   "execution_count": null,
   "id": "c6373daf",
   "metadata": {},
   "outputs": [],
   "source": [
    "validdf2.set_index(\"Date\", inplace=True)"
   ]
  },
  {
   "cell_type": "code",
   "execution_count": null,
   "id": "01ffba6f",
   "metadata": {},
   "outputs": [],
   "source": [
    "validdf2.shape"
   ]
  },
  {
   "cell_type": "code",
   "execution_count": null,
   "id": "86f9324c",
   "metadata": {},
   "outputs": [],
   "source": [
    "validdf2.shape[0] + combdf.shape[0]"
   ]
  },
  {
   "cell_type": "code",
   "execution_count": null,
   "id": "849e3dee",
   "metadata": {},
   "outputs": [],
   "source": [
    "mixdf = pd.concat([combdf, validdf2])"
   ]
  },
  {
   "cell_type": "code",
   "execution_count": null,
   "id": "451421cc",
   "metadata": {},
   "outputs": [],
   "source": [
    "mixdf.shape[0]"
   ]
  },
  {
   "cell_type": "code",
   "execution_count": null,
   "id": "849287a4",
   "metadata": {},
   "outputs": [],
   "source": [
    "mixdf['zSales'] = mixdf['Sales']"
   ]
  },
  {
   "cell_type": "code",
   "execution_count": null,
   "id": "0c3431fe",
   "metadata": {},
   "outputs": [],
   "source": []
  },
  {
   "cell_type": "code",
   "execution_count": null,
   "id": "0b7a3660",
   "metadata": {},
   "outputs": [],
   "source": [
    "mixdf.head()"
   ]
  },
  {
   "cell_type": "code",
   "execution_count": null,
   "id": "01adf070",
   "metadata": {},
   "outputs": [],
   "source": [
    "mixdf['zSales'].fillna(0, inplace=True)"
   ]
  },
  {
   "cell_type": "code",
   "execution_count": null,
   "id": "2d9a11ff",
   "metadata": {},
   "outputs": [],
   "source": [
    "mixdf['#Order'].fillna(0, inplace=True)"
   ]
  },
  {
   "cell_type": "code",
   "execution_count": null,
   "id": "c016a9b2",
   "metadata": {},
   "outputs": [],
   "source": [
    "mixdf['Sales_t1'].fillna(0, inplace=True)\n",
    "mixdf['Sales_t2'].fillna(0, inplace=True)\n",
    "mixdf['Sales_t3'].fillna(0, inplace=True)\n",
    "mixdf['Sales_t4'].fillna(0, inplace=True)\n",
    "mixdf['Sales_t5'].fillna(0, inplace=True)\n",
    "mixdf['Sales_t6'].fillna(0, inplace=True)\n",
    "mixdf['Sales_t7'].fillna(0, inplace=True)"
   ]
  },
  {
   "cell_type": "code",
   "execution_count": null,
   "id": "84a9c830",
   "metadata": {},
   "outputs": [],
   "source": [
    "mixdf.tail()"
   ]
  },
  {
   "cell_type": "code",
   "execution_count": null,
   "id": "d687f4c5",
   "metadata": {},
   "outputs": [],
   "source": []
  },
  {
   "cell_type": "code",
   "execution_count": null,
   "id": "92ea1c1e",
   "metadata": {},
   "outputs": [],
   "source": []
  },
  {
   "cell_type": "code",
   "execution_count": null,
   "id": "2683494a",
   "metadata": {},
   "outputs": [],
   "source": [
    "validdf2.head()"
   ]
  },
  {
   "cell_type": "code",
   "execution_count": null,
   "id": "04ef888e",
   "metadata": {},
   "outputs": [],
   "source": []
  },
  {
   "cell_type": "code",
   "execution_count": null,
   "id": "3416d41f",
   "metadata": {},
   "outputs": [],
   "source": [
    "predlist = []\n",
    "for sid in mixdf['Store_id'].unique().tolist():\n",
    "    sdf = mixdf[mixdf['Store_id']==sid]\n",
    "    for ix in [x for x in sdf.index.strftime(\"%Y-%m-%d\").tolist() if x > \"2019-05-31\"]:\n",
    "        tempdf = sdf.loc[:ix]\n",
    "        tempdf.drop(\"Sales\", axis=1, inplace=True)\n",
    "        tempdf.drop(\"SalesBak\", axis=1, inplace=True)\n",
    "        tempdf = tempdf[-90:]\n",
    "        \n",
    "        tempdf[\"7SMA\"] = tempdf.groupby(\"Store_id\")['zSales'].rolling(window=7).mean().reset_index(0,drop=True)\n",
    "        tempdf[\"7EMA\"] = tempdf.groupby(\"Store_id\")['zSales'].ewm(span=7).mean().reset_index(0,drop=True)\n",
    "\n",
    "        tempdf[\"14SMA\"] = tempdf.groupby(\"Store_id\")['zSales'].rolling(window=14).mean().reset_index(0,drop=True)\n",
    "        tempdf[\"14EMA\"] = tempdf.groupby(\"Store_id\")['zSales'].ewm(span=14).mean().reset_index(0,drop=True)\n",
    "        \n",
    "        tempdf[\"60SMA\"] = tempdf.rolling(window=60)['zSales'].mean()\n",
    "        tempdf[\"60EMA\"] = tempdf.ewm(span=60)['zSales'].mean()\n",
    "\n",
    "        tempdf[\"30SMA\"] = tempdf.rolling(window=30)['zSales'].mean()\n",
    "        tempdf[\"30EMA\"] = tempdf.ewm(span=30)['zSales'].mean()\n",
    "\n",
    "        tempdf[\"90SMA\"] = tempdf.rolling(window=90)['zSales'].mean()\n",
    "        tempdf[\"90EMA\"] = tempdf.ewm(span=90)['zSales'].mean()\n",
    "#         print(tempdf.head())\n",
    "#         print(tempdf.tail())\n",
    "        tempdf.dropna(inplace=True)\n",
    "#         print(ix)\n",
    "#         print(tempdf.shape)\n",
    "#         print(tempdf)\n",
    "        texog = tempdf.loc[:, ('Store_id', 'DayOfWeek', 'StoreCat', 'Discount', 'Holiday',\n",
    "                               'Sales_t1', 'Sales_t2', 'Sales_t3', 'Sales_t4', 'Sales_t5', 'Sales_t6', 'Sales_t7',\n",
    "                                      \"7SMA\",\"7EMA\", \"14SMA\", \"14EMA\",\n",
    "                               \"30SMA\", \"60SMA\", \"90SMA\", \"30EMA\", \"60EMA\", \"90EMA\")]\n",
    "#         print(texog.dtypes)\n",
    "        pred = model_svr.predict(texog)\n",
    "        predlist.append({\"ID\":tempdf.iloc[0, 0],\"Date\":ix, \"Pred\":pred.tolist()[0]})\n",
    "        sdf.loc[ix, \"zSales\"] = pred.tolist()[0]\n",
    "        sdf.loc[ix, \"Sales_t1\"] = sdf.loc[ix, \"Sales_t2\"]\n",
    "        sdf.loc[ix, \"Sales_t2\"] = sdf.loc[ix, \"Sales_t3\"]\n",
    "        sdf.loc[ix, \"Sales_t3\"] = sdf.loc[ix, \"Sales_t4\"]\n",
    "        sdf.loc[ix, \"Sales_t4\"] = sdf.loc[ix, \"Sales_t5\"]\n",
    "        sdf.loc[ix, \"Sales_t5\"] = sdf.loc[ix, \"Sales_t6\"]\n",
    "        sdf.loc[ix, \"Sales_t6\"] = sdf.loc[ix, \"Sales_t7\"]\n",
    "        sdf.loc[ix, \"Sales_t7\"] = sdf.loc[ix, \"zSales\"]\n",
    "#         print(tempdf.tail(1))\n"
   ]
  },
  {
   "cell_type": "code",
   "execution_count": null,
   "id": "343d5e46",
   "metadata": {},
   "outputs": [],
   "source": [
    "outdf = pd.DataFrame(predlist).set_index(\"Date\")"
   ]
  },
  {
   "cell_type": "code",
   "execution_count": null,
   "id": "cbb7ccad",
   "metadata": {},
   "outputs": [],
   "source": [
    "outdf['zPred'] = mms.inverse_transform(np.array(outdf['Pred']).reshape(-1,1))"
   ]
  },
  {
   "cell_type": "code",
   "execution_count": null,
   "id": "a040a8b4",
   "metadata": {},
   "outputs": [],
   "source": [
    "validmixdf = pd.merge(validdf, outdf[[\"ID\", \"zPred\"]], on=\"ID\", how='left')"
   ]
  },
  {
   "cell_type": "code",
   "execution_count": null,
   "id": "885d2ac8",
   "metadata": {},
   "outputs": [],
   "source": [
    "validmixdf['Sales'] = validmixdf['zPred'].apply(lambda x : 0 if x<0 else x)"
   ]
  },
  {
   "cell_type": "code",
   "execution_count": null,
   "id": "213931b3",
   "metadata": {},
   "outputs": [],
   "source": [
    "validmixdf[[\"ID\", \"Sales\"]].to_csv(\"Submission_{}.csv\".format(datetime.now().microsecond), index=None)"
   ]
  },
  {
   "cell_type": "code",
   "execution_count": null,
   "id": "8e6ac865",
   "metadata": {},
   "outputs": [],
   "source": []
  }
 ],
 "metadata": {
  "kernelspec": {
   "display_name": "Python 3",
   "language": "python",
   "name": "python3"
  },
  "language_info": {
   "codemirror_mode": {
    "name": "ipython",
    "version": 3
   },
   "file_extension": ".py",
   "mimetype": "text/x-python",
   "name": "python",
   "nbconvert_exporter": "python",
   "pygments_lexer": "ipython3",
   "version": "3.9.4"
  }
 },
 "nbformat": 4,
 "nbformat_minor": 5
}
