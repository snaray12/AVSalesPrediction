{
 "cells": [
  {
   "cell_type": "code",
   "execution_count": null,
   "id": "a5bebf2b",
   "metadata": {},
   "outputs": [],
   "source": [
    "import pandas as pd\n",
    "import numpy as np\n",
    "import seaborn as sns\n"
   ]
  },
  {
   "cell_type": "code",
   "execution_count": null,
   "id": "4a76eff2",
   "metadata": {},
   "outputs": [],
   "source": [
    "import os"
   ]
  },
  {
   "cell_type": "code",
   "execution_count": null,
   "id": "b48c7dac",
   "metadata": {},
   "outputs": [],
   "source": [
    "from datetime import datetime"
   ]
  },
  {
   "cell_type": "code",
   "execution_count": null,
   "id": "67c6c048",
   "metadata": {},
   "outputs": [],
   "source": [
    "import matplotlib.pyplot as plt\n",
    "from matplotlib.patches import Patch"
   ]
  },
  {
   "cell_type": "code",
   "execution_count": null,
   "id": "f993f924",
   "metadata": {},
   "outputs": [],
   "source": [
    "from sklearn.linear_model import LinearRegression\n",
    "from sklearn.preprocessing import LabelEncoder, OneHotEncoder,MinMaxScaler\n",
    "from sklearn.metrics import mean_squared_log_error\n",
    "\n",
    "from sklearn.pipeline import Pipeline\n",
    "from sklearn.base import BaseEstimator, TransformerMixin\n",
    "from sklearn.compose import ColumnTransformer, make_column_transformer"
   ]
  },
  {
   "cell_type": "code",
   "execution_count": null,
   "id": "3621ba7c",
   "metadata": {},
   "outputs": [],
   "source": [
    "from sklearn.model_selection import TimeSeriesSplit"
   ]
  },
  {
   "cell_type": "code",
   "execution_count": null,
   "id": "497b2ccb",
   "metadata": {},
   "outputs": [],
   "source": []
  },
  {
   "cell_type": "code",
   "execution_count": null,
   "id": "419787c8",
   "metadata": {},
   "outputs": [],
   "source": [
    "import statsmodels.api as sm\n",
    "from statsmodels.api import OLS\n",
    "from statsmodels.graphics.tsaplots import plot_acf, plot_pacf"
   ]
  },
  {
   "cell_type": "code",
   "execution_count": null,
   "id": "6e608cef",
   "metadata": {},
   "outputs": [],
   "source": [
    "plt.rcParams.update({'figure.max_open_warning': 0})\n",
    "plt.style.use('fivethirtyeight')\n",
    "cmap_data = plt.cm.Paired\n",
    "cmap_cv = plt.cm.coolwarm"
   ]
  },
  {
   "cell_type": "code",
   "execution_count": null,
   "id": "b7ec8c00",
   "metadata": {},
   "outputs": [],
   "source": [
    "def plot_cv_indices(cv, n_splits, X, y, date_col = None):\n",
    "    \"\"\"Create a sample plot for indices of a cross-validation object.\"\"\"\n",
    "    \n",
    "    fig, ax = plt.subplots(1, 1, figsize = (11, 7))\n",
    "    \n",
    "    # Generate the training/testing visualizations for each CV split\n",
    "    for ii, (tr, tt) in enumerate(cv.split(X=X, y=y)):\n",
    "        # Fill in indices with the training/test groups\n",
    "        indices = np.array([np.nan] * len(X))\n",
    "        indices[tt] = 1\n",
    "        indices[tr] = 0\n",
    "\n",
    "        # Visualize the results\n",
    "        ax.scatter(range(len(indices)), [ii + .5] * len(indices),\n",
    "                   c=indices, marker='_', lw=10, cmap=cmap_cv,\n",
    "                   vmin=-.2, vmax=1.2)\n",
    "\n",
    "\n",
    "    # Formatting\n",
    "    yticklabels = list(range(n_splits))\n",
    "    \n",
    "    if date_col is not None:\n",
    "        tick_locations  = ax.get_xticks()\n",
    "        tick_dates = [\" \"] + date_col.iloc[list(tick_locations[1:-1])].astype(str).tolist() + [\" \"]\n",
    "\n",
    "        tick_locations_str = [str(int(i)) for i in tick_locations]\n",
    "        new_labels = ['\\n\\n'.join(x) for x in zip(list(tick_locations_str), tick_dates) ]\n",
    "        ax.set_xticks(tick_locations)\n",
    "        ax.set_xticklabels(new_labels)\n",
    "    \n",
    "#     ax.set(yticks=np.arange(n_splits+2) + .5, yticklabels=yticklabels,\n",
    "#            xlabel='Sample index', ylabel=\"CV iteration\",\n",
    "#            ylim=[n_splits+0.2, -.2])\n",
    "    ax.legend([Patch(color=cmap_cv(.8)), Patch(color=cmap_cv(.02))],\n",
    "              ['Testing set', 'Training set'], loc=(1.02, .8))\n",
    "    ax.set_title('{}'.format(type(cv).__name__), fontsize=15)\n",
    "    "
   ]
  },
  {
   "cell_type": "code",
   "execution_count": null,
   "id": "ce02a6cd",
   "metadata": {},
   "outputs": [],
   "source": [
    "class StoreCatTransformer(BaseEstimator, TransformerMixin):\n",
    "    def __init__(self, input_features = [], feature_name = \"StoreCat\"):\n",
    "        print(\"\\n>>>>>>>>>>init() called.\\n\")\n",
    "        self.feature_name = feature_name\n",
    "        self.input_features = input_features\n",
    "        \n",
    "    def fit(self, X, y=None):\n",
    "        print(\"\\n>>>>>>>>>>fit() called.\\n\")\n",
    "        return self\n",
    "    \n",
    "    def transform(self, X, y = None):\n",
    "        print(\"\\n>>>>>>>>>>transform() called.\\n\")\n",
    "        X_ = X.copy()\n",
    "        X_[self.feature_name] = ''\n",
    "        for col in self.input_features:\n",
    "            X_[self.feature_name] = X_[self.feature_name] + X_[col]\n",
    "        le = LabelEncoder()\n",
    "        X_[self.feature_name] = le.fit_transform(X_[self.feature_name])\n",
    "        return X_"
   ]
  },
  {
   "cell_type": "code",
   "execution_count": null,
   "id": "6fe03c67",
   "metadata": {},
   "outputs": [],
   "source": [
    "class DayOfWeekTransformer(BaseEstimator, TransformerMixin):\n",
    "    def __init__(self):\n",
    "        print(\"\\n>>>>>>>>>>init() called.\\n\")\n",
    "        self.dayOfWeekDict = {0:\"Monday\",\n",
    "                 1:\"Tuesday\",\n",
    "                 2:\"Wednesday\",\n",
    "                 3:\"Thursday\",\n",
    "                 4:\"Friday\",\n",
    "                 5:\"Saturday\",\n",
    "                 6:\"Sunday\"}\n",
    "        \n",
    "    def fit(self, X, y=None):\n",
    "        print(\"\\n>>>>>>>>>>fit() called.\\n\")\n",
    "        return self\n",
    "    \n",
    "    def transform(self, X, y = None):\n",
    "        print(\"\\n>>>>>>>>>>transform() called.\\n\")\n",
    "        X_ = X.copy()\n",
    "        X_['Date'] = pd.to_datetime(X_['Date'])\n",
    "        X_['Year'] = X_['Date'].dt.year\n",
    "        X_['Month'] = X_['Date'].dt.month\n",
    "        X_['DayOfWeek'] = X_['Date'].dt.dayofweek\n",
    "        X_['DayOfWeek'] = X_['DayOfWeek'].apply(lambda x : self.dayOfWeekDict.get(x))\n",
    "        le = LabelEncoder()\n",
    "        X_[\"DayOfWeek\"] = le.fit_transform(X_[\"DayOfWeek\"])\n",
    "        return X_"
   ]
  },
  {
   "cell_type": "code",
   "execution_count": null,
   "id": "487fe042",
   "metadata": {},
   "outputs": [],
   "source": [
    "class CustomLabelEncode(BaseEstimator, TransformerMixin):\n",
    "    def __init__(self, feature):\n",
    "        self.feature = feature\n",
    "        \n",
    "    def fit(self, X, y=None):\n",
    "        return self\n",
    "    def transform(self, X, y=None):\n",
    "        X_ = X.copy()\n",
    "        X_[self.feature] = LabelEncoder().fit_transform(X_[self.feature])\n",
    "        return X_"
   ]
  },
  {
   "cell_type": "code",
   "execution_count": null,
   "id": "7ebd5ee2",
   "metadata": {},
   "outputs": [],
   "source": [
    "filename = \"TRAIN.csv\"\n",
    "testfilename = \"TEST_FINAL.csv\""
   ]
  },
  {
   "cell_type": "code",
   "execution_count": null,
   "id": "f3102d73",
   "metadata": {},
   "outputs": [],
   "source": [
    "homedir = os.path.abspath(os.path.dirname(\"__name__\"))"
   ]
  },
  {
   "cell_type": "code",
   "execution_count": null,
   "id": "311a444f",
   "metadata": {},
   "outputs": [],
   "source": [
    "fp = os.path.join(homedir, filename)\n",
    "testfp = os.path.join(homedir, testfilename)"
   ]
  },
  {
   "cell_type": "code",
   "execution_count": null,
   "id": "8ef79ef1",
   "metadata": {},
   "outputs": [],
   "source": []
  },
  {
   "cell_type": "code",
   "execution_count": null,
   "id": "7846eced",
   "metadata": {},
   "outputs": [],
   "source": [
    "mms = MinMaxScaler()"
   ]
  },
  {
   "cell_type": "code",
   "execution_count": null,
   "id": "b9a9b89d",
   "metadata": {},
   "outputs": [],
   "source": []
  },
  {
   "cell_type": "code",
   "execution_count": null,
   "id": "7edf09e1",
   "metadata": {},
   "outputs": [],
   "source": [
    "df = pd.read_csv(fp)\n"
   ]
  },
  {
   "cell_type": "code",
   "execution_count": null,
   "id": "ff29c4b2",
   "metadata": {},
   "outputs": [],
   "source": [
    "df.head()"
   ]
  },
  {
   "cell_type": "code",
   "execution_count": null,
   "id": "8b248497",
   "metadata": {},
   "outputs": [],
   "source": [
    "preprocessor = ColumnTransformer(\n",
    "    transformers=[\n",
    "        \n",
    "        (\"DiscountEncoder\", CustomLabelEncode(\"Discount\"))\n",
    "    ], remainder='passthrough'\n",
    ")"
   ]
  },
  {
   "cell_type": "code",
   "execution_count": null,
   "id": "44456b36",
   "metadata": {},
   "outputs": [],
   "source": [
    "mycols = ['Store_id', \"Date\", \"Holiday\", \"Discount\", \"StoreCat\", \"DayOfWeek\"]"
   ]
  },
  {
   "cell_type": "code",
   "execution_count": null,
   "id": "e5da25b8",
   "metadata": {},
   "outputs": [],
   "source": [
    "pipe = Pipeline(steps = [\n",
    "    (\"preprocess\",CustomLabelEncode(\"Discount\")),\n",
    "    (\"transform1\", StoreCatTransformer([\"Store_Type\", \"Location_Type\", \"Region_Code\"], \"StoreCat\")),\n",
    "    (\"transform2\", DayOfWeekTransformer()),\n",
    "#     (\"selector\", ColumnTransformer([\n",
    "#         (\"selector\", \"passthrough\", mycols)\n",
    "#     ], remainder=\"drop\")),\n",
    "    \n",
    "])"
   ]
  },
  {
   "cell_type": "code",
   "execution_count": null,
   "id": "f1d0318d",
   "metadata": {},
   "outputs": [],
   "source": [
    "df2 = pipe.fit_transform(df)"
   ]
  },
  {
   "cell_type": "code",
   "execution_count": null,
   "id": "977aa149",
   "metadata": {},
   "outputs": [],
   "source": []
  },
  {
   "cell_type": "code",
   "execution_count": null,
   "id": "029401ea",
   "metadata": {},
   "outputs": [],
   "source": []
  },
  {
   "cell_type": "code",
   "execution_count": null,
   "id": "350272fc",
   "metadata": {},
   "outputs": [],
   "source": []
  },
  {
   "cell_type": "code",
   "execution_count": null,
   "id": "f22f0ed8",
   "metadata": {},
   "outputs": [],
   "source": [
    "df2.head()"
   ]
  },
  {
   "cell_type": "code",
   "execution_count": null,
   "id": "4cdc3d84",
   "metadata": {},
   "outputs": [],
   "source": [
    "df2['Date'] = pd.to_datetime(df2['Date'])"
   ]
  },
  {
   "cell_type": "code",
   "execution_count": null,
   "id": "2c70b513",
   "metadata": {},
   "outputs": [],
   "source": [
    "df2.dtypes"
   ]
  },
  {
   "cell_type": "code",
   "execution_count": null,
   "id": "999fe439",
   "metadata": {},
   "outputs": [],
   "source": [
    "df2.columns"
   ]
  },
  {
   "cell_type": "code",
   "execution_count": null,
   "id": "447be063",
   "metadata": {},
   "outputs": [],
   "source": [
    "traindf = df2.loc[\"2018-01-01\":\"2018-12-31\"]\n",
    "testdf = df2.loc[\"2018-10-01\":\"2019-05-31\"]\n",
    "\n",
    "\n",
    "# traindf =storedf[:trainlen] \n",
    "# testdf = storedf[trainlen:] "
   ]
  },
  {
   "cell_type": "code",
   "execution_count": null,
   "id": "7c29b0c9",
   "metadata": {},
   "outputs": [],
   "source": [
    "traindf.reset_index(inplace=True)"
   ]
  },
  {
   "cell_type": "code",
   "execution_count": null,
   "id": "9f59c6b3",
   "metadata": {},
   "outputs": [],
   "source": [
    "traindf[\"60SMA\"] = traindf.groupby(\"Store_id\")['Sales'].rolling(window=60).mean().reset_index(0,drop=True)\n",
    "traindf[\"60EMA\"] = traindf.groupby(\"Store_id\")['Sales'].ewm(span=60).mean().reset_index(0,drop=True)\n",
    "\n",
    "traindf[\"30SMA\"] = traindf.groupby(\"Store_id\")['Sales'].rolling(window=30).mean().reset_index(0,drop=True)\n",
    "traindf[\"30EMA\"] = traindf.groupby(\"Store_id\")['Sales'].ewm(span=30).mean().reset_index(0,drop=True)\n",
    "\n",
    "traindf[\"90SMA\"] = traindf.groupby(\"Store_id\")['Sales'].rolling(window=90).mean().reset_index(0,drop=True)\n",
    "traindf[\"90EMA\"] = traindf.groupby(\"Store_id\")['Sales'].ewm(span=90).mean().reset_index(0,drop=True)"
   ]
  },
  {
   "cell_type": "code",
   "execution_count": null,
   "id": "7c4863af",
   "metadata": {},
   "outputs": [],
   "source": [
    "traindf.set_index(\"Date\", inplace=True)"
   ]
  },
  {
   "cell_type": "code",
   "execution_count": null,
   "id": "b03c2446",
   "metadata": {},
   "outputs": [],
   "source": [
    "traindf.dropna(inplace=True)"
   ]
  },
  {
   "cell_type": "code",
   "execution_count": null,
   "id": "ef79c59a",
   "metadata": {},
   "outputs": [],
   "source": [
    "yval = mms.fit_transform(np.array(traindf['Sales']).reshape(-1,1))"
   ]
  },
  {
   "cell_type": "code",
   "execution_count": null,
   "id": "020daa22",
   "metadata": {},
   "outputs": [],
   "source": [
    "endog = yval#traindf.loc[:, 'Sales']\n",
    "exog = traindf.loc[:, ('Store_id', 'DayOfWeek', 'StoreCat', 'Discount', 'Holiday', \n",
    "                                       \"30SMA\", \"60SMA\", \"90SMA\", \"30EMA\", \"60EMA\", \"90EMA\")]"
   ]
  },
  {
   "cell_type": "code",
   "execution_count": null,
   "id": "aec06b66",
   "metadata": {},
   "outputs": [],
   "source": [
    "exog.dtypes"
   ]
  },
  {
   "cell_type": "code",
   "execution_count": null,
   "id": "1a46e5cb",
   "metadata": {},
   "outputs": [],
   "source": [
    "# Fit the model\n",
    "mod = sm.tsa.statespace.SARIMAX(endog, exog, order=(1,0,1))\n",
    "res = mod.fit(disp=False)\n",
    "print(res.summary())"
   ]
  },
  {
   "cell_type": "code",
   "execution_count": null,
   "id": "c539327a",
   "metadata": {},
   "outputs": [],
   "source": []
  },
  {
   "cell_type": "code",
   "execution_count": null,
   "id": "1187a90c",
   "metadata": {},
   "outputs": [],
   "source": [
    "testdf['zSales'] = testdf['Sales']\n"
   ]
  },
  {
   "cell_type": "code",
   "execution_count": null,
   "id": "5610d0eb",
   "metadata": {
    "scrolled": false
   },
   "outputs": [],
   "source": [
    "testdf.loc[\"2019-01-01\":\"2019-05-31\", \"zSales\"] = 0"
   ]
  },
  {
   "cell_type": "code",
   "execution_count": null,
   "id": "57b23f8f",
   "metadata": {},
   "outputs": [],
   "source": [
    "testdf.head()"
   ]
  },
  {
   "cell_type": "code",
   "execution_count": null,
   "id": "c797d285",
   "metadata": {},
   "outputs": [],
   "source": [
    "import warnings\n",
    "warnings.simplefilter(action='ignore', category=FutureWarning)"
   ]
  },
  {
   "cell_type": "code",
   "execution_count": null,
   "id": "1438dbee",
   "metadata": {},
   "outputs": [],
   "source": [
    "pd.options.mode.chained_assignment = None "
   ]
  },
  {
   "cell_type": "code",
   "execution_count": null,
   "id": "44600a9e",
   "metadata": {},
   "outputs": [],
   "source": [
    "predlist = []\n",
    "for sid in testdf['Store_id'].unique().tolist():\n",
    "    sdf = testdf[testdf['Store_id']==sid]\n",
    "    for ix in [x for x in sdf.index.strftime(\"%Y-%m-%d\").tolist() if x > \"2018-12-31\"]:\n",
    "        tempdf = sdf.loc[:ix]\n",
    "        tempdf = tempdf[-90:]\n",
    "        \n",
    "        tempdf[\"60SMA\"] = tempdf.rolling(window=60)['zSales'].mean()\n",
    "        tempdf[\"60EMA\"] = tempdf.ewm(span=60)['zSales'].mean()\n",
    "\n",
    "        tempdf[\"30SMA\"] = tempdf.rolling(window=30)['zSales'].mean()\n",
    "        tempdf[\"30EMA\"] = tempdf.ewm(span=30)['zSales'].mean()\n",
    "\n",
    "        tempdf[\"90SMA\"] = tempdf.rolling(window=90)['zSales'].mean()\n",
    "        tempdf[\"90EMA\"] = tempdf.ewm(span=90)['zSales'].mean()\n",
    "        tempdf.dropna(inplace=True)\n",
    "#         print(ix)\n",
    "#         print(tempdf.shape)\n",
    "#         print(tempdf)\n",
    "        texog = sm.add_constant(tempdf.loc[:, ('Store_id', 'DayOfWeek', 'StoreCat', 'Discount', 'Holiday',\n",
    "                                      \"30SMA\", \"60SMA\", \"90SMA\", \"30EMA\", \"60EMA\", \"90EMA\")])\n",
    "#         print(texog.dtypes)\n",
    "        pred = res.forecast(exog=texog, steps=len(texog))\n",
    "        predlist.append({\"ID\":tempdf.iloc[0, 0],\"Date\":ix, \"Pred\":pred.tolist()[0]})\n",
    "        sdf.loc[ix, \"zSales\"] = pred.tolist()[0]\n",
    "        \n",
    "#         print(tempdf.tail(1))\n",
    "    "
   ]
  },
  {
   "cell_type": "code",
   "execution_count": null,
   "id": "2e5aee76",
   "metadata": {},
   "outputs": [],
   "source": [
    "len(predlist)"
   ]
  },
  {
   "cell_type": "code",
   "execution_count": null,
   "id": "d9560636",
   "metadata": {},
   "outputs": [],
   "source": [
    "outdf = pd.DataFrame(predlist).set_index(\"Date\")"
   ]
  },
  {
   "cell_type": "code",
   "execution_count": null,
   "id": "cd36fdc9",
   "metadata": {},
   "outputs": [],
   "source": [
    "outdf.head()"
   ]
  },
  {
   "cell_type": "code",
   "execution_count": null,
   "id": "e9908582",
   "metadata": {},
   "outputs": [],
   "source": [
    "outdf['zPred'] = mms.inverse_transform(np.array(outdf['Pred']).reshape(-1,1))"
   ]
  },
  {
   "cell_type": "code",
   "execution_count": null,
   "id": "6b359369",
   "metadata": {},
   "outputs": [],
   "source": [
    "testdf2 = pd.merge(testdf, outdf[[\"ID\", \"zPred\"]], on=\"ID\", how='left')"
   ]
  },
  {
   "cell_type": "code",
   "execution_count": null,
   "id": "66609ae5",
   "metadata": {},
   "outputs": [],
   "source": [
    "testdf2.dropna(inplace=True)"
   ]
  },
  {
   "cell_type": "code",
   "execution_count": null,
   "id": "cb30ade6",
   "metadata": {},
   "outputs": [],
   "source": [
    "testdf2['Pred'] = testdf2['zPred'].apply(lambda x : 0 if x<0 else x)"
   ]
  },
  {
   "cell_type": "code",
   "execution_count": null,
   "id": "202a8a74",
   "metadata": {},
   "outputs": [],
   "source": [
    "testdf2.head()"
   ]
  },
  {
   "cell_type": "code",
   "execution_count": null,
   "id": "ce24c0cb",
   "metadata": {},
   "outputs": [],
   "source": [
    "negativedf = testdf2[testdf2['Pred'] <0]"
   ]
  },
  {
   "cell_type": "code",
   "execution_count": null,
   "id": "c0bd1400",
   "metadata": {},
   "outputs": [],
   "source": [
    "negativedf.shape"
   ]
  },
  {
   "cell_type": "code",
   "execution_count": null,
   "id": "ca0054b1",
   "metadata": {},
   "outputs": [],
   "source": [
    "negativedf.Store_id.value_counts()"
   ]
  },
  {
   "cell_type": "code",
   "execution_count": null,
   "id": "1bce0b7e",
   "metadata": {},
   "outputs": [],
   "source": [
    "negativedf.StoreCat.value_counts()"
   ]
  },
  {
   "cell_type": "code",
   "execution_count": null,
   "id": "57bfd3a5",
   "metadata": {},
   "outputs": [],
   "source": [
    "negativedf.Holiday.value_counts()"
   ]
  },
  {
   "cell_type": "code",
   "execution_count": null,
   "id": "19051197",
   "metadata": {},
   "outputs": [],
   "source": [
    "negativedf.Discount.value_counts()"
   ]
  },
  {
   "cell_type": "code",
   "execution_count": null,
   "id": "66c95362",
   "metadata": {},
   "outputs": [],
   "source": [
    "negativedf.DayOfWeek.value_counts()"
   ]
  },
  {
   "cell_type": "code",
   "execution_count": null,
   "id": "996b827c",
   "metadata": {},
   "outputs": [],
   "source": []
  },
  {
   "cell_type": "code",
   "execution_count": null,
   "id": "d37a75aa",
   "metadata": {},
   "outputs": [],
   "source": [
    "testdf2.dropna(inplace=True)"
   ]
  },
  {
   "cell_type": "code",
   "execution_count": null,
   "id": "a8127b66",
   "metadata": {},
   "outputs": [],
   "source": [
    "mean_squared_log_error(testdf2['Sales'], testdf2['Pred'])*1000"
   ]
  },
  {
   "cell_type": "code",
   "execution_count": null,
   "id": "63909d26",
   "metadata": {},
   "outputs": [],
   "source": []
  },
  {
   "cell_type": "code",
   "execution_count": null,
   "id": "b6ab924d",
   "metadata": {},
   "outputs": [],
   "source": [
    "store1 = testdf[testdf['Store_id']==1]\n",
    "store1[92:93]"
   ]
  },
  {
   "cell_type": "code",
   "execution_count": null,
   "id": "eced7c97",
   "metadata": {},
   "outputs": [],
   "source": [
    "testdf[\"60SMA\"] = testdf.rolling(window=60)['zSales'].mean()\n",
    "testdf[\"60EMA\"] = testdf.ewm(span=60)['zSales'].mean()\n",
    "\n",
    "testdf[\"30SMA\"] = testdf.rolling(window=30)['zSales'].mean()\n",
    "testdf[\"30EMA\"] = testdf.ewm(span=30)['zSales'].mean()\n",
    "\n",
    "testdf[\"90SMA\"] = testdf.rolling(window=90)['zSales'].mean()\n",
    "testdf[\"90EMA\"] = testdf.ewm(span=90)['zSales'].mean()"
   ]
  },
  {
   "cell_type": "code",
   "execution_count": null,
   "id": "d82900ce",
   "metadata": {},
   "outputs": [],
   "source": [
    "texog = sm.add_constant(testdf.loc[:, ('Store_id', 'DayOfWeek', 'StoreCat', 'Discount', 'Holiday',\n",
    "                                      \"30SMA\", \"60SMA\", \"90SMA\", \"30EMA\", \"60EMA\", \"90EMA\")])"
   ]
  },
  {
   "cell_type": "code",
   "execution_count": null,
   "id": "a284d308",
   "metadata": {},
   "outputs": [],
   "source": [
    "pred = res.forecast(exog=texog, steps=len(texog))"
   ]
  },
  {
   "cell_type": "code",
   "execution_count": null,
   "id": "664f8606",
   "metadata": {},
   "outputs": [],
   "source": [
    "testdf['pred'] = pred.tolist()"
   ]
  },
  {
   "cell_type": "code",
   "execution_count": null,
   "id": "3db2b967",
   "metadata": {},
   "outputs": [],
   "source": [
    "testdf[testdf['pred']<0]"
   ]
  },
  {
   "cell_type": "code",
   "execution_count": null,
   "id": "64a23bdb",
   "metadata": {},
   "outputs": [],
   "source": [
    "mean_squared_log_error(testdf['Sales'], testdf['pred'])*1000"
   ]
  },
  {
   "cell_type": "code",
   "execution_count": null,
   "id": "67439e8b",
   "metadata": {},
   "outputs": [],
   "source": []
  },
  {
   "cell_type": "markdown",
   "id": "79d09702",
   "metadata": {},
   "source": [
    "# Test "
   ]
  },
  {
   "cell_type": "code",
   "execution_count": null,
   "id": "6d9804d1",
   "metadata": {},
   "outputs": [],
   "source": [
    "combdf = testdf.loc['2019-03-01':'2019-05-31']"
   ]
  },
  {
   "cell_type": "code",
   "execution_count": null,
   "id": "b8a4b321",
   "metadata": {},
   "outputs": [],
   "source": [
    "combdf[combdf['Store_id']==1].shape"
   ]
  },
  {
   "cell_type": "code",
   "execution_count": null,
   "id": "89b3c70a",
   "metadata": {},
   "outputs": [],
   "source": [
    "combdf"
   ]
  },
  {
   "cell_type": "code",
   "execution_count": null,
   "id": "ab3eee29",
   "metadata": {},
   "outputs": [],
   "source": [
    "combdf.shape"
   ]
  },
  {
   "cell_type": "code",
   "execution_count": null,
   "id": "01ffba6f",
   "metadata": {},
   "outputs": [],
   "source": [
    "validdf2.shape"
   ]
  },
  {
   "cell_type": "code",
   "execution_count": null,
   "id": "86f9324c",
   "metadata": {},
   "outputs": [],
   "source": [
    "validdf2.shape[0] + combdf.shape[0]"
   ]
  },
  {
   "cell_type": "code",
   "execution_count": null,
   "id": "849e3dee",
   "metadata": {},
   "outputs": [],
   "source": [
    "mixdf = pd.concat([combdf, validdf2])"
   ]
  },
  {
   "cell_type": "code",
   "execution_count": null,
   "id": "451421cc",
   "metadata": {},
   "outputs": [],
   "source": [
    "mixdf.shape[0]"
   ]
  },
  {
   "cell_type": "code",
   "execution_count": null,
   "id": "849287a4",
   "metadata": {},
   "outputs": [],
   "source": [
    "mixdf['zSales'] = mixdf['Sales']"
   ]
  },
  {
   "cell_type": "code",
   "execution_count": null,
   "id": "0b7a3660",
   "metadata": {},
   "outputs": [],
   "source": [
    "mixdf.head()"
   ]
  },
  {
   "cell_type": "code",
   "execution_count": null,
   "id": "01adf070",
   "metadata": {},
   "outputs": [],
   "source": [
    "mixdf['zSales'].fillna(0, inplace=True)"
   ]
  },
  {
   "cell_type": "code",
   "execution_count": null,
   "id": "2d9a11ff",
   "metadata": {},
   "outputs": [],
   "source": [
    "mixdf['#Order'].fillna(0, inplace=True)"
   ]
  },
  {
   "cell_type": "code",
   "execution_count": null,
   "id": "84a9c830",
   "metadata": {},
   "outputs": [],
   "source": [
    "mixdf.tail()"
   ]
  },
  {
   "cell_type": "code",
   "execution_count": null,
   "id": "d687f4c5",
   "metadata": {},
   "outputs": [],
   "source": []
  },
  {
   "cell_type": "code",
   "execution_count": null,
   "id": "ba5bd328",
   "metadata": {},
   "outputs": [],
   "source": [
    "validdf = pd.read_csv(testfp)"
   ]
  },
  {
   "cell_type": "code",
   "execution_count": null,
   "id": "b6103145",
   "metadata": {},
   "outputs": [],
   "source": [
    "validdf2 = pipe.fit_transform(validdf)"
   ]
  },
  {
   "cell_type": "code",
   "execution_count": null,
   "id": "92ea1c1e",
   "metadata": {},
   "outputs": [],
   "source": []
  },
  {
   "cell_type": "code",
   "execution_count": null,
   "id": "2683494a",
   "metadata": {},
   "outputs": [],
   "source": [
    "validdf2.head()"
   ]
  },
  {
   "cell_type": "code",
   "execution_count": null,
   "id": "50b5eaae",
   "metadata": {},
   "outputs": [],
   "source": [
    "validdf2['Date'] = pd.to_datetime(validdf2['Date'])"
   ]
  },
  {
   "cell_type": "code",
   "execution_count": null,
   "id": "45a2fd3d",
   "metadata": {},
   "outputs": [],
   "source": [
    "validdf2.set_index(\"Date\", inplace=True)"
   ]
  },
  {
   "cell_type": "code",
   "execution_count": null,
   "id": "cd83b5f6",
   "metadata": {},
   "outputs": [],
   "source": [
    "vexog = sm.add_constant(validdf2.loc[:, ('Store_id', 'DayOfWeek', 'StoreCat', 'Discount', 'Holiday')])"
   ]
  },
  {
   "cell_type": "code",
   "execution_count": null,
   "id": "eda167ad",
   "metadata": {},
   "outputs": [],
   "source": [
    "vpred = res.forecast(exog=vexog, steps=len(vexog))"
   ]
  },
  {
   "cell_type": "code",
   "execution_count": null,
   "id": "2573cba4",
   "metadata": {},
   "outputs": [],
   "source": [
    "validdf['Sales'] = vpred.tolist()"
   ]
  },
  {
   "cell_type": "code",
   "execution_count": null,
   "id": "afa68a9b",
   "metadata": {},
   "outputs": [],
   "source": [
    "validdf[[\"ID\", \"Sales\"]].to_csv(\"Submission_{}.csv\".format(datetime.now().microsecond), index=None)"
   ]
  },
  {
   "cell_type": "code",
   "execution_count": null,
   "id": "04ef888e",
   "metadata": {},
   "outputs": [],
   "source": []
  },
  {
   "cell_type": "code",
   "execution_count": null,
   "id": "3416d41f",
   "metadata": {},
   "outputs": [],
   "source": [
    "predlist = []\n",
    "for sid in mixdf['Store_id'].unique().tolist():\n",
    "    sdf = mixdf[mixdf['Store_id']==sid]\n",
    "    for ix in [x for x in sdf.index.strftime(\"%Y-%m-%d\").tolist() if x > \"2019-05-31\"]:\n",
    "        tempdf = sdf.loc[:ix]\n",
    "        tempdf.drop(\"Sales\", axis=1, inplace=True)\n",
    "        tempdf = tempdf[-90:]\n",
    "        \n",
    "        tempdf[\"60SMA\"] = tempdf.rolling(window=60)['zSales'].mean()\n",
    "        tempdf[\"60EMA\"] = tempdf.ewm(span=60)['zSales'].mean()\n",
    "\n",
    "        tempdf[\"30SMA\"] = tempdf.rolling(window=30)['zSales'].mean()\n",
    "        tempdf[\"30EMA\"] = tempdf.ewm(span=30)['zSales'].mean()\n",
    "\n",
    "        tempdf[\"90SMA\"] = tempdf.rolling(window=90)['zSales'].mean()\n",
    "        tempdf[\"90EMA\"] = tempdf.ewm(span=90)['zSales'].mean()\n",
    "#         print(tempdf.head())\n",
    "#         print(tempdf.tail())\n",
    "        tempdf.dropna(inplace=True)\n",
    "        print(ix)\n",
    "        print(tempdf.shape)\n",
    "        print(tempdf)\n",
    "        texog = sm.add_constant(tempdf.loc[:, ('Store_id', 'DayOfWeek', 'StoreCat', 'Discount', 'Holiday',\n",
    "                                      \"30SMA\", \"60SMA\", \"90SMA\", \"30EMA\", \"60EMA\", \"90EMA\")])\n",
    "#         print(texog.dtypes)\n",
    "        pred = res.forecast(exog=texog, steps=len(texog))\n",
    "        predlist.append({\"ID\":tempdf.iloc[0, 0],\"Date\":ix, \"Pred\":pred.tolist()[0]})\n",
    "        sdf.loc[ix, \"zSales\"] = pred.tolist()[0]\n",
    "        \n",
    "#         print(tempdf.tail(1))\n"
   ]
  },
  {
   "cell_type": "code",
   "execution_count": null,
   "id": "343d5e46",
   "metadata": {},
   "outputs": [],
   "source": [
    "outdf = pd.DataFrame(predlist).set_index(\"Date\")"
   ]
  },
  {
   "cell_type": "code",
   "execution_count": null,
   "id": "cbb7ccad",
   "metadata": {},
   "outputs": [],
   "source": [
    "outdf['zPred'] = mms.inverse_transform(np.array(outdf['Pred']).reshape(-1,1))"
   ]
  },
  {
   "cell_type": "code",
   "execution_count": null,
   "id": "a040a8b4",
   "metadata": {},
   "outputs": [],
   "source": [
    "validmixdf = pd.merge(validdf, outdf[[\"ID\", \"zPred\"]], on=\"ID\", how='left')"
   ]
  },
  {
   "cell_type": "code",
   "execution_count": null,
   "id": "885d2ac8",
   "metadata": {},
   "outputs": [],
   "source": [
    "validmixdf['Sales'] = validmixdf['zPred'].apply(lambda x : 0 if x<0 else x)"
   ]
  },
  {
   "cell_type": "code",
   "execution_count": null,
   "id": "213931b3",
   "metadata": {},
   "outputs": [],
   "source": [
    "validmixdf[[\"ID\", \"Sales\"]].to_csv(\"Submission_{}.csv\".format(datetime.now().microsecond), index=None)"
   ]
  },
  {
   "cell_type": "code",
   "execution_count": null,
   "id": "8e6ac865",
   "metadata": {},
   "outputs": [],
   "source": []
  },
  {
   "cell_type": "code",
   "execution_count": null,
   "id": "637d2632",
   "metadata": {},
   "outputs": [],
   "source": [
    "n_splits = 5"
   ]
  },
  {
   "cell_type": "code",
   "execution_count": null,
   "id": "9b398b73",
   "metadata": {},
   "outputs": [],
   "source": [
    "tscv = TimeSeriesSplit(n_splits)"
   ]
  },
  {
   "cell_type": "code",
   "execution_count": null,
   "id": "93942395",
   "metadata": {},
   "outputs": [],
   "source": [
    "tscv"
   ]
  },
  {
   "cell_type": "code",
   "execution_count": null,
   "id": "0c7b96f2",
   "metadata": {},
   "outputs": [],
   "source": [
    "\n",
    "X = df2[['Store_id',\"Date\", \"Holiday\", \"Discount\", \"StoreCat\", \"DayOfWeek\"]]\n",
    "y = df2[['Sales']]\n",
    "\n",
    "for fold, (train_index, test_index) in enumerate(tscv.split(X)):\n",
    "    print(\"Fold: {}\".format(fold))\n",
    "    print(\"TRAIN indices:\", train_index, \"\\n\", \"TEST indices:\", test_index)\n",
    "    print(\"\\n\")\n",
    "    X_train, X_test = X.loc[train_index, :], X.loc[test_index, :]\n",
    "    y_train, y_test = y.loc[train_index, :], y.loc[test_index, :]\n",
    "\n",
    "\n",
    "plot_cv_indices(tscv,n_splits, X, y, date_col=df2[\"Date\"])"
   ]
  },
  {
   "cell_type": "code",
   "execution_count": null,
   "id": "63eaa3e0",
   "metadata": {},
   "outputs": [],
   "source": [
    "for fold, (train_index, test_index) in enumerate(tscv.split(X)):\n",
    "    print(fold)"
   ]
  },
  {
   "cell_type": "code",
   "execution_count": null,
   "id": "e7b8d8cb",
   "metadata": {},
   "outputs": [],
   "source": []
  }
 ],
 "metadata": {
  "kernelspec": {
   "display_name": "Python 3",
   "language": "python",
   "name": "python3"
  },
  "language_info": {
   "codemirror_mode": {
    "name": "ipython",
    "version": 3
   },
   "file_extension": ".py",
   "mimetype": "text/x-python",
   "name": "python",
   "nbconvert_exporter": "python",
   "pygments_lexer": "ipython3",
   "version": "3.9.4"
  }
 },
 "nbformat": 4,
 "nbformat_minor": 5
}
