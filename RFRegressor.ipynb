{
 "cells": [
  {
   "cell_type": "code",
   "execution_count": null,
   "id": "1a956d08",
   "metadata": {},
   "outputs": [],
   "source": [
    "import pandas as pd\n",
    "import numpy as np\n",
    "import seaborn as sns\n"
   ]
  },
  {
   "cell_type": "code",
   "execution_count": null,
   "id": "bbf59244",
   "metadata": {},
   "outputs": [],
   "source": [
    "import os"
   ]
  },
  {
   "cell_type": "code",
   "execution_count": null,
   "id": "9cd80070",
   "metadata": {},
   "outputs": [],
   "source": [
    "import matplotlib.pyplot as plt\n"
   ]
  },
  {
   "cell_type": "code",
   "execution_count": null,
   "id": "e34149f8",
   "metadata": {},
   "outputs": [],
   "source": []
  },
  {
   "cell_type": "code",
   "execution_count": null,
   "id": "dfb24585",
   "metadata": {},
   "outputs": [],
   "source": [
    "filename = \"TRAIN.csv\""
   ]
  },
  {
   "cell_type": "code",
   "execution_count": null,
   "id": "737e0940",
   "metadata": {},
   "outputs": [],
   "source": [
    "homedir = os.path.abspath(os.path.dirname(\"__name__\"))"
   ]
  },
  {
   "cell_type": "code",
   "execution_count": null,
   "id": "92f1794e",
   "metadata": {},
   "outputs": [],
   "source": [
    "fp = os.path.join(homedir, filename)"
   ]
  },
  {
   "cell_type": "code",
   "execution_count": null,
   "id": "ba5f6710",
   "metadata": {},
   "outputs": [],
   "source": [
    "df = pd.read_csv(fp)"
   ]
  },
  {
   "cell_type": "code",
   "execution_count": null,
   "id": "935be529",
   "metadata": {},
   "outputs": [],
   "source": [
    "df.shape"
   ]
  },
  {
   "cell_type": "code",
   "execution_count": null,
   "id": "6e13104a",
   "metadata": {},
   "outputs": [],
   "source": [
    "df.dtypes"
   ]
  },
  {
   "cell_type": "code",
   "execution_count": null,
   "id": "7be01569",
   "metadata": {},
   "outputs": [],
   "source": [
    "df.describe()"
   ]
  },
  {
   "cell_type": "code",
   "execution_count": null,
   "id": "825f0e8f",
   "metadata": {},
   "outputs": [],
   "source": [
    "df.isna().sum()"
   ]
  },
  {
   "cell_type": "code",
   "execution_count": null,
   "id": "c5b6a298",
   "metadata": {},
   "outputs": [],
   "source": [
    "df['StoreCat'] = df['Store_Type'] + df['Location_Type'] + df['Region_Code']"
   ]
  },
  {
   "cell_type": "code",
   "execution_count": null,
   "id": "9ff2f3ff",
   "metadata": {},
   "outputs": [],
   "source": [
    "# df['Holiday'] = df['Holiday'].astype('category')\n",
    "# df['Store_id'] = df['Store_id'].astype('category')\n",
    "# df['Store_Type'] = df['Store_Type'].astype('category')\n",
    "# df['Location_Type'] = df['Location_Type'].astype('category')\n",
    "# df['Region_Code'] = df['Region_Code'].astype('category')\n",
    "# df['Discount'] = df['Discount'].astype('category')"
   ]
  },
  {
   "cell_type": "code",
   "execution_count": null,
   "id": "b6078e25",
   "metadata": {},
   "outputs": [],
   "source": [
    "df['Date'] = pd.to_datetime(df['Date'])"
   ]
  },
  {
   "cell_type": "code",
   "execution_count": null,
   "id": "73253053",
   "metadata": {},
   "outputs": [],
   "source": [
    "df['StoreCat'].nunique()"
   ]
  },
  {
   "cell_type": "code",
   "execution_count": null,
   "id": "a034c908",
   "metadata": {},
   "outputs": [],
   "source": [
    "storecatdf = df.groupby(['StoreCat']).agg({\"Sales\":np.mean}).reset_index().rename(columns={\"Sales\":\"StoreCatAvg\"})"
   ]
  },
  {
   "cell_type": "code",
   "execution_count": null,
   "id": "02212a13",
   "metadata": {},
   "outputs": [],
   "source": [
    "storecatdf.columns"
   ]
  },
  {
   "cell_type": "code",
   "execution_count": null,
   "id": "8022c5b7",
   "metadata": {},
   "outputs": [],
   "source": [
    "storeiddf = df.groupby([\"Store_id\"]).agg({\"Sales\":np.mean}).reset_index().rename(columns={\"Sales\":\"StoreAvg\"})"
   ]
  },
  {
   "cell_type": "code",
   "execution_count": null,
   "id": "d3036468",
   "metadata": {},
   "outputs": [],
   "source": [
    "storeidcatdf = df[['Store_id', 'StoreCat']]"
   ]
  },
  {
   "cell_type": "code",
   "execution_count": null,
   "id": "f3683c35",
   "metadata": {},
   "outputs": [],
   "source": [
    "storeidcatdf.drop_duplicates(inplace=True)"
   ]
  },
  {
   "cell_type": "code",
   "execution_count": null,
   "id": "72b1c84a",
   "metadata": {},
   "outputs": [],
   "source": [
    "storeidcatdf = pd.merge(storeidcatdf, storeiddf, on=\"Store_id\", how=\"left\")"
   ]
  },
  {
   "cell_type": "code",
   "execution_count": null,
   "id": "4e059f4e",
   "metadata": {},
   "outputs": [],
   "source": [
    "storeidcatdf = pd.merge(storeidcatdf, storecatdf, on=\"StoreCat\", how=\"left\")"
   ]
  },
  {
   "cell_type": "code",
   "execution_count": null,
   "id": "0ad68e84",
   "metadata": {},
   "outputs": [],
   "source": [
    "storeidcatdf.head()"
   ]
  },
  {
   "cell_type": "code",
   "execution_count": null,
   "id": "7abbf303",
   "metadata": {},
   "outputs": [],
   "source": [
    "storeidcatdf['Diff'] = storeidcatdf['StoreAvg'] - storeidcatdf['StoreCatAvg']"
   ]
  },
  {
   "cell_type": "code",
   "execution_count": null,
   "id": "7eac6cbc",
   "metadata": {},
   "outputs": [],
   "source": [
    "df['Year'] = df['Date'].dt.year\n",
    "df['Month'] = df['Date'].dt.month\n",
    "df['DayOfWeek'] = df['Date'].dt.dayofweek"
   ]
  },
  {
   "cell_type": "code",
   "execution_count": null,
   "id": "5cc03ad6",
   "metadata": {},
   "outputs": [],
   "source": [
    "df['Year'] = df['Year'].astype('category')\n",
    "df['Month'] = df['Month'].astype('category')"
   ]
  },
  {
   "cell_type": "code",
   "execution_count": null,
   "id": "30acc7b9",
   "metadata": {},
   "outputs": [],
   "source": [
    "df['DayOfWeek'].value_counts()"
   ]
  },
  {
   "cell_type": "code",
   "execution_count": null,
   "id": "2e59174e",
   "metadata": {},
   "outputs": [],
   "source": [
    "dayOfWeekDict = {0:\"Monday\",\n",
    "                 1:\"Tuesday\",\n",
    "                 2:\"Wednesday\",\n",
    "                 3:\"Thursday\",\n",
    "                 4:\"Friday\",\n",
    "                 5:\"Saturday\",\n",
    "                 6:\"Sunday\"}"
   ]
  },
  {
   "cell_type": "code",
   "execution_count": null,
   "id": "bddb252f",
   "metadata": {},
   "outputs": [],
   "source": [
    "df['DayOfWeek'] = df['DayOfWeek'].apply(lambda x : dayOfWeekDict.get(x))"
   ]
  },
  {
   "cell_type": "code",
   "execution_count": null,
   "id": "56f5540e",
   "metadata": {},
   "outputs": [],
   "source": [
    "df2 = df[['Store_id', \"StoreCat\", \"Date\", \"DayOfWeek\", \"Holiday\", \"Discount\", \"#Order\", \"Sales\"]]"
   ]
  },
  {
   "cell_type": "code",
   "execution_count": null,
   "id": "889111f6",
   "metadata": {},
   "outputs": [],
   "source": [
    "df2.head()"
   ]
  },
  {
   "cell_type": "code",
   "execution_count": null,
   "id": "b03186e5",
   "metadata": {},
   "outputs": [],
   "source": [
    "for col in df.select_dtypes(include=['category']).columns.tolist():\n",
    "    print(\"Number of levels in {} is {}\".format(col, df[col].nunique()))"
   ]
  },
  {
   "cell_type": "code",
   "execution_count": null,
   "id": "91bfd7a9",
   "metadata": {},
   "outputs": [],
   "source": [
    "df['Store_id'].value_counts()"
   ]
  },
  {
   "cell_type": "code",
   "execution_count": null,
   "id": "eb199d29",
   "metadata": {},
   "outputs": [],
   "source": [
    "df['Store_Type'].value_counts()"
   ]
  },
  {
   "cell_type": "code",
   "execution_count": null,
   "id": "05a9a425",
   "metadata": {},
   "outputs": [],
   "source": [
    "df['Location_Type'].value_counts()"
   ]
  },
  {
   "cell_type": "code",
   "execution_count": null,
   "id": "b4116d53",
   "metadata": {},
   "outputs": [],
   "source": [
    "df['Region_Code'].value_counts()"
   ]
  },
  {
   "cell_type": "code",
   "execution_count": null,
   "id": "c74f2e43",
   "metadata": {},
   "outputs": [],
   "source": [
    "df['Holiday'].value_counts()"
   ]
  },
  {
   "cell_type": "code",
   "execution_count": null,
   "id": "3bfccc78",
   "metadata": {},
   "outputs": [],
   "source": [
    "df['Discount'].value_counts()"
   ]
  },
  {
   "cell_type": "code",
   "execution_count": null,
   "id": "1a5503c4",
   "metadata": {},
   "outputs": [],
   "source": [
    "sns.boxplot(df['#Order'])"
   ]
  },
  {
   "cell_type": "code",
   "execution_count": null,
   "id": "966e9e86",
   "metadata": {},
   "outputs": [],
   "source": [
    "sns.boxplot(y='#Order', x=\"Holiday\", hue = 'Discount', data=df)"
   ]
  },
  {
   "cell_type": "code",
   "execution_count": null,
   "id": "1a099165",
   "metadata": {},
   "outputs": [],
   "source": []
  },
  {
   "cell_type": "code",
   "execution_count": null,
   "id": "e6d316d7",
   "metadata": {},
   "outputs": [],
   "source": []
  },
  {
   "cell_type": "code",
   "execution_count": null,
   "id": "8e80bca6",
   "metadata": {},
   "outputs": [],
   "source": [
    "sns.boxplot(df['Sales'])"
   ]
  },
  {
   "cell_type": "code",
   "execution_count": null,
   "id": "828dceff",
   "metadata": {},
   "outputs": [],
   "source": [
    "sns.boxplot(y='Sales', x=\"Holiday\", hue = 'Discount', data=df)"
   ]
  },
  {
   "cell_type": "code",
   "execution_count": null,
   "id": "6e79e47e",
   "metadata": {},
   "outputs": [],
   "source": [
    "store1 = df[df['Store_id']==1]"
   ]
  },
  {
   "cell_type": "code",
   "execution_count": null,
   "id": "b78fbb2b",
   "metadata": {},
   "outputs": [],
   "source": [
    "store1.head()"
   ]
  },
  {
   "cell_type": "code",
   "execution_count": null,
   "id": "9c91a74b",
   "metadata": {},
   "outputs": [],
   "source": [
    "for store in df['Store_id'].unique().tolist():\n",
    "    storedf = df[df['Store_id']==store]\n",
    "    for col in storedf.select_dtypes(include=['category']).columns.tolist():\n",
    "        cnt = storedf[col].nunique()\n",
    "        if (cnt != 1) & (col not in [\"Holiday\", \"Discount\", \"Year\", \"Month\"]):\n",
    "            print(\"Store ID {} : Number of levels in {} is {}\".format(store, col, cnt))"
   ]
  },
  {
   "cell_type": "code",
   "execution_count": null,
   "id": "270cc943",
   "metadata": {},
   "outputs": [],
   "source": []
  },
  {
   "cell_type": "code",
   "execution_count": null,
   "id": "ca165ae5",
   "metadata": {},
   "outputs": [],
   "source": [
    "storedf = df2[df2['Store_id']==1]"
   ]
  },
  {
   "cell_type": "code",
   "execution_count": null,
   "id": "5f8aca06",
   "metadata": {},
   "outputs": [],
   "source": [
    "storedf.shape"
   ]
  },
  {
   "cell_type": "code",
   "execution_count": null,
   "id": "7d1befbe",
   "metadata": {},
   "outputs": [],
   "source": [
    "timeseriesdf = storedf[['Date', 'Sales']]"
   ]
  },
  {
   "cell_type": "code",
   "execution_count": null,
   "id": "dd49a450",
   "metadata": {},
   "outputs": [],
   "source": [
    "timeseriesdf.set_index('Date', inplace=True)"
   ]
  },
  {
   "cell_type": "code",
   "execution_count": null,
   "id": "11e27988",
   "metadata": {},
   "outputs": [],
   "source": [
    "timeseriesdf.plot()"
   ]
  },
  {
   "cell_type": "code",
   "execution_count": null,
   "id": "7a137406",
   "metadata": {},
   "outputs": [],
   "source": [
    "ordertsdf = storedf[['Date', '#Order']]"
   ]
  },
  {
   "cell_type": "code",
   "execution_count": null,
   "id": "c4e74238",
   "metadata": {},
   "outputs": [],
   "source": [
    "ordertsdf.set_index('Date', inplace=True)"
   ]
  },
  {
   "cell_type": "code",
   "execution_count": null,
   "id": "19bee345",
   "metadata": {},
   "outputs": [],
   "source": [
    "ordertsdf.plot()"
   ]
  },
  {
   "cell_type": "code",
   "execution_count": null,
   "id": "2a5185ed",
   "metadata": {},
   "outputs": [],
   "source": [
    "corrdf = storedf[['#Order', \"Sales\"]].corr()"
   ]
  },
  {
   "cell_type": "code",
   "execution_count": null,
   "id": "4faed543",
   "metadata": {
    "scrolled": true
   },
   "outputs": [],
   "source": [
    "f = plt.figure(figsize=(19, 15))\n",
    "plt.matshow(corrdf, fignum=f.number)\n",
    "plt.title('Correlation Matrix', fontsize=16);"
   ]
  },
  {
   "cell_type": "code",
   "execution_count": null,
   "id": "c12637a1",
   "metadata": {},
   "outputs": [],
   "source": [
    "corrdf.style.background_gradient(cmap='coolwarm').set_precision(2)\n"
   ]
  },
  {
   "cell_type": "code",
   "execution_count": null,
   "id": "ba93f3e8",
   "metadata": {},
   "outputs": [],
   "source": [
    "from sklearn.linear_model import LinearRegression"
   ]
  },
  {
   "cell_type": "code",
   "execution_count": null,
   "id": "112ff76c",
   "metadata": {},
   "outputs": [],
   "source": [
    "reg = LinearRegression()"
   ]
  },
  {
   "cell_type": "code",
   "execution_count": null,
   "id": "4fd03142",
   "metadata": {},
   "outputs": [],
   "source": [
    "X = storedf[['#Order']]\n",
    "y = storedf[['Sales']]"
   ]
  },
  {
   "cell_type": "code",
   "execution_count": null,
   "id": "9c7af713",
   "metadata": {},
   "outputs": [],
   "source": [
    "reg.fit(X, y)"
   ]
  },
  {
   "cell_type": "code",
   "execution_count": null,
   "id": "6c1e6078",
   "metadata": {},
   "outputs": [],
   "source": [
    "print(reg)"
   ]
  },
  {
   "cell_type": "code",
   "execution_count": null,
   "id": "fe03e5b7",
   "metadata": {},
   "outputs": [],
   "source": [
    "reg.score(X, y)"
   ]
  },
  {
   "cell_type": "code",
   "execution_count": null,
   "id": "c29f99b9",
   "metadata": {},
   "outputs": [],
   "source": [
    "reg.coef_"
   ]
  },
  {
   "cell_type": "code",
   "execution_count": null,
   "id": "35c14797",
   "metadata": {},
   "outputs": [],
   "source": [
    "reg.intercept_"
   ]
  },
  {
   "cell_type": "code",
   "execution_count": null,
   "id": "f0a3db59",
   "metadata": {},
   "outputs": [],
   "source": []
  },
  {
   "cell_type": "code",
   "execution_count": null,
   "id": "a0a04863",
   "metadata": {},
   "outputs": [],
   "source": [
    "from statsmodels.api import OLS"
   ]
  },
  {
   "cell_type": "code",
   "execution_count": null,
   "id": "af0f92f2",
   "metadata": {},
   "outputs": [],
   "source": [
    "ols = OLS(y, X)"
   ]
  },
  {
   "cell_type": "code",
   "execution_count": null,
   "id": "31d4d413",
   "metadata": {},
   "outputs": [],
   "source": [
    "ols.fit().summary()"
   ]
  },
  {
   "cell_type": "code",
   "execution_count": null,
   "id": "aab3faa3",
   "metadata": {},
   "outputs": [],
   "source": []
  },
  {
   "cell_type": "code",
   "execution_count": null,
   "id": "3c3c98fb",
   "metadata": {},
   "outputs": [],
   "source": []
  },
  {
   "cell_type": "code",
   "execution_count": null,
   "id": "642d9f32",
   "metadata": {},
   "outputs": [],
   "source": []
  },
  {
   "cell_type": "code",
   "execution_count": null,
   "id": "ee2c2515",
   "metadata": {},
   "outputs": [],
   "source": [
    "import statsmodels.api as sm"
   ]
  },
  {
   "cell_type": "code",
   "execution_count": null,
   "id": "b16420b4",
   "metadata": {},
   "outputs": [],
   "source": [
    "#ADF-test(Original-time-series)\n",
    "res = sm.tsa.adfuller(storedf['Sales'],regression='ct')\n",
    "print('p-value:{}'.format(res[1]))"
   ]
  },
  {
   "cell_type": "code",
   "execution_count": null,
   "id": "b6859ec5",
   "metadata": {},
   "outputs": [],
   "source": [
    "#ADF-test(differenced-time-series)\n",
    "res = sm.tsa.adfuller(storedf['Sales'].diff().dropna(),regression='c')\n",
    "print('p-value:{}'.format(res[1]))"
   ]
  },
  {
   "cell_type": "code",
   "execution_count": null,
   "id": "975f1036",
   "metadata": {},
   "outputs": [],
   "source": [
    "#we use tra.diff()(differenced data), because this time series is unit root process.\n",
    "fig,ax = plt.subplots(2,1,figsize=(20,10))\n",
    "fig = sm.graphics.tsa.plot_acf(timeseriesdf.diff().dropna(), lags=60, ax=ax[0])\n",
    "fig = sm.graphics.tsa.plot_pacf(timeseriesdf.diff().dropna(), lags=60, ax=ax[1])\n",
    "plt.show()"
   ]
  },
  {
   "cell_type": "code",
   "execution_count": null,
   "id": "f696fe20",
   "metadata": {},
   "outputs": [],
   "source": [
    "# resDiff = sm.tsa.arma_order_select_ic(timeseriesdf, max_ar=7, max_ma=7, ic='aic', trend='c')\n",
    "# print('ARMA(p,q) =',resDiff['aic_min_order'],'is the best.')"
   ]
  },
  {
   "cell_type": "code",
   "execution_count": null,
   "id": "15682d1a",
   "metadata": {},
   "outputs": [],
   "source": [
    "from statsmodels.graphics.tsaplots import plot_acf, plot_pacf"
   ]
  },
  {
   "cell_type": "code",
   "execution_count": null,
   "id": "fc7950b4",
   "metadata": {},
   "outputs": [],
   "source": [
    "plot_acf(timeseriesdf)\n",
    "plt.show()"
   ]
  },
  {
   "cell_type": "code",
   "execution_count": null,
   "id": "e717145c",
   "metadata": {},
   "outputs": [],
   "source": [
    "plot_pacf(timeseriesdf)\n",
    "plt.show()"
   ]
  },
  {
   "cell_type": "code",
   "execution_count": null,
   "id": "35c78af3",
   "metadata": {},
   "outputs": [],
   "source": []
  },
  {
   "cell_type": "code",
   "execution_count": null,
   "id": "4c42bd62",
   "metadata": {},
   "outputs": [],
   "source": [
    "# aggdf = df.groupby(['Store_id', 'Store_Type', 'Location_Type', \n",
    "#             'Region_Code', 'Holiday', 'Discount', 'Year', 'Month'])\\\n",
    "#   .agg({\"#Order\":np.sum, \"Sales\":np.sum})"
   ]
  },
  {
   "cell_type": "code",
   "execution_count": null,
   "id": "b60c0781",
   "metadata": {},
   "outputs": [],
   "source": [
    "import requests"
   ]
  },
  {
   "cell_type": "code",
   "execution_count": null,
   "id": "9e84f092",
   "metadata": {},
   "outputs": [],
   "source": [
    "from io import BytesIO"
   ]
  },
  {
   "cell_type": "code",
   "execution_count": null,
   "id": "464f99de",
   "metadata": {},
   "outputs": [],
   "source": [
    "from datetime import datetime"
   ]
  },
  {
   "cell_type": "code",
   "execution_count": null,
   "id": "3edbbe84",
   "metadata": {},
   "outputs": [],
   "source": []
  },
  {
   "cell_type": "code",
   "execution_count": null,
   "id": "0a3b96b1",
   "metadata": {},
   "outputs": [],
   "source": []
  },
  {
   "cell_type": "code",
   "execution_count": null,
   "id": "0c7887cc",
   "metadata": {},
   "outputs": [],
   "source": [
    "df2.Date.describe()"
   ]
  },
  {
   "cell_type": "code",
   "execution_count": null,
   "id": "3160ebeb",
   "metadata": {},
   "outputs": [],
   "source": [
    "df3 = df2.set_index(\"Date\")"
   ]
  },
  {
   "cell_type": "code",
   "execution_count": null,
   "id": "8090b9ca",
   "metadata": {},
   "outputs": [],
   "source": [
    "df3.head()"
   ]
  },
  {
   "cell_type": "code",
   "execution_count": null,
   "id": "c5823995",
   "metadata": {},
   "outputs": [],
   "source": []
  },
  {
   "cell_type": "code",
   "execution_count": null,
   "id": "63e3fe2f",
   "metadata": {},
   "outputs": [],
   "source": [
    "from sklearn.preprocessing import LabelEncoder"
   ]
  },
  {
   "cell_type": "code",
   "execution_count": null,
   "id": "4c950501",
   "metadata": {},
   "outputs": [],
   "source": [
    "le1 = LabelEncoder()\n",
    "le1.fit(df3.loc[:, 'StoreCat'])\n",
    "df3['Z'+'StoreCat'] = le1.transform(df3.loc[:, 'StoreCat'])"
   ]
  },
  {
   "cell_type": "code",
   "execution_count": null,
   "id": "006c4b5e",
   "metadata": {},
   "outputs": [],
   "source": [
    "le2 = LabelEncoder()\n",
    "le2.fit(df3.loc[:, 'DayOfWeek'])\n",
    "df3['Z'+'DayOfWeek'] = le2.transform(df3.loc[:, 'DayOfWeek'])"
   ]
  },
  {
   "cell_type": "code",
   "execution_count": null,
   "id": "08042ee4",
   "metadata": {},
   "outputs": [],
   "source": [
    "le3= LabelEncoder()\n",
    "le3.fit(df3.loc[:, 'Discount'])\n",
    "df3['Z'+'Discount'] = le3.transform(df3.loc[:, 'Discount'])"
   ]
  },
  {
   "cell_type": "code",
   "execution_count": null,
   "id": "2a06f0a7",
   "metadata": {},
   "outputs": [],
   "source": [
    "# colsToEncode = ['StoreCat', 'DayOfWeek', 'Discount']\n",
    "\n",
    "# for col in colsToEncode:\n",
    "\n",
    "#     le = LabelEncoder()\n",
    "#     le.fit(df3.loc[:, col])\n",
    "#     df3['Z'+col] = le.transform(df3.loc[:, col])"
   ]
  },
  {
   "cell_type": "code",
   "execution_count": null,
   "id": "88e44ed9",
   "metadata": {},
   "outputs": [],
   "source": [
    "traindf = df3.loc[\"2018-01-01\":\"2019-12-31\"]\n",
    "testdf = df3.loc[\"2019-01-01\":\"2019-05-31\"]\n",
    "\n",
    "\n",
    "# traindf =storedf[:trainlen] \n",
    "# testdf = storedf[trainlen:] "
   ]
  },
  {
   "cell_type": "code",
   "execution_count": null,
   "id": "890cf2ab",
   "metadata": {},
   "outputs": [],
   "source": [
    "traindf.shape"
   ]
  },
  {
   "cell_type": "code",
   "execution_count": null,
   "id": "847de4b7",
   "metadata": {},
   "outputs": [],
   "source": [
    "testdf.shape"
   ]
  },
  {
   "cell_type": "code",
   "execution_count": null,
   "id": "d5ffe71b",
   "metadata": {},
   "outputs": [],
   "source": []
  },
  {
   "cell_type": "code",
   "execution_count": null,
   "id": "64d8b8ab",
   "metadata": {},
   "outputs": [],
   "source": [
    "endog = traindf.loc[:, 'Sales']"
   ]
  },
  {
   "cell_type": "code",
   "execution_count": null,
   "id": "c413121a",
   "metadata": {},
   "outputs": [],
   "source": [
    "exog = sm.add_constant(traindf.loc[:, ('ZDayOfWeek', 'ZStoreCat', 'ZDiscount', 'Holiday')])"
   ]
  },
  {
   "cell_type": "code",
   "execution_count": null,
   "id": "b07d69f5",
   "metadata": {},
   "outputs": [],
   "source": [
    "# Fit the model\n",
    "mod = sm.tsa.statespace.SARIMAX(endog, exog, order=(1,0,1))\n",
    "res = mod.fit(disp=False)\n",
    "print(res.summary())"
   ]
  },
  {
   "cell_type": "code",
   "execution_count": null,
   "id": "2b426c2c",
   "metadata": {},
   "outputs": [],
   "source": []
  },
  {
   "cell_type": "code",
   "execution_count": null,
   "id": "6d9a5b3e",
   "metadata": {},
   "outputs": [],
   "source": [
    "texog = sm.add_constant(testdf.loc[:, ('ZDayOfWeek', 'ZStoreCat', 'ZDiscount', 'Holiday')])"
   ]
  },
  {
   "cell_type": "code",
   "execution_count": null,
   "id": "a8a12714",
   "metadata": {},
   "outputs": [],
   "source": [
    "len(texog)"
   ]
  },
  {
   "cell_type": "code",
   "execution_count": null,
   "id": "b5df9bf6",
   "metadata": {},
   "outputs": [],
   "source": []
  },
  {
   "cell_type": "code",
   "execution_count": null,
   "id": "cf70cff1",
   "metadata": {},
   "outputs": [],
   "source": [
    "res.forecast(exog=texog, steps=len(texog))"
   ]
  },
  {
   "cell_type": "code",
   "execution_count": null,
   "id": "44171ce5",
   "metadata": {},
   "outputs": [],
   "source": [
    "pred = res.forecast(exog=texog, steps=len(texog))"
   ]
  },
  {
   "cell_type": "code",
   "execution_count": null,
   "id": "68d9a974",
   "metadata": {},
   "outputs": [],
   "source": [
    "testdf['pred'] = pred.tolist()"
   ]
  },
  {
   "cell_type": "code",
   "execution_count": null,
   "id": "1e71eb37",
   "metadata": {},
   "outputs": [],
   "source": [
    "testdf.head()"
   ]
  },
  {
   "cell_type": "code",
   "execution_count": null,
   "id": "82df20c9",
   "metadata": {},
   "outputs": [],
   "source": [
    "from sklearn.metrics import mean_squared_log_error"
   ]
  },
  {
   "cell_type": "code",
   "execution_count": null,
   "id": "c9022815",
   "metadata": {},
   "outputs": [],
   "source": [
    "mean_squared_log_error(testdf['Sales'], testdf['pred'])*1000"
   ]
  },
  {
   "cell_type": "code",
   "execution_count": null,
   "id": "286a0fc2",
   "metadata": {},
   "outputs": [],
   "source": []
  },
  {
   "cell_type": "code",
   "execution_count": null,
   "id": "69857837",
   "metadata": {},
   "outputs": [],
   "source": []
  },
  {
   "cell_type": "code",
   "execution_count": null,
   "id": "c2d7810a",
   "metadata": {},
   "outputs": [],
   "source": [
    "validdf = pd.read_csv(os.path.join(homedir, \"TEST_FINAL.csv\"))"
   ]
  },
  {
   "cell_type": "code",
   "execution_count": null,
   "id": "4d8edb84",
   "metadata": {},
   "outputs": [],
   "source": [
    "validdf.shape"
   ]
  },
  {
   "cell_type": "code",
   "execution_count": null,
   "id": "1b43b3d5",
   "metadata": {},
   "outputs": [],
   "source": [
    "validdf.dtypes"
   ]
  },
  {
   "cell_type": "code",
   "execution_count": null,
   "id": "7155329e",
   "metadata": {},
   "outputs": [],
   "source": [
    "validdf['StoreCat'] = validdf['Store_Type'] + validdf['Location_Type'] + validdf['Region_Code']"
   ]
  },
  {
   "cell_type": "code",
   "execution_count": null,
   "id": "602088af",
   "metadata": {},
   "outputs": [],
   "source": [
    "validdf['Date'] = pd.to_datetime(validdf['Date'])"
   ]
  },
  {
   "cell_type": "code",
   "execution_count": null,
   "id": "ed5abd8d",
   "metadata": {},
   "outputs": [],
   "source": [
    "validdf['Year'] = validdf['Date'].dt.year\n",
    "validdf['Month'] = validdf['Date'].dt.month\n",
    "validdf['DayOfWeek'] = validdf['Date'].dt.dayofweek"
   ]
  },
  {
   "cell_type": "code",
   "execution_count": null,
   "id": "d89255d3",
   "metadata": {},
   "outputs": [],
   "source": [
    "validdf['DayOfWeek'] = validdf['DayOfWeek'].apply(lambda x : dayOfWeekDict.get(x))"
   ]
  },
  {
   "cell_type": "code",
   "execution_count": null,
   "id": "c455dae0",
   "metadata": {},
   "outputs": [],
   "source": [
    "validdf2 = validdf[['Store_id', \"StoreCat\", \"Date\", \"DayOfWeek\", \"Holiday\", \"Discount\"]]"
   ]
  },
  {
   "cell_type": "code",
   "execution_count": null,
   "id": "fe1c1d01",
   "metadata": {},
   "outputs": [],
   "source": [
    "validdf3 = validdf2.set_index(\"Date\")"
   ]
  },
  {
   "cell_type": "code",
   "execution_count": null,
   "id": "1b929623",
   "metadata": {},
   "outputs": [],
   "source": [
    "validdf3['Z'+'StoreCat'] = le1.transform(validdf3.loc[:, 'StoreCat'])\n",
    "validdf3['Z'+'DayOfWeek'] = le2.transform(validdf3.loc[:, 'DayOfWeek'])\n",
    "validdf3['Z'+'Discount'] = le3.transform(validdf3.loc[:, 'Discount'])"
   ]
  },
  {
   "cell_type": "code",
   "execution_count": null,
   "id": "c0b249dc",
   "metadata": {},
   "outputs": [],
   "source": [
    "validdf3.head()"
   ]
  },
  {
   "cell_type": "code",
   "execution_count": null,
   "id": "79a16eb3",
   "metadata": {},
   "outputs": [],
   "source": [
    "vexog = sm.add_constant(validdf3.loc[:, ('ZDayOfWeek', 'ZStoreCat', 'ZDiscount', 'Holiday')])"
   ]
  },
  {
   "cell_type": "code",
   "execution_count": null,
   "id": "86507bcc",
   "metadata": {},
   "outputs": [],
   "source": [
    "vpred = res.forecast(exog=vexog, steps=len(vexog))"
   ]
  },
  {
   "cell_type": "code",
   "execution_count": null,
   "id": "cc2bd5e7",
   "metadata": {},
   "outputs": [],
   "source": [
    "validdf['Sales'] = vpred.tolist()"
   ]
  },
  {
   "cell_type": "code",
   "execution_count": null,
   "id": "958bfc91",
   "metadata": {},
   "outputs": [],
   "source": [
    "validdf.head()"
   ]
  },
  {
   "cell_type": "code",
   "execution_count": null,
   "id": "ec73aee2",
   "metadata": {},
   "outputs": [],
   "source": [
    "datetime.now().microsecond"
   ]
  },
  {
   "cell_type": "code",
   "execution_count": null,
   "id": "290a860c",
   "metadata": {},
   "outputs": [],
   "source": [
    "validdf[[\"ID\", \"Sales\"]].to_csv(\"Submission_{}.csv\".format(datetime.now().microsecond), index=None)"
   ]
  },
  {
   "cell_type": "code",
   "execution_count": null,
   "id": "2abba615",
   "metadata": {},
   "outputs": [],
   "source": []
  }
 ],
 "metadata": {
  "kernelspec": {
   "display_name": "Python 3",
   "language": "python",
   "name": "python3"
  },
  "language_info": {
   "codemirror_mode": {
    "name": "ipython",
    "version": 3
   },
   "file_extension": ".py",
   "mimetype": "text/x-python",
   "name": "python",
   "nbconvert_exporter": "python",
   "pygments_lexer": "ipython3",
   "version": "3.9.4"
  }
 },
 "nbformat": 4,
 "nbformat_minor": 5
}
