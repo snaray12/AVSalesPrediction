{
 "cells": [
  {
   "cell_type": "code",
   "execution_count": 1,
   "id": "1a956d08",
   "metadata": {},
   "outputs": [],
   "source": [
    "import pandas as pd\n",
    "import numpy as np\n",
    "import seaborn as sns\n"
   ]
  },
  {
   "cell_type": "code",
   "execution_count": 2,
   "id": "bbf59244",
   "metadata": {},
   "outputs": [],
   "source": [
    "import os"
   ]
  },
  {
   "cell_type": "code",
   "execution_count": 3,
   "id": "9cd80070",
   "metadata": {},
   "outputs": [],
   "source": [
    "import matplotlib.pyplot as plt\n"
   ]
  },
  {
   "cell_type": "code",
   "execution_count": null,
   "id": "e34149f8",
   "metadata": {},
   "outputs": [],
   "source": []
  },
  {
   "cell_type": "code",
   "execution_count": 4,
   "id": "dfb24585",
   "metadata": {},
   "outputs": [],
   "source": [
    "filename = \"TRAIN.csv\""
   ]
  },
  {
   "cell_type": "code",
   "execution_count": 5,
   "id": "737e0940",
   "metadata": {},
   "outputs": [],
   "source": [
    "homedir = os.path.abspath(os.path.dirname(\"__name__\"))"
   ]
  },
  {
   "cell_type": "code",
   "execution_count": 6,
   "id": "92f1794e",
   "metadata": {},
   "outputs": [],
   "source": [
    "fp = os.path.join(homedir, filename)"
   ]
  },
  {
   "cell_type": "code",
   "execution_count": 7,
   "id": "ba5f6710",
   "metadata": {},
   "outputs": [],
   "source": [
    "df = pd.read_csv(fp)"
   ]
  },
  {
   "cell_type": "code",
   "execution_count": 8,
   "id": "935be529",
   "metadata": {},
   "outputs": [
    {
     "data": {
      "text/plain": [
       "(188340, 10)"
      ]
     },
     "execution_count": 8,
     "metadata": {},
     "output_type": "execute_result"
    }
   ],
   "source": [
    "df.shape"
   ]
  },
  {
   "cell_type": "code",
   "execution_count": 9,
   "id": "6e13104a",
   "metadata": {},
   "outputs": [
    {
     "data": {
      "text/plain": [
       "ID                object\n",
       "Store_id           int64\n",
       "Store_Type        object\n",
       "Location_Type     object\n",
       "Region_Code       object\n",
       "Date              object\n",
       "Holiday            int64\n",
       "Discount          object\n",
       "#Order             int64\n",
       "Sales            float64\n",
       "dtype: object"
      ]
     },
     "execution_count": 9,
     "metadata": {},
     "output_type": "execute_result"
    }
   ],
   "source": [
    "df.dtypes"
   ]
  },
  {
   "cell_type": "code",
   "execution_count": 10,
   "id": "7be01569",
   "metadata": {},
   "outputs": [
    {
     "data": {
      "text/html": [
       "<div>\n",
       "<style scoped>\n",
       "    .dataframe tbody tr th:only-of-type {\n",
       "        vertical-align: middle;\n",
       "    }\n",
       "\n",
       "    .dataframe tbody tr th {\n",
       "        vertical-align: top;\n",
       "    }\n",
       "\n",
       "    .dataframe thead th {\n",
       "        text-align: right;\n",
       "    }\n",
       "</style>\n",
       "<table border=\"1\" class=\"dataframe\">\n",
       "  <thead>\n",
       "    <tr style=\"text-align: right;\">\n",
       "      <th></th>\n",
       "      <th>Store_id</th>\n",
       "      <th>Holiday</th>\n",
       "      <th>#Order</th>\n",
       "      <th>Sales</th>\n",
       "    </tr>\n",
       "  </thead>\n",
       "  <tbody>\n",
       "    <tr>\n",
       "      <th>count</th>\n",
       "      <td>188340.000000</td>\n",
       "      <td>188340.000000</td>\n",
       "      <td>188340.000000</td>\n",
       "      <td>188340.000000</td>\n",
       "    </tr>\n",
       "    <tr>\n",
       "      <th>mean</th>\n",
       "      <td>183.000000</td>\n",
       "      <td>0.131783</td>\n",
       "      <td>68.205692</td>\n",
       "      <td>42784.327982</td>\n",
       "    </tr>\n",
       "    <tr>\n",
       "      <th>std</th>\n",
       "      <td>105.366308</td>\n",
       "      <td>0.338256</td>\n",
       "      <td>30.467415</td>\n",
       "      <td>18456.708302</td>\n",
       "    </tr>\n",
       "    <tr>\n",
       "      <th>min</th>\n",
       "      <td>1.000000</td>\n",
       "      <td>0.000000</td>\n",
       "      <td>0.000000</td>\n",
       "      <td>0.000000</td>\n",
       "    </tr>\n",
       "    <tr>\n",
       "      <th>25%</th>\n",
       "      <td>92.000000</td>\n",
       "      <td>0.000000</td>\n",
       "      <td>48.000000</td>\n",
       "      <td>30426.000000</td>\n",
       "    </tr>\n",
       "    <tr>\n",
       "      <th>50%</th>\n",
       "      <td>183.000000</td>\n",
       "      <td>0.000000</td>\n",
       "      <td>63.000000</td>\n",
       "      <td>39678.000000</td>\n",
       "    </tr>\n",
       "    <tr>\n",
       "      <th>75%</th>\n",
       "      <td>274.000000</td>\n",
       "      <td>0.000000</td>\n",
       "      <td>82.000000</td>\n",
       "      <td>51909.000000</td>\n",
       "    </tr>\n",
       "    <tr>\n",
       "      <th>max</th>\n",
       "      <td>365.000000</td>\n",
       "      <td>1.000000</td>\n",
       "      <td>371.000000</td>\n",
       "      <td>247215.000000</td>\n",
       "    </tr>\n",
       "  </tbody>\n",
       "</table>\n",
       "</div>"
      ],
      "text/plain": [
       "            Store_id        Holiday         #Order          Sales\n",
       "count  188340.000000  188340.000000  188340.000000  188340.000000\n",
       "mean      183.000000       0.131783      68.205692   42784.327982\n",
       "std       105.366308       0.338256      30.467415   18456.708302\n",
       "min         1.000000       0.000000       0.000000       0.000000\n",
       "25%        92.000000       0.000000      48.000000   30426.000000\n",
       "50%       183.000000       0.000000      63.000000   39678.000000\n",
       "75%       274.000000       0.000000      82.000000   51909.000000\n",
       "max       365.000000       1.000000     371.000000  247215.000000"
      ]
     },
     "execution_count": 10,
     "metadata": {},
     "output_type": "execute_result"
    }
   ],
   "source": [
    "df.describe()"
   ]
  },
  {
   "cell_type": "code",
   "execution_count": 11,
   "id": "825f0e8f",
   "metadata": {},
   "outputs": [
    {
     "data": {
      "text/plain": [
       "ID               0\n",
       "Store_id         0\n",
       "Store_Type       0\n",
       "Location_Type    0\n",
       "Region_Code      0\n",
       "Date             0\n",
       "Holiday          0\n",
       "Discount         0\n",
       "#Order           0\n",
       "Sales            0\n",
       "dtype: int64"
      ]
     },
     "execution_count": 11,
     "metadata": {},
     "output_type": "execute_result"
    }
   ],
   "source": [
    "df.isna().sum()"
   ]
  },
  {
   "cell_type": "code",
   "execution_count": 12,
   "id": "c5b6a298",
   "metadata": {},
   "outputs": [],
   "source": [
    "df['StoreCat'] = df['Store_Type'] + df['Location_Type'] + df['Region_Code']"
   ]
  },
  {
   "cell_type": "code",
   "execution_count": 13,
   "id": "9ff2f3ff",
   "metadata": {},
   "outputs": [],
   "source": [
    "# df['Holiday'] = df['Holiday'].astype('category')\n",
    "# df['Store_id'] = df['Store_id'].astype('category')\n",
    "# df['Store_Type'] = df['Store_Type'].astype('category')\n",
    "# df['Location_Type'] = df['Location_Type'].astype('category')\n",
    "# df['Region_Code'] = df['Region_Code'].astype('category')\n",
    "# df['Discount'] = df['Discount'].astype('category')"
   ]
  },
  {
   "cell_type": "code",
   "execution_count": 14,
   "id": "b6078e25",
   "metadata": {},
   "outputs": [],
   "source": [
    "df['Date'] = pd.to_datetime(df['Date'])"
   ]
  },
  {
   "cell_type": "code",
   "execution_count": 15,
   "id": "73253053",
   "metadata": {},
   "outputs": [
    {
     "data": {
      "text/plain": [
       "50"
      ]
     },
     "execution_count": 15,
     "metadata": {},
     "output_type": "execute_result"
    }
   ],
   "source": [
    "df['StoreCat'].nunique()"
   ]
  },
  {
   "cell_type": "code",
   "execution_count": 16,
   "id": "a034c908",
   "metadata": {},
   "outputs": [],
   "source": [
    "storecatdf = df.groupby(['StoreCat']).agg({\"Sales\":np.mean}).reset_index().rename(columns={\"Sales\":\"StoreCatAvg\"})"
   ]
  },
  {
   "cell_type": "code",
   "execution_count": 17,
   "id": "02212a13",
   "metadata": {},
   "outputs": [
    {
     "data": {
      "text/plain": [
       "Index(['StoreCat', 'StoreCatAvg'], dtype='object')"
      ]
     },
     "execution_count": 17,
     "metadata": {},
     "output_type": "execute_result"
    }
   ],
   "source": [
    "storecatdf.columns"
   ]
  },
  {
   "cell_type": "code",
   "execution_count": 18,
   "id": "8022c5b7",
   "metadata": {},
   "outputs": [],
   "source": [
    "storeiddf = df.groupby([\"Store_id\"]).agg({\"Sales\":np.mean}).reset_index().rename(columns={\"Sales\":\"StoreAvg\"})"
   ]
  },
  {
   "cell_type": "code",
   "execution_count": 19,
   "id": "d3036468",
   "metadata": {},
   "outputs": [],
   "source": [
    "storeidcatdf = df[['Store_id', 'StoreCat']]"
   ]
  },
  {
   "cell_type": "code",
   "execution_count": 20,
   "id": "f3683c35",
   "metadata": {},
   "outputs": [
    {
     "name": "stderr",
     "output_type": "stream",
     "text": [
      "<ipython-input-20-27ce2c1e2e26>:1: SettingWithCopyWarning: \n",
      "A value is trying to be set on a copy of a slice from a DataFrame\n",
      "\n",
      "See the caveats in the documentation: https://pandas.pydata.org/pandas-docs/stable/user_guide/indexing.html#returning-a-view-versus-a-copy\n",
      "  storeidcatdf.drop_duplicates(inplace=True)\n"
     ]
    }
   ],
   "source": [
    "storeidcatdf.drop_duplicates(inplace=True)"
   ]
  },
  {
   "cell_type": "code",
   "execution_count": 21,
   "id": "72b1c84a",
   "metadata": {},
   "outputs": [],
   "source": [
    "storeidcatdf = pd.merge(storeidcatdf, storeiddf, on=\"Store_id\", how=\"left\")"
   ]
  },
  {
   "cell_type": "code",
   "execution_count": 22,
   "id": "4e059f4e",
   "metadata": {},
   "outputs": [],
   "source": [
    "storeidcatdf = pd.merge(storeidcatdf, storecatdf, on=\"StoreCat\", how=\"left\")"
   ]
  },
  {
   "cell_type": "code",
   "execution_count": 23,
   "id": "0ad68e84",
   "metadata": {},
   "outputs": [
    {
     "data": {
      "text/html": [
       "<div>\n",
       "<style scoped>\n",
       "    .dataframe tbody tr th:only-of-type {\n",
       "        vertical-align: middle;\n",
       "    }\n",
       "\n",
       "    .dataframe tbody tr th {\n",
       "        vertical-align: top;\n",
       "    }\n",
       "\n",
       "    .dataframe thead th {\n",
       "        text-align: right;\n",
       "    }\n",
       "</style>\n",
       "<table border=\"1\" class=\"dataframe\">\n",
       "  <thead>\n",
       "    <tr style=\"text-align: right;\">\n",
       "      <th></th>\n",
       "      <th>Store_id</th>\n",
       "      <th>StoreCat</th>\n",
       "      <th>StoreAvg</th>\n",
       "      <th>StoreCatAvg</th>\n",
       "    </tr>\n",
       "  </thead>\n",
       "  <tbody>\n",
       "    <tr>\n",
       "      <th>0</th>\n",
       "      <td>1</td>\n",
       "      <td>S1L3R1</td>\n",
       "      <td>34698.442326</td>\n",
       "      <td>34440.891346</td>\n",
       "    </tr>\n",
       "    <tr>\n",
       "      <th>1</th>\n",
       "      <td>253</td>\n",
       "      <td>S4L2R1</td>\n",
       "      <td>54738.257151</td>\n",
       "      <td>66821.158023</td>\n",
       "    </tr>\n",
       "    <tr>\n",
       "      <th>2</th>\n",
       "      <td>252</td>\n",
       "      <td>S3L2R1</td>\n",
       "      <td>51991.910872</td>\n",
       "      <td>52003.152718</td>\n",
       "    </tr>\n",
       "    <tr>\n",
       "      <th>3</th>\n",
       "      <td>251</td>\n",
       "      <td>S2L3R1</td>\n",
       "      <td>31343.428779</td>\n",
       "      <td>31343.428779</td>\n",
       "    </tr>\n",
       "    <tr>\n",
       "      <th>4</th>\n",
       "      <td>250</td>\n",
       "      <td>S2L3R4</td>\n",
       "      <td>29409.917209</td>\n",
       "      <td>29096.769151</td>\n",
       "    </tr>\n",
       "  </tbody>\n",
       "</table>\n",
       "</div>"
      ],
      "text/plain": [
       "   Store_id StoreCat      StoreAvg   StoreCatAvg\n",
       "0         1   S1L3R1  34698.442326  34440.891346\n",
       "1       253   S4L2R1  54738.257151  66821.158023\n",
       "2       252   S3L2R1  51991.910872  52003.152718\n",
       "3       251   S2L3R1  31343.428779  31343.428779\n",
       "4       250   S2L3R4  29409.917209  29096.769151"
      ]
     },
     "execution_count": 23,
     "metadata": {},
     "output_type": "execute_result"
    }
   ],
   "source": [
    "storeidcatdf.head()"
   ]
  },
  {
   "cell_type": "code",
   "execution_count": 24,
   "id": "7abbf303",
   "metadata": {},
   "outputs": [],
   "source": [
    "storeidcatdf['Diff'] = storeidcatdf['StoreAvg'] - storeidcatdf['StoreCatAvg']"
   ]
  },
  {
   "cell_type": "code",
   "execution_count": 25,
   "id": "7eac6cbc",
   "metadata": {},
   "outputs": [],
   "source": [
    "df['Year'] = df['Date'].dt.year\n",
    "df['Month'] = df['Date'].dt.month\n",
    "df['DayOfWeek'] = df['Date'].dt.dayofweek"
   ]
  },
  {
   "cell_type": "code",
   "execution_count": 26,
   "id": "5cc03ad6",
   "metadata": {},
   "outputs": [],
   "source": [
    "df['Year'] = df['Year'].astype('category')\n",
    "df['Month'] = df['Month'].astype('category')"
   ]
  },
  {
   "cell_type": "code",
   "execution_count": 27,
   "id": "30acc7b9",
   "metadata": {},
   "outputs": [
    {
     "data": {
      "text/plain": [
       "0    27010\n",
       "1    27010\n",
       "2    27010\n",
       "3    27010\n",
       "4    27010\n",
       "5    26645\n",
       "6    26645\n",
       "Name: DayOfWeek, dtype: int64"
      ]
     },
     "execution_count": 27,
     "metadata": {},
     "output_type": "execute_result"
    }
   ],
   "source": [
    "df['DayOfWeek'].value_counts()"
   ]
  },
  {
   "cell_type": "code",
   "execution_count": 28,
   "id": "2e59174e",
   "metadata": {},
   "outputs": [],
   "source": [
    "dayOfWeekDict = {0:\"Monday\",\n",
    "                 1:\"Tuesday\",\n",
    "                 2:\"Wednesday\",\n",
    "                 3:\"Thursday\",\n",
    "                 4:\"Friday\",\n",
    "                 5:\"Saturday\",\n",
    "                 6:\"Sunday\"}"
   ]
  },
  {
   "cell_type": "code",
   "execution_count": 29,
   "id": "bddb252f",
   "metadata": {},
   "outputs": [],
   "source": [
    "df['DayOfWeek'] = df['DayOfWeek'].apply(lambda x : dayOfWeekDict.get(x))"
   ]
  },
  {
   "cell_type": "code",
   "execution_count": 30,
   "id": "56f5540e",
   "metadata": {},
   "outputs": [],
   "source": [
    "df2 = df[['Store_id', \"StoreCat\", \"Date\", \"DayOfWeek\", \"Holiday\", \"Discount\", \"#Order\", \"Sales\"]]"
   ]
  },
  {
   "cell_type": "code",
   "execution_count": 31,
   "id": "889111f6",
   "metadata": {},
   "outputs": [
    {
     "data": {
      "text/html": [
       "<div>\n",
       "<style scoped>\n",
       "    .dataframe tbody tr th:only-of-type {\n",
       "        vertical-align: middle;\n",
       "    }\n",
       "\n",
       "    .dataframe tbody tr th {\n",
       "        vertical-align: top;\n",
       "    }\n",
       "\n",
       "    .dataframe thead th {\n",
       "        text-align: right;\n",
       "    }\n",
       "</style>\n",
       "<table border=\"1\" class=\"dataframe\">\n",
       "  <thead>\n",
       "    <tr style=\"text-align: right;\">\n",
       "      <th></th>\n",
       "      <th>Store_id</th>\n",
       "      <th>StoreCat</th>\n",
       "      <th>Date</th>\n",
       "      <th>DayOfWeek</th>\n",
       "      <th>Holiday</th>\n",
       "      <th>Discount</th>\n",
       "      <th>#Order</th>\n",
       "      <th>Sales</th>\n",
       "    </tr>\n",
       "  </thead>\n",
       "  <tbody>\n",
       "    <tr>\n",
       "      <th>0</th>\n",
       "      <td>1</td>\n",
       "      <td>S1L3R1</td>\n",
       "      <td>2018-01-01</td>\n",
       "      <td>Monday</td>\n",
       "      <td>1</td>\n",
       "      <td>Yes</td>\n",
       "      <td>9</td>\n",
       "      <td>7011.84</td>\n",
       "    </tr>\n",
       "    <tr>\n",
       "      <th>1</th>\n",
       "      <td>253</td>\n",
       "      <td>S4L2R1</td>\n",
       "      <td>2018-01-01</td>\n",
       "      <td>Monday</td>\n",
       "      <td>1</td>\n",
       "      <td>Yes</td>\n",
       "      <td>60</td>\n",
       "      <td>51789.12</td>\n",
       "    </tr>\n",
       "    <tr>\n",
       "      <th>2</th>\n",
       "      <td>252</td>\n",
       "      <td>S3L2R1</td>\n",
       "      <td>2018-01-01</td>\n",
       "      <td>Monday</td>\n",
       "      <td>1</td>\n",
       "      <td>Yes</td>\n",
       "      <td>42</td>\n",
       "      <td>36868.20</td>\n",
       "    </tr>\n",
       "    <tr>\n",
       "      <th>3</th>\n",
       "      <td>251</td>\n",
       "      <td>S2L3R1</td>\n",
       "      <td>2018-01-01</td>\n",
       "      <td>Monday</td>\n",
       "      <td>1</td>\n",
       "      <td>Yes</td>\n",
       "      <td>23</td>\n",
       "      <td>19715.16</td>\n",
       "    </tr>\n",
       "    <tr>\n",
       "      <th>4</th>\n",
       "      <td>250</td>\n",
       "      <td>S2L3R4</td>\n",
       "      <td>2018-01-01</td>\n",
       "      <td>Monday</td>\n",
       "      <td>1</td>\n",
       "      <td>Yes</td>\n",
       "      <td>62</td>\n",
       "      <td>45614.52</td>\n",
       "    </tr>\n",
       "  </tbody>\n",
       "</table>\n",
       "</div>"
      ],
      "text/plain": [
       "   Store_id StoreCat       Date DayOfWeek  Holiday Discount  #Order     Sales\n",
       "0         1   S1L3R1 2018-01-01    Monday        1      Yes       9   7011.84\n",
       "1       253   S4L2R1 2018-01-01    Monday        1      Yes      60  51789.12\n",
       "2       252   S3L2R1 2018-01-01    Monday        1      Yes      42  36868.20\n",
       "3       251   S2L3R1 2018-01-01    Monday        1      Yes      23  19715.16\n",
       "4       250   S2L3R4 2018-01-01    Monday        1      Yes      62  45614.52"
      ]
     },
     "execution_count": 31,
     "metadata": {},
     "output_type": "execute_result"
    }
   ],
   "source": [
    "df2.head()"
   ]
  },
  {
   "cell_type": "code",
   "execution_count": 32,
   "id": "b03186e5",
   "metadata": {},
   "outputs": [
    {
     "name": "stdout",
     "output_type": "stream",
     "text": [
      "Number of levels in Year is 2\n",
      "Number of levels in Month is 12\n"
     ]
    }
   ],
   "source": [
    "for col in df.select_dtypes(include=['category']).columns.tolist():\n",
    "    print(\"Number of levels in {} is {}\".format(col, df[col].nunique()))"
   ]
  },
  {
   "cell_type": "code",
   "execution_count": 33,
   "id": "91bfd7a9",
   "metadata": {},
   "outputs": [
    {
     "data": {
      "text/plain": [
       "128    516\n",
       "84     516\n",
       "211    516\n",
       "83     516\n",
       "338    516\n",
       "      ... \n",
       "168    516\n",
       "40     516\n",
       "295    516\n",
       "167    516\n",
       "255    516\n",
       "Name: Store_id, Length: 365, dtype: int64"
      ]
     },
     "execution_count": 33,
     "metadata": {},
     "output_type": "execute_result"
    }
   ],
   "source": [
    "df['Store_id'].value_counts()"
   ]
  },
  {
   "cell_type": "code",
   "execution_count": 34,
   "id": "eb199d29",
   "metadata": {},
   "outputs": [
    {
     "data": {
      "text/plain": [
       "S1    88752\n",
       "S4    45924\n",
       "S2    28896\n",
       "S3    24768\n",
       "Name: Store_Type, dtype: int64"
      ]
     },
     "execution_count": 34,
     "metadata": {},
     "output_type": "execute_result"
    }
   ],
   "source": [
    "df['Store_Type'].value_counts()"
   ]
  },
  {
   "cell_type": "code",
   "execution_count": 35,
   "id": "05a9a425",
   "metadata": {},
   "outputs": [
    {
     "data": {
      "text/plain": [
       "L1    85140\n",
       "L2    48504\n",
       "L3    29928\n",
       "L5    13932\n",
       "L4    10836\n",
       "Name: Location_Type, dtype: int64"
      ]
     },
     "execution_count": 35,
     "metadata": {},
     "output_type": "execute_result"
    }
   ],
   "source": [
    "df['Location_Type'].value_counts()"
   ]
  },
  {
   "cell_type": "code",
   "execution_count": 36,
   "id": "b4116d53",
   "metadata": {},
   "outputs": [
    {
     "data": {
      "text/plain": [
       "R1    63984\n",
       "R2    54180\n",
       "R3    44376\n",
       "R4    25800\n",
       "Name: Region_Code, dtype: int64"
      ]
     },
     "execution_count": 36,
     "metadata": {},
     "output_type": "execute_result"
    }
   ],
   "source": [
    "df['Region_Code'].value_counts()"
   ]
  },
  {
   "cell_type": "code",
   "execution_count": 37,
   "id": "c74f2e43",
   "metadata": {},
   "outputs": [
    {
     "data": {
      "text/plain": [
       "0    163520\n",
       "1     24820\n",
       "Name: Holiday, dtype: int64"
      ]
     },
     "execution_count": 37,
     "metadata": {},
     "output_type": "execute_result"
    }
   ],
   "source": [
    "df['Holiday'].value_counts()"
   ]
  },
  {
   "cell_type": "code",
   "execution_count": 38,
   "id": "3bfccc78",
   "metadata": {},
   "outputs": [
    {
     "data": {
      "text/plain": [
       "No     104051\n",
       "Yes     84289\n",
       "Name: Discount, dtype: int64"
      ]
     },
     "execution_count": 38,
     "metadata": {},
     "output_type": "execute_result"
    }
   ],
   "source": [
    "df['Discount'].value_counts()"
   ]
  },
  {
   "cell_type": "code",
   "execution_count": 39,
   "id": "1a5503c4",
   "metadata": {},
   "outputs": [
    {
     "name": "stderr",
     "output_type": "stream",
     "text": [
      "/Users/sundara/Documents/venv/lib/python3.9/site-packages/seaborn/_decorators.py:36: FutureWarning: Pass the following variable as a keyword arg: x. From version 0.12, the only valid positional argument will be `data`, and passing other arguments without an explicit keyword will result in an error or misinterpretation.\n",
      "  warnings.warn(\n"
     ]
    },
    {
     "data": {
      "text/plain": [
       "<AxesSubplot:xlabel='#Order'>"
      ]
     },
     "execution_count": 39,
     "metadata": {},
     "output_type": "execute_result"
    },
    {
     "data": {
      "image/png": "[encoded data removed]",
      "text/plain": [
       "<Figure size 432x288 with 1 Axes>"
      ]
     },
     "metadata": {
      "needs_background": "light"
     },
     "output_type": "display_data"
    }
   ],
   "source": [
    "sns.boxplot(df['#Order'])"
   ]
  },
  {
   "cell_type": "code",
   "execution_count": 40,
   "id": "966e9e86",
   "metadata": {},
   "outputs": [
    {
     "data": {
      "text/plain": [
       "<AxesSubplot:xlabel='Holiday', ylabel='#Order'>"
      ]
     },
     "execution_count": 40,
     "metadata": {},
     "output_type": "execute_result"
    },
    {
     "data": {
      "image/png": "[encoded data removed]",
      "text/plain": [
       "<Figure size 432x288 with 1 Axes>"
      ]
     },
     "metadata": {
      "needs_background": "light"
     },
     "output_type": "display_data"
    }
   ],
   "source": [
    "sns.boxplot(y='#Order', x=\"Holiday\", hue = 'Discount', data=df)"
   ]
  },
  {
   "cell_type": "code",
   "execution_count": null,
   "id": "1a099165",
   "metadata": {},
   "outputs": [],
   "source": []
  },
  {
   "cell_type": "code",
   "execution_count": null,
   "id": "e6d316d7",
   "metadata": {},
   "outputs": [],
   "source": []
  },
  {
   "cell_type": "code",
   "execution_count": 41,
   "id": "8e80bca6",
   "metadata": {},
   "outputs": [
    {
     "name": "stderr",
     "output_type": "stream",
     "text": [
      "/Users/sundara/Documents/venv/lib/python3.9/site-packages/seaborn/_decorators.py:36: FutureWarning: Pass the following variable as a keyword arg: x. From version 0.12, the only valid positional argument will be `data`, and passing other arguments without an explicit keyword will result in an error or misinterpretation.\n",
      "  warnings.warn(\n"
     ]
    },
    {
     "data": {
      "text/plain": [
       "<AxesSubplot:xlabel='Sales'>"
      ]
     },
     "execution_count": 41,
     "metadata": {},
     "output_type": "execute_result"
    },
    {
     "data": {
      "image/png": "[encoded data removed]",
      "text/plain": [
       "<Figure size 432x288 with 1 Axes>"
      ]
     },
     "metadata": {
      "needs_background": "light"
     },
     "output_type": "display_data"
    }
   ],
   "source": [
    "sns.boxplot(df['Sales'])"
   ]
  },
  {
   "cell_type": "code",
   "execution_count": 42,
   "id": "828dceff",
   "metadata": {},
   "outputs": [
    {
     "data": {
      "text/plain": [
       "<AxesSubplot:xlabel='Holiday', ylabel='Sales'>"
      ]
     },
     "execution_count": 42,
     "metadata": {},
     "output_type": "execute_result"
    },
    {
     "data": {
      "image/png": "[encoded data removed]",
      "text/plain": [
       "<Figure size 432x288 with 1 Axes>"
      ]
     },
     "metadata": {
      "needs_background": "light"
     },
     "output_type": "display_data"
    }
   ],
   "source": [
    "sns.boxplot(y='Sales', x=\"Holiday\", hue = 'Discount', data=df)"
   ]
  },
  {
   "cell_type": "code",
   "execution_count": 43,
   "id": "6e79e47e",
   "metadata": {},
   "outputs": [],
   "source": [
    "store1 = df[df['Store_id']==1]"
   ]
  },
  {
   "cell_type": "code",
   "execution_count": 44,
   "id": "b78fbb2b",
   "metadata": {},
   "outputs": [
    {
     "data": {
      "text/html": [
       "<div>\n",
       "<style scoped>\n",
       "    .dataframe tbody tr th:only-of-type {\n",
       "        vertical-align: middle;\n",
       "    }\n",
       "\n",
       "    .dataframe tbody tr th {\n",
       "        vertical-align: top;\n",
       "    }\n",
       "\n",
       "    .dataframe thead th {\n",
       "        text-align: right;\n",
       "    }\n",
       "</style>\n",
       "<table border=\"1\" class=\"dataframe\">\n",
       "  <thead>\n",
       "    <tr style=\"text-align: right;\">\n",
       "      <th></th>\n",
       "      <th>ID</th>\n",
       "      <th>Store_id</th>\n",
       "      <th>Store_Type</th>\n",
       "      <th>Location_Type</th>\n",
       "      <th>Region_Code</th>\n",
       "      <th>Date</th>\n",
       "      <th>Holiday</th>\n",
       "      <th>Discount</th>\n",
       "      <th>#Order</th>\n",
       "      <th>Sales</th>\n",
       "      <th>StoreCat</th>\n",
       "      <th>Year</th>\n",
       "      <th>Month</th>\n",
       "      <th>DayOfWeek</th>\n",
       "    </tr>\n",
       "  </thead>\n",
       "  <tbody>\n",
       "    <tr>\n",
       "      <th>0</th>\n",
       "      <td>T1000001</td>\n",
       "      <td>1</td>\n",
       "      <td>S1</td>\n",
       "      <td>L3</td>\n",
       "      <td>R1</td>\n",
       "      <td>2018-01-01</td>\n",
       "      <td>1</td>\n",
       "      <td>Yes</td>\n",
       "      <td>9</td>\n",
       "      <td>7011.84</td>\n",
       "      <td>S1L3R1</td>\n",
       "      <td>2018</td>\n",
       "      <td>1</td>\n",
       "      <td>Monday</td>\n",
       "    </tr>\n",
       "    <tr>\n",
       "      <th>607</th>\n",
       "      <td>T1000608</td>\n",
       "      <td>1</td>\n",
       "      <td>S1</td>\n",
       "      <td>L3</td>\n",
       "      <td>R1</td>\n",
       "      <td>2018-01-02</td>\n",
       "      <td>0</td>\n",
       "      <td>Yes</td>\n",
       "      <td>60</td>\n",
       "      <td>42369.00</td>\n",
       "      <td>S1L3R1</td>\n",
       "      <td>2018</td>\n",
       "      <td>1</td>\n",
       "      <td>Tuesday</td>\n",
       "    </tr>\n",
       "    <tr>\n",
       "      <th>1046</th>\n",
       "      <td>T1001047</td>\n",
       "      <td>1</td>\n",
       "      <td>S1</td>\n",
       "      <td>L3</td>\n",
       "      <td>R1</td>\n",
       "      <td>2018-01-03</td>\n",
       "      <td>0</td>\n",
       "      <td>Yes</td>\n",
       "      <td>72</td>\n",
       "      <td>50037.00</td>\n",
       "      <td>S1L3R1</td>\n",
       "      <td>2018</td>\n",
       "      <td>1</td>\n",
       "      <td>Wednesday</td>\n",
       "    </tr>\n",
       "    <tr>\n",
       "      <th>1207</th>\n",
       "      <td>T1001208</td>\n",
       "      <td>1</td>\n",
       "      <td>S1</td>\n",
       "      <td>L3</td>\n",
       "      <td>R1</td>\n",
       "      <td>2018-01-04</td>\n",
       "      <td>0</td>\n",
       "      <td>Yes</td>\n",
       "      <td>64</td>\n",
       "      <td>44397.00</td>\n",
       "      <td>S1L3R1</td>\n",
       "      <td>2018</td>\n",
       "      <td>1</td>\n",
       "      <td>Thursday</td>\n",
       "    </tr>\n",
       "    <tr>\n",
       "      <th>1752</th>\n",
       "      <td>T1001753</td>\n",
       "      <td>1</td>\n",
       "      <td>S1</td>\n",
       "      <td>L3</td>\n",
       "      <td>R1</td>\n",
       "      <td>2018-01-05</td>\n",
       "      <td>0</td>\n",
       "      <td>Yes</td>\n",
       "      <td>63</td>\n",
       "      <td>47604.00</td>\n",
       "      <td>S1L3R1</td>\n",
       "      <td>2018</td>\n",
       "      <td>1</td>\n",
       "      <td>Friday</td>\n",
       "    </tr>\n",
       "  </tbody>\n",
       "</table>\n",
       "</div>"
      ],
      "text/plain": [
       "            ID  Store_id Store_Type Location_Type Region_Code       Date  \\\n",
       "0     T1000001         1         S1            L3          R1 2018-01-01   \n",
       "607   T1000608         1         S1            L3          R1 2018-01-02   \n",
       "1046  T1001047         1         S1            L3          R1 2018-01-03   \n",
       "1207  T1001208         1         S1            L3          R1 2018-01-04   \n",
       "1752  T1001753         1         S1            L3          R1 2018-01-05   \n",
       "\n",
       "      Holiday Discount  #Order     Sales StoreCat  Year Month  DayOfWeek  \n",
       "0           1      Yes       9   7011.84   S1L3R1  2018     1     Monday  \n",
       "607         0      Yes      60  42369.00   S1L3R1  2018     1    Tuesday  \n",
       "1046        0      Yes      72  50037.00   S1L3R1  2018     1  Wednesday  \n",
       "1207        0      Yes      64  44397.00   S1L3R1  2018     1   Thursday  \n",
       "1752        0      Yes      63  47604.00   S1L3R1  2018     1     Friday  "
      ]
     },
     "execution_count": 44,
     "metadata": {},
     "output_type": "execute_result"
    }
   ],
   "source": [
    "store1.head()"
   ]
  },
  {
   "cell_type": "code",
   "execution_count": 45,
   "id": "9c91a74b",
   "metadata": {},
   "outputs": [],
   "source": [
    "for store in df['Store_id'].unique().tolist():\n",
    "    storedf = df[df['Store_id']==store]\n",
    "    for col in storedf.select_dtypes(include=['category']).columns.tolist():\n",
    "        cnt = storedf[col].nunique()\n",
    "        if (cnt != 1) & (col not in [\"Holiday\", \"Discount\", \"Year\", \"Month\"]):\n",
    "            print(\"Store ID {} : Number of levels in {} is {}\".format(store, col, cnt))"
   ]
  },
  {
   "cell_type": "code",
   "execution_count": null,
   "id": "270cc943",
   "metadata": {},
   "outputs": [],
   "source": []
  },
  {
   "cell_type": "code",
   "execution_count": 46,
   "id": "ca165ae5",
   "metadata": {},
   "outputs": [],
   "source": [
    "storedf = df2[df2['Store_id']==1]"
   ]
  },
  {
   "cell_type": "code",
   "execution_count": 47,
   "id": "5f8aca06",
   "metadata": {},
   "outputs": [
    {
     "data": {
      "text/plain": [
       "(516, 8)"
      ]
     },
     "execution_count": 47,
     "metadata": {},
     "output_type": "execute_result"
    }
   ],
   "source": [
    "storedf.shape"
   ]
  },
  {
   "cell_type": "code",
   "execution_count": 48,
   "id": "7d1befbe",
   "metadata": {},
   "outputs": [],
   "source": [
    "timeseriesdf = storedf[['Date', 'Sales']]"
   ]
  },
  {
   "cell_type": "code",
   "execution_count": 49,
   "id": "dd49a450",
   "metadata": {},
   "outputs": [],
   "source": [
    "timeseriesdf.set_index('Date', inplace=True)"
   ]
  },
  {
   "cell_type": "code",
   "execution_count": 50,
   "id": "11e27988",
   "metadata": {},
   "outputs": [
    {
     "data": {
      "text/plain": [
       "<AxesSubplot:xlabel='Date'>"
      ]
     },
     "execution_count": 50,
     "metadata": {},
     "output_type": "execute_result"
    },
    {
     "data": {
      "image/png": "[encoded data removed]",
      "text/plain": [
       "<Figure size 432x288 with 1 Axes>"
      ]
     },
     "metadata": {
      "needs_background": "light"
     },
     "output_type": "display_data"
    }
   ],
   "source": [
    "timeseriesdf.plot()"
   ]
  },
  {
   "cell_type": "code",
   "execution_count": 51,
   "id": "7a137406",
   "metadata": {},
   "outputs": [],
   "source": [
    "ordertsdf = storedf[['Date', '#Order']]"
   ]
  },
  {
   "cell_type": "code",
   "execution_count": 52,
   "id": "c4e74238",
   "metadata": {},
   "outputs": [],
   "source": [
    "ordertsdf.set_index('Date', inplace=True)"
   ]
  },
  {
   "cell_type": "code",
   "execution_count": 53,
   "id": "19bee345",
   "metadata": {},
   "outputs": [
    {
     "data": {
      "text/plain": [
       "<AxesSubplot:xlabel='Date'>"
      ]
     },
     "execution_count": 53,
     "metadata": {},
     "output_type": "execute_result"
    },
    {
     "data": {
      "image/png": "[encoded data removed]",
      "text/plain": [
       "<Figure size 432x288 with 1 Axes>"
      ]
     },
     "metadata": {
      "needs_background": "light"
     },
     "output_type": "display_data"
    }
   ],
   "source": [
    "ordertsdf.plot()"
   ]
  },
  {
   "cell_type": "code",
   "execution_count": 54,
   "id": "2a5185ed",
   "metadata": {},
   "outputs": [],
   "source": [
    "corrdf = storedf[['#Order', \"Sales\"]].corr()"
   ]
  },
  {
   "cell_type": "code",
   "execution_count": 55,
   "id": "4faed543",
   "metadata": {
    "scrolled": true
   },
   "outputs": [
    {
     "data": {
      "image/png": "[encoded data removed]",
      "text/plain": [
       "<Figure size 1368x1080 with 1 Axes>"
      ]
     },
     "metadata": {
      "needs_background": "light"
     },
     "output_type": "display_data"
    }
   ],
   "source": [
    "f = plt.figure(figsize=(19, 15))\n",
    "plt.matshow(corrdf, fignum=f.number)\n",
    "plt.title('Correlation Matrix', fontsize=16);"
   ]
  },
  {
   "cell_type": "code",
   "execution_count": 56,
   "id": "c12637a1",
   "metadata": {},
   "outputs": [
    {
     "data": {
      "text/html": [
       "<style  type=\"text/css\" >\n",
       "#T_4aae2_row0_col0,#T_4aae2_row1_col1{\n",
       "            background-color:  #b40426;\n",
       "            color:  #f1f1f1;\n",
       "        }#T_4aae2_row0_col1,#T_4aae2_row1_col0{\n",
       "            background-color:  #3b4cc0;\n",
       "            color:  #f1f1f1;\n",
       "        }</style><table id=\"T_4aae2_\" ><thead>    <tr>        <th class=\"blank level0\" ></th>        <th class=\"col_heading level0 col0\" >#Order</th>        <th class=\"col_heading level0 col1\" >Sales</th>    </tr></thead><tbody>\n",
       "                <tr>\n",
       "                        <th id=\"T_4aae2_level0_row0\" class=\"row_heading level0 row0\" >#Order</th>\n",
       "                        <td id=\"T_4aae2_row0_col0\" class=\"data row0 col0\" >1.00</td>\n",
       "                        <td id=\"T_4aae2_row0_col1\" class=\"data row0 col1\" >0.95</td>\n",
       "            </tr>\n",
       "            <tr>\n",
       "                        <th id=\"T_4aae2_level0_row1\" class=\"row_heading level0 row1\" >Sales</th>\n",
       "                        <td id=\"T_4aae2_row1_col0\" class=\"data row1 col0\" >0.95</td>\n",
       "                        <td id=\"T_4aae2_row1_col1\" class=\"data row1 col1\" >1.00</td>\n",
       "            </tr>\n",
       "    </tbody></table>"
      ],
      "text/plain": [
       "<pandas.io.formats.style.Styler at 0x7fba26522b80>"
      ]
     },
     "execution_count": 56,
     "metadata": {},
     "output_type": "execute_result"
    }
   ],
   "source": [
    "corrdf.style.background_gradient(cmap='coolwarm').set_precision(2)\n"
   ]
  },
  {
   "cell_type": "code",
   "execution_count": 57,
   "id": "ba93f3e8",
   "metadata": {},
   "outputs": [],
   "source": [
    "from sklearn.linear_model import LinearRegression"
   ]
  },
  {
   "cell_type": "code",
   "execution_count": 58,
   "id": "112ff76c",
   "metadata": {},
   "outputs": [],
   "source": [
    "reg = LinearRegression()"
   ]
  },
  {
   "cell_type": "code",
   "execution_count": 59,
   "id": "4fd03142",
   "metadata": {},
   "outputs": [],
   "source": [
    "X = storedf[['#Order']]\n",
    "y = storedf[['Sales']]"
   ]
  },
  {
   "cell_type": "code",
   "execution_count": 60,
   "id": "9c7af713",
   "metadata": {},
   "outputs": [
    {
     "data": {
      "text/plain": [
       "LinearRegression()"
      ]
     },
     "execution_count": 60,
     "metadata": {},
     "output_type": "execute_result"
    }
   ],
   "source": [
    "reg.fit(X, y)"
   ]
  },
  {
   "cell_type": "code",
   "execution_count": 61,
   "id": "6c1e6078",
   "metadata": {},
   "outputs": [
    {
     "name": "stdout",
     "output_type": "stream",
     "text": [
      "LinearRegression()\n"
     ]
    }
   ],
   "source": [
    "print(reg)"
   ]
  },
  {
   "cell_type": "code",
   "execution_count": 62,
   "id": "fe03e5b7",
   "metadata": {},
   "outputs": [
    {
     "data": {
      "text/plain": [
       "0.9071626394368785"
      ]
     },
     "execution_count": 62,
     "metadata": {},
     "output_type": "execute_result"
    }
   ],
   "source": [
    "reg.score(X, y)"
   ]
  },
  {
   "cell_type": "code",
   "execution_count": 63,
   "id": "c29f99b9",
   "metadata": {},
   "outputs": [
    {
     "data": {
      "text/plain": [
       "array([[613.08108771]])"
      ]
     },
     "execution_count": 63,
     "metadata": {},
     "output_type": "execute_result"
    }
   ],
   "source": [
    "reg.coef_"
   ]
  },
  {
   "cell_type": "code",
   "execution_count": 64,
   "id": "35c14797",
   "metadata": {},
   "outputs": [
    {
     "data": {
      "text/plain": [
       "array([-1549.38291426])"
      ]
     },
     "execution_count": 64,
     "metadata": {},
     "output_type": "execute_result"
    }
   ],
   "source": [
    "reg.intercept_"
   ]
  },
  {
   "cell_type": "code",
   "execution_count": null,
   "id": "f0a3db59",
   "metadata": {},
   "outputs": [],
   "source": []
  },
  {
   "cell_type": "code",
   "execution_count": 65,
   "id": "a0a04863",
   "metadata": {},
   "outputs": [],
   "source": [
    "from statsmodels.api import OLS"
   ]
  },
  {
   "cell_type": "code",
   "execution_count": 66,
   "id": "af0f92f2",
   "metadata": {},
   "outputs": [],
   "source": [
    "ols = OLS(y, X)"
   ]
  },
  {
   "cell_type": "code",
   "execution_count": 67,
   "id": "31d4d413",
   "metadata": {},
   "outputs": [
    {
     "data": {
      "text/html": [
       "<table class=\"simpletable\">\n",
       "<caption>OLS Regression Results</caption>\n",
       "<tr>\n",
       "  <th>Dep. Variable:</th>          <td>Sales</td>      <th>  R-squared (uncentered):</th>      <td>   0.990</td> \n",
       "</tr>\n",
       "<tr>\n",
       "  <th>Model:</th>                   <td>OLS</td>       <th>  Adj. R-squared (uncentered):</th> <td>   0.990</td> \n",
       "</tr>\n",
       "<tr>\n",
       "  <th>Method:</th>             <td>Least Squares</td>  <th>  F-statistic:       </th>          <td>5.210e+04</td>\n",
       "</tr>\n",
       "<tr>\n",
       "  <th>Date:</th>             <td>Fri, 17 Sep 2021</td> <th>  Prob (F-statistic):</th>           <td>  0.00</td>  \n",
       "</tr>\n",
       "<tr>\n",
       "  <th>Time:</th>                 <td>23:27:30</td>     <th>  Log-Likelihood:    </th>          <td> -4961.2</td> \n",
       "</tr>\n",
       "<tr>\n",
       "  <th>No. Observations:</th>      <td>   516</td>      <th>  AIC:               </th>          <td>   9924.</td> \n",
       "</tr>\n",
       "<tr>\n",
       "  <th>Df Residuals:</th>          <td>   515</td>      <th>  BIC:               </th>          <td>   9929.</td> \n",
       "</tr>\n",
       "<tr>\n",
       "  <th>Df Model:</th>              <td>     1</td>      <th>                     </th>              <td> </td>    \n",
       "</tr>\n",
       "<tr>\n",
       "  <th>Covariance Type:</th>      <td>nonrobust</td>    <th>                     </th>              <td> </td>    \n",
       "</tr>\n",
       "</table>\n",
       "<table class=\"simpletable\">\n",
       "<tr>\n",
       "     <td></td>       <th>coef</th>     <th>std err</th>      <th>t</th>      <th>P>|t|</th>  <th>[0.025</th>    <th>0.975]</th>  \n",
       "</tr>\n",
       "<tr>\n",
       "  <th>#Order</th> <td>  589.1754</td> <td>    2.581</td> <td>  228.265</td> <td> 0.000</td> <td>  584.105</td> <td>  594.246</td>\n",
       "</tr>\n",
       "</table>\n",
       "<table class=\"simpletable\">\n",
       "<tr>\n",
       "  <th>Omnibus:</th>       <td>62.951</td> <th>  Durbin-Watson:     </th> <td>   0.704</td>\n",
       "</tr>\n",
       "<tr>\n",
       "  <th>Prob(Omnibus):</th> <td> 0.000</td> <th>  Jarque-Bera (JB):  </th> <td> 423.276</td>\n",
       "</tr>\n",
       "<tr>\n",
       "  <th>Skew:</th>          <td> 0.230</td> <th>  Prob(JB):          </th> <td>1.22e-92</td>\n",
       "</tr>\n",
       "<tr>\n",
       "  <th>Kurtosis:</th>      <td> 7.413</td> <th>  Cond. No.          </th> <td>    1.00</td>\n",
       "</tr>\n",
       "</table><br/><br/>Notes:<br/>[1] R² is computed without centering (uncentered) since the model does not contain a constant.<br/>[2] Standard Errors assume that the covariance matrix of the errors is correctly specified."
      ],
      "text/plain": [
       "<class 'statsmodels.iolib.summary.Summary'>\n",
       "\"\"\"\n",
       "                                 OLS Regression Results                                \n",
       "=======================================================================================\n",
       "Dep. Variable:                  Sales   R-squared (uncentered):                   0.990\n",
       "Model:                            OLS   Adj. R-squared (uncentered):              0.990\n",
       "Method:                 Least Squares   F-statistic:                          5.210e+04\n",
       "Date:                Fri, 17 Sep 2021   Prob (F-statistic):                        0.00\n",
       "Time:                        23:27:30   Log-Likelihood:                         -4961.2\n",
       "No. Observations:                 516   AIC:                                      9924.\n",
       "Df Residuals:                     515   BIC:                                      9929.\n",
       "Df Model:                           1                                                  \n",
       "Covariance Type:            nonrobust                                                  \n",
       "==============================================================================\n",
       "                 coef    std err          t      P>|t|      [0.025      0.975]\n",
       "------------------------------------------------------------------------------\n",
       "#Order       589.1754      2.581    228.265      0.000     584.105     594.246\n",
       "==============================================================================\n",
       "Omnibus:                       62.951   Durbin-Watson:                   0.704\n",
       "Prob(Omnibus):                  0.000   Jarque-Bera (JB):              423.276\n",
       "Skew:                           0.230   Prob(JB):                     1.22e-92\n",
       "Kurtosis:                       7.413   Cond. No.                         1.00\n",
       "==============================================================================\n",
       "\n",
       "Notes:\n",
       "[1] R² is computed without centering (uncentered) since the model does not contain a constant.\n",
       "[2] Standard Errors assume that the covariance matrix of the errors is correctly specified.\n",
       "\"\"\""
      ]
     },
     "execution_count": 67,
     "metadata": {},
     "output_type": "execute_result"
    }
   ],
   "source": [
    "ols.fit().summary()"
   ]
  },
  {
   "cell_type": "code",
   "execution_count": null,
   "id": "aab3faa3",
   "metadata": {},
   "outputs": [],
   "source": []
  },
  {
   "cell_type": "code",
   "execution_count": null,
   "id": "3c3c98fb",
   "metadata": {},
   "outputs": [],
   "source": []
  },
  {
   "cell_type": "code",
   "execution_count": null,
   "id": "642d9f32",
   "metadata": {},
   "outputs": [],
   "source": []
  },
  {
   "cell_type": "code",
   "execution_count": 68,
   "id": "ee2c2515",
   "metadata": {},
   "outputs": [],
   "source": [
    "import statsmodels.api as sm"
   ]
  },
  {
   "cell_type": "code",
   "execution_count": 69,
   "id": "b16420b4",
   "metadata": {},
   "outputs": [
    {
     "name": "stdout",
     "output_type": "stream",
     "text": [
      "p-value:0.005669638502010902\n"
     ]
    }
   ],
   "source": [
    "#ADF-test(Original-time-series)\n",
    "res = sm.tsa.adfuller(storedf['Sales'],regression='ct')\n",
    "print('p-value:{}'.format(res[1]))"
   ]
  },
  {
   "cell_type": "code",
   "execution_count": 70,
   "id": "b6859ec5",
   "metadata": {},
   "outputs": [
    {
     "name": "stdout",
     "output_type": "stream",
     "text": [
      "p-value:1.5318720959829444e-13\n"
     ]
    }
   ],
   "source": [
    "#ADF-test(differenced-time-series)\n",
    "res = sm.tsa.adfuller(storedf['Sales'].diff().dropna(),regression='c')\n",
    "print('p-value:{}'.format(res[1]))"
   ]
  },
  {
   "cell_type": "code",
   "execution_count": 81,
   "id": "975f1036",
   "metadata": {},
   "outputs": [
    {
     "data": {
      "image/png": "[encoded data removed]",
      "text/plain": [
       "<Figure size 1440x720 with 2 Axes>"
      ]
     },
     "metadata": {
      "needs_background": "light"
     },
     "output_type": "display_data"
    }
   ],
   "source": [
    "#we use tra.diff()(differenced data), because this time series is unit root process.\n",
    "fig,ax = plt.subplots(2,1,figsize=(20,10))\n",
    "fig = sm.graphics.tsa.plot_acf(timeseriesdf.diff().dropna(), lags=60, ax=ax[0])\n",
    "fig = sm.graphics.tsa.plot_pacf(timeseriesdf.diff().dropna(), lags=60, ax=ax[1])\n",
    "plt.show()"
   ]
  },
  {
   "cell_type": "code",
   "execution_count": 72,
   "id": "f696fe20",
   "metadata": {},
   "outputs": [],
   "source": [
    "# resDiff = sm.tsa.arma_order_select_ic(timeseriesdf, max_ar=7, max_ma=7, ic='aic', trend='c')\n",
    "# print('ARMA(p,q) =',resDiff['aic_min_order'],'is the best.')"
   ]
  },
  {
   "cell_type": "code",
   "execution_count": 79,
   "id": "15682d1a",
   "metadata": {},
   "outputs": [],
   "source": [
    "from statsmodels.graphics.tsaplots import plot_acf, plot_pacf"
   ]
  },
  {
   "cell_type": "code",
   "execution_count": 77,
   "id": "fc7950b4",
   "metadata": {},
   "outputs": [
    {
     "data": {
      "image/png": "[encoded data removed]",
      "text/plain": [
       "<Figure size 432x288 with 1 Axes>"
      ]
     },
     "metadata": {
      "needs_background": "light"
     },
     "output_type": "display_data"
    }
   ],
   "source": [
    "plot_acf(timeseriesdf)\n",
    "plt.show()"
   ]
  },
  {
   "cell_type": "code",
   "execution_count": 80,
   "id": "e717145c",
   "metadata": {},
   "outputs": [
    {
     "data": {
      "image/png": "[encoded data removed]",
      "text/plain": [
       "<Figure size 432x288 with 1 Axes>"
      ]
     },
     "metadata": {
      "needs_background": "light"
     },
     "output_type": "display_data"
    }
   ],
   "source": [
    "plot_pacf(timeseriesdf)\n",
    "plt.show()"
   ]
  },
  {
   "cell_type": "code",
   "execution_count": null,
   "id": "35c78af3",
   "metadata": {},
   "outputs": [],
   "source": []
  },
  {
   "cell_type": "code",
   "execution_count": 73,
   "id": "4c42bd62",
   "metadata": {},
   "outputs": [],
   "source": [
    "# aggdf = df.groupby(['Store_id', 'Store_Type', 'Location_Type', \n",
    "#             'Region_Code', 'Holiday', 'Discount', 'Year', 'Month'])\\\n",
    "#   .agg({\"#Order\":np.sum, \"Sales\":np.sum})"
   ]
  },
  {
   "cell_type": "code",
   "execution_count": 83,
   "id": "b60c0781",
   "metadata": {},
   "outputs": [],
   "source": [
    "import requests"
   ]
  },
  {
   "cell_type": "code",
   "execution_count": 85,
   "id": "9e84f092",
   "metadata": {},
   "outputs": [],
   "source": [
    "from io import BytesIO"
   ]
  },
  {
   "cell_type": "code",
   "execution_count": 89,
   "id": "464f99de",
   "metadata": {},
   "outputs": [],
   "source": [
    "from datetime import datetime"
   ]
  },
  {
   "cell_type": "code",
   "execution_count": null,
   "id": "3edbbe84",
   "metadata": {},
   "outputs": [],
   "source": []
  },
  {
   "cell_type": "code",
   "execution_count": null,
   "id": "0a3b96b1",
   "metadata": {},
   "outputs": [],
   "source": []
  },
  {
   "cell_type": "code",
   "execution_count": 237,
   "id": "0c7887cc",
   "metadata": {},
   "outputs": [
    {
     "name": "stderr",
     "output_type": "stream",
     "text": [
      "<ipython-input-237-322376194a08>:1: FutureWarning: Treating datetime data as categorical rather than numeric in `.describe` is deprecated and will be removed in a future version of pandas. Specify `datetime_is_numeric=True` to silence this warning and adopt the future behavior now.\n",
      "  df2.Date.describe()\n"
     ]
    },
    {
     "data": {
      "text/plain": [
       "count                  188340\n",
       "unique                    516\n",
       "top       2019-01-22 00:00:00\n",
       "freq                      365\n",
       "first     2018-01-01 00:00:00\n",
       "last      2019-05-31 00:00:00\n",
       "Name: Date, dtype: object"
      ]
     },
     "execution_count": 237,
     "metadata": {},
     "output_type": "execute_result"
    }
   ],
   "source": [
    "df2.Date.describe()"
   ]
  },
  {
   "cell_type": "code",
   "execution_count": 238,
   "id": "3160ebeb",
   "metadata": {},
   "outputs": [],
   "source": [
    "df3 = df2.set_index(\"Date\")"
   ]
  },
  {
   "cell_type": "code",
   "execution_count": 239,
   "id": "8090b9ca",
   "metadata": {},
   "outputs": [
    {
     "data": {
      "text/html": [
       "<div>\n",
       "<style scoped>\n",
       "    .dataframe tbody tr th:only-of-type {\n",
       "        vertical-align: middle;\n",
       "    }\n",
       "\n",
       "    .dataframe tbody tr th {\n",
       "        vertical-align: top;\n",
       "    }\n",
       "\n",
       "    .dataframe thead th {\n",
       "        text-align: right;\n",
       "    }\n",
       "</style>\n",
       "<table border=\"1\" class=\"dataframe\">\n",
       "  <thead>\n",
       "    <tr style=\"text-align: right;\">\n",
       "      <th></th>\n",
       "      <th>Store_id</th>\n",
       "      <th>StoreCat</th>\n",
       "      <th>DayOfWeek</th>\n",
       "      <th>Holiday</th>\n",
       "      <th>Discount</th>\n",
       "      <th>#Order</th>\n",
       "      <th>Sales</th>\n",
       "    </tr>\n",
       "    <tr>\n",
       "      <th>Date</th>\n",
       "      <th></th>\n",
       "      <th></th>\n",
       "      <th></th>\n",
       "      <th></th>\n",
       "      <th></th>\n",
       "      <th></th>\n",
       "      <th></th>\n",
       "    </tr>\n",
       "  </thead>\n",
       "  <tbody>\n",
       "    <tr>\n",
       "      <th>2018-01-01</th>\n",
       "      <td>1</td>\n",
       "      <td>S1L3R1</td>\n",
       "      <td>Monday</td>\n",
       "      <td>1</td>\n",
       "      <td>Yes</td>\n",
       "      <td>9</td>\n",
       "      <td>7011.84</td>\n",
       "    </tr>\n",
       "    <tr>\n",
       "      <th>2018-01-01</th>\n",
       "      <td>253</td>\n",
       "      <td>S4L2R1</td>\n",
       "      <td>Monday</td>\n",
       "      <td>1</td>\n",
       "      <td>Yes</td>\n",
       "      <td>60</td>\n",
       "      <td>51789.12</td>\n",
       "    </tr>\n",
       "    <tr>\n",
       "      <th>2018-01-01</th>\n",
       "      <td>252</td>\n",
       "      <td>S3L2R1</td>\n",
       "      <td>Monday</td>\n",
       "      <td>1</td>\n",
       "      <td>Yes</td>\n",
       "      <td>42</td>\n",
       "      <td>36868.20</td>\n",
       "    </tr>\n",
       "    <tr>\n",
       "      <th>2018-01-01</th>\n",
       "      <td>251</td>\n",
       "      <td>S2L3R1</td>\n",
       "      <td>Monday</td>\n",
       "      <td>1</td>\n",
       "      <td>Yes</td>\n",
       "      <td>23</td>\n",
       "      <td>19715.16</td>\n",
       "    </tr>\n",
       "    <tr>\n",
       "      <th>2018-01-01</th>\n",
       "      <td>250</td>\n",
       "      <td>S2L3R4</td>\n",
       "      <td>Monday</td>\n",
       "      <td>1</td>\n",
       "      <td>Yes</td>\n",
       "      <td>62</td>\n",
       "      <td>45614.52</td>\n",
       "    </tr>\n",
       "  </tbody>\n",
       "</table>\n",
       "</div>"
      ],
      "text/plain": [
       "            Store_id StoreCat DayOfWeek  Holiday Discount  #Order     Sales\n",
       "Date                                                                       \n",
       "2018-01-01         1   S1L3R1    Monday        1      Yes       9   7011.84\n",
       "2018-01-01       253   S4L2R1    Monday        1      Yes      60  51789.12\n",
       "2018-01-01       252   S3L2R1    Monday        1      Yes      42  36868.20\n",
       "2018-01-01       251   S2L3R1    Monday        1      Yes      23  19715.16\n",
       "2018-01-01       250   S2L3R4    Monday        1      Yes      62  45614.52"
      ]
     },
     "execution_count": 239,
     "metadata": {},
     "output_type": "execute_result"
    }
   ],
   "source": [
    "df3.head()"
   ]
  },
  {
   "cell_type": "code",
   "execution_count": null,
   "id": "c5823995",
   "metadata": {},
   "outputs": [],
   "source": []
  },
  {
   "cell_type": "code",
   "execution_count": 152,
   "id": "63e3fe2f",
   "metadata": {},
   "outputs": [],
   "source": [
    "from sklearn.preprocessing import LabelEncoder"
   ]
  },
  {
   "cell_type": "code",
   "execution_count": 268,
   "id": "4c950501",
   "metadata": {},
   "outputs": [],
   "source": [
    "le1 = LabelEncoder()\n",
    "le1.fit(df3.loc[:, 'StoreCat'])\n",
    "df3['Z'+'StoreCat'] = le1.transform(df3.loc[:, 'StoreCat'])"
   ]
  },
  {
   "cell_type": "code",
   "execution_count": 269,
   "id": "006c4b5e",
   "metadata": {},
   "outputs": [],
   "source": [
    "le2 = LabelEncoder()\n",
    "le2.fit(df3.loc[:, 'DayOfWeek'])\n",
    "df3['Z'+'DayOfWeek'] = le2.transform(df3.loc[:, 'DayOfWeek'])"
   ]
  },
  {
   "cell_type": "code",
   "execution_count": 270,
   "id": "08042ee4",
   "metadata": {},
   "outputs": [],
   "source": [
    "le3= LabelEncoder()\n",
    "le3.fit(df3.loc[:, 'Discount'])\n",
    "df3['Z'+'Discount'] = le3.transform(df3.loc[:, 'Discount'])"
   ]
  },
  {
   "cell_type": "code",
   "execution_count": 271,
   "id": "2a06f0a7",
   "metadata": {},
   "outputs": [],
   "source": [
    "# colsToEncode = ['StoreCat', 'DayOfWeek', 'Discount']\n",
    "\n",
    "# for col in colsToEncode:\n",
    "\n",
    "#     le = LabelEncoder()\n",
    "#     le.fit(df3.loc[:, col])\n",
    "#     df3['Z'+col] = le.transform(df3.loc[:, col])"
   ]
  },
  {
   "cell_type": "code",
   "execution_count": 272,
   "id": "88e44ed9",
   "metadata": {},
   "outputs": [],
   "source": [
    "traindf = df3.loc[\"2018-01-01\":\"2019-12-31\"]\n",
    "testdf = df3.loc[\"2019-01-01\":\"2019-05-31\"]\n",
    "\n",
    "\n",
    "# traindf =storedf[:trainlen] \n",
    "# testdf = storedf[trainlen:] "
   ]
  },
  {
   "cell_type": "code",
   "execution_count": 273,
   "id": "890cf2ab",
   "metadata": {},
   "outputs": [
    {
     "data": {
      "text/plain": [
       "(188340, 10)"
      ]
     },
     "execution_count": 273,
     "metadata": {},
     "output_type": "execute_result"
    }
   ],
   "source": [
    "traindf.shape"
   ]
  },
  {
   "cell_type": "code",
   "execution_count": 274,
   "id": "847de4b7",
   "metadata": {},
   "outputs": [
    {
     "data": {
      "text/plain": [
       "(55115, 10)"
      ]
     },
     "execution_count": 274,
     "metadata": {},
     "output_type": "execute_result"
    }
   ],
   "source": [
    "testdf.shape"
   ]
  },
  {
   "cell_type": "code",
   "execution_count": null,
   "id": "d5ffe71b",
   "metadata": {},
   "outputs": [],
   "source": []
  },
  {
   "cell_type": "code",
   "execution_count": 275,
   "id": "64d8b8ab",
   "metadata": {},
   "outputs": [],
   "source": [
    "endog = traindf.loc[:, 'Sales']"
   ]
  },
  {
   "cell_type": "code",
   "execution_count": 276,
   "id": "c413121a",
   "metadata": {},
   "outputs": [],
   "source": [
    "exog = sm.add_constant(traindf.loc[:, ('ZDayOfWeek', 'ZStoreCat', 'ZDiscount', 'Holiday')])"
   ]
  },
  {
   "cell_type": "code",
   "execution_count": 277,
   "id": "b07d69f5",
   "metadata": {},
   "outputs": [
    {
     "name": "stderr",
     "output_type": "stream",
     "text": [
      "/Users/sundara/Documents/venv/lib/python3.9/site-packages/statsmodels/tsa/base/tsa_model.py:581: ValueWarning: A date index has been provided, but it has no associated frequency information and so will be ignored when e.g. forecasting.\n",
      "  warnings.warn('A date index has been provided, but it has no'\n",
      "/Users/sundara/Documents/venv/lib/python3.9/site-packages/statsmodels/tsa/base/tsa_model.py:581: ValueWarning: A date index has been provided, but it has no associated frequency information and so will be ignored when e.g. forecasting.\n",
      "  warnings.warn('A date index has been provided, but it has no'\n"
     ]
    },
    {
     "name": "stdout",
     "output_type": "stream",
     "text": [
      "                               SARIMAX Results                                \n",
      "==============================================================================\n",
      "Dep. Variable:                  Sales   No. Observations:               188340\n",
      "Model:               SARIMAX(1, 0, 1)   Log Likelihood            -2063604.638\n",
      "Date:                Sat, 18 Sep 2021   AIC                        4127225.276\n",
      "Time:                        11:42:16   BIC                        4127306.444\n",
      "Sample:                             0   HQIC                       4127249.228\n",
      "                             - 188340                                         \n",
      "Covariance Type:                  opg                                         \n",
      "==============================================================================\n",
      "                 coef    std err          z      P>|z|      [0.025      0.975]\n",
      "------------------------------------------------------------------------------\n",
      "const       2.992e+04    744.321     40.202      0.000    2.85e+04    3.14e+04\n",
      "ZDayOfWeek  -286.7997     63.744     -4.499      0.000    -411.736    -161.864\n",
      "ZStoreCat    434.4156      2.141    202.919      0.000     430.220     438.612\n",
      "ZDiscount   1.212e+04     96.737    125.253      0.000    1.19e+04    1.23e+04\n",
      "Holiday    -8837.9042    338.360    -26.120      0.000   -9501.077   -8174.731\n",
      "ar.L1          0.9982      0.000   6856.547      0.000       0.998       0.999\n",
      "ma.L1         -0.9699      0.001  -1574.057      0.000      -0.971      -0.969\n",
      "sigma2      2.139e+08      0.093   2.29e+09      0.000    2.14e+08    2.14e+08\n",
      "===================================================================================\n",
      "Ljung-Box (L1) (Q):                   0.73   Jarque-Bera (JB):            147247.46\n",
      "Prob(Q):                              0.39   Prob(JB):                         0.00\n",
      "Heteroskedasticity (H):               1.33   Skew:                             0.83\n",
      "Prob(H) (two-sided):                  0.00   Kurtosis:                         7.00\n",
      "===================================================================================\n",
      "\n",
      "Warnings:\n",
      "[1] Covariance matrix calculated using the outer product of gradients (complex-step).\n",
      "[2] Covariance matrix is singular or near-singular, with condition number 3.7e+23. Standard errors may be unstable.\n"
     ]
    }
   ],
   "source": [
    "# Fit the model\n",
    "mod = sm.tsa.statespace.SARIMAX(endog, exog, order=(1,0,1))\n",
    "res = mod.fit(disp=False)\n",
    "print(res.summary())"
   ]
  },
  {
   "cell_type": "code",
   "execution_count": null,
   "id": "2b426c2c",
   "metadata": {},
   "outputs": [],
   "source": []
  },
  {
   "cell_type": "code",
   "execution_count": 278,
   "id": "6d9a5b3e",
   "metadata": {},
   "outputs": [],
   "source": [
    "texog = sm.add_constant(testdf.loc[:, ('ZDayOfWeek', 'ZStoreCat', 'ZDiscount', 'Holiday')])"
   ]
  },
  {
   "cell_type": "code",
   "execution_count": 279,
   "id": "a8a12714",
   "metadata": {},
   "outputs": [
    {
     "data": {
      "text/plain": [
       "55115"
      ]
     },
     "execution_count": 279,
     "metadata": {},
     "output_type": "execute_result"
    }
   ],
   "source": [
    "len(texog)"
   ]
  },
  {
   "cell_type": "code",
   "execution_count": null,
   "id": "b5df9bf6",
   "metadata": {},
   "outputs": [],
   "source": []
  },
  {
   "cell_type": "code",
   "execution_count": 280,
   "id": "cf70cff1",
   "metadata": {},
   "outputs": [
    {
     "name": "stderr",
     "output_type": "stream",
     "text": [
      "/Users/sundara/Documents/venv/lib/python3.9/site-packages/statsmodels/tsa/base/tsa_model.py:376: ValueWarning: No supported index is available. Prediction results will be given with an integer index beginning at `start`.\n",
      "  warnings.warn('No supported index is available.'\n"
     ]
    },
    {
     "data": {
      "text/plain": [
       "188340    33662.384731\n",
       "188341    51016.471751\n",
       "188342    32748.517917\n",
       "188343    64825.764197\n",
       "188344    50514.682356\n",
       "              ...     \n",
       "243450    42758.999007\n",
       "243451    41068.388213\n",
       "243452    24995.010280\n",
       "243453    47537.570825\n",
       "243454    28470.335238\n",
       "Name: predicted_mean, Length: 55115, dtype: float64"
      ]
     },
     "execution_count": 280,
     "metadata": {},
     "output_type": "execute_result"
    }
   ],
   "source": [
    "res.forecast(exog=texog, steps=len(texog))"
   ]
  },
  {
   "cell_type": "code",
   "execution_count": 281,
   "id": "44171ce5",
   "metadata": {},
   "outputs": [
    {
     "name": "stderr",
     "output_type": "stream",
     "text": [
      "/Users/sundara/Documents/venv/lib/python3.9/site-packages/statsmodels/tsa/base/tsa_model.py:376: ValueWarning: No supported index is available. Prediction results will be given with an integer index beginning at `start`.\n",
      "  warnings.warn('No supported index is available.'\n"
     ]
    }
   ],
   "source": [
    "pred = res.forecast(exog=texog, steps=len(texog))"
   ]
  },
  {
   "cell_type": "code",
   "execution_count": 282,
   "id": "68d9a974",
   "metadata": {},
   "outputs": [
    {
     "name": "stderr",
     "output_type": "stream",
     "text": [
      "<ipython-input-282-31cf8b4bfba2>:1: SettingWithCopyWarning: \n",
      "A value is trying to be set on a copy of a slice from a DataFrame.\n",
      "Try using .loc[row_indexer,col_indexer] = value instead\n",
      "\n",
      "See the caveats in the documentation: https://pandas.pydata.org/pandas-docs/stable/user_guide/indexing.html#returning-a-view-versus-a-copy\n",
      "  testdf['pred'] = pred.tolist()\n"
     ]
    }
   ],
   "source": [
    "testdf['pred'] = pred.tolist()"
   ]
  },
  {
   "cell_type": "code",
   "execution_count": 283,
   "id": "1e71eb37",
   "metadata": {},
   "outputs": [
    {
     "data": {
      "text/html": [
       "<div>\n",
       "<style scoped>\n",
       "    .dataframe tbody tr th:only-of-type {\n",
       "        vertical-align: middle;\n",
       "    }\n",
       "\n",
       "    .dataframe tbody tr th {\n",
       "        vertical-align: top;\n",
       "    }\n",
       "\n",
       "    .dataframe thead th {\n",
       "        text-align: right;\n",
       "    }\n",
       "</style>\n",
       "<table border=\"1\" class=\"dataframe\">\n",
       "  <thead>\n",
       "    <tr style=\"text-align: right;\">\n",
       "      <th></th>\n",
       "      <th>Store_id</th>\n",
       "      <th>StoreCat</th>\n",
       "      <th>DayOfWeek</th>\n",
       "      <th>Holiday</th>\n",
       "      <th>Discount</th>\n",
       "      <th>#Order</th>\n",
       "      <th>Sales</th>\n",
       "      <th>ZStoreCat</th>\n",
       "      <th>ZDayOfWeek</th>\n",
       "      <th>ZDiscount</th>\n",
       "      <th>pred</th>\n",
       "    </tr>\n",
       "    <tr>\n",
       "      <th>Date</th>\n",
       "      <th></th>\n",
       "      <th></th>\n",
       "      <th></th>\n",
       "      <th></th>\n",
       "      <th></th>\n",
       "      <th></th>\n",
       "      <th></th>\n",
       "      <th></th>\n",
       "      <th></th>\n",
       "      <th></th>\n",
       "      <th></th>\n",
       "    </tr>\n",
       "  </thead>\n",
       "  <tbody>\n",
       "    <tr>\n",
       "      <th>2019-01-01</th>\n",
       "      <td>304</td>\n",
       "      <td>S1L1R4</td>\n",
       "      <td>Tuesday</td>\n",
       "      <td>1</td>\n",
       "      <td>No</td>\n",
       "      <td>57</td>\n",
       "      <td>45634.50</td>\n",
       "      <td>3</td>\n",
       "      <td>5</td>\n",
       "      <td>0</td>\n",
       "      <td>33662.384731</td>\n",
       "    </tr>\n",
       "    <tr>\n",
       "      <th>2019-01-01</th>\n",
       "      <td>162</td>\n",
       "      <td>S4L1R2</td>\n",
       "      <td>Tuesday</td>\n",
       "      <td>1</td>\n",
       "      <td>No</td>\n",
       "      <td>63</td>\n",
       "      <td>41877.45</td>\n",
       "      <td>43</td>\n",
       "      <td>5</td>\n",
       "      <td>0</td>\n",
       "      <td>51016.471751</td>\n",
       "    </tr>\n",
       "    <tr>\n",
       "      <th>2019-01-01</th>\n",
       "      <td>148</td>\n",
       "      <td>S1L1R2</td>\n",
       "      <td>Tuesday</td>\n",
       "      <td>1</td>\n",
       "      <td>No</td>\n",
       "      <td>30</td>\n",
       "      <td>23139.00</td>\n",
       "      <td>1</td>\n",
       "      <td>5</td>\n",
       "      <td>0</td>\n",
       "      <td>32748.517917</td>\n",
       "    </tr>\n",
       "    <tr>\n",
       "      <th>2019-01-01</th>\n",
       "      <td>94</td>\n",
       "      <td>S4L2R2</td>\n",
       "      <td>Tuesday</td>\n",
       "      <td>1</td>\n",
       "      <td>Yes</td>\n",
       "      <td>60</td>\n",
       "      <td>43645.20</td>\n",
       "      <td>47</td>\n",
       "      <td>5</td>\n",
       "      <td>1</td>\n",
       "      <td>64825.764197</td>\n",
       "    </tr>\n",
       "    <tr>\n",
       "      <th>2019-01-01</th>\n",
       "      <td>137</td>\n",
       "      <td>S4L1R1</td>\n",
       "      <td>Tuesday</td>\n",
       "      <td>1</td>\n",
       "      <td>No</td>\n",
       "      <td>64</td>\n",
       "      <td>40367.70</td>\n",
       "      <td>42</td>\n",
       "      <td>5</td>\n",
       "      <td>0</td>\n",
       "      <td>50514.682356</td>\n",
       "    </tr>\n",
       "  </tbody>\n",
       "</table>\n",
       "</div>"
      ],
      "text/plain": [
       "            Store_id StoreCat DayOfWeek  Holiday Discount  #Order     Sales  \\\n",
       "Date                                                                          \n",
       "2019-01-01       304   S1L1R4   Tuesday        1       No      57  45634.50   \n",
       "2019-01-01       162   S4L1R2   Tuesday        1       No      63  41877.45   \n",
       "2019-01-01       148   S1L1R2   Tuesday        1       No      30  23139.00   \n",
       "2019-01-01        94   S4L2R2   Tuesday        1      Yes      60  43645.20   \n",
       "2019-01-01       137   S4L1R1   Tuesday        1       No      64  40367.70   \n",
       "\n",
       "            ZStoreCat  ZDayOfWeek  ZDiscount          pred  \n",
       "Date                                                        \n",
       "2019-01-01          3           5          0  33662.384731  \n",
       "2019-01-01         43           5          0  51016.471751  \n",
       "2019-01-01          1           5          0  32748.517917  \n",
       "2019-01-01         47           5          1  64825.764197  \n",
       "2019-01-01         42           5          0  50514.682356  "
      ]
     },
     "execution_count": 283,
     "metadata": {},
     "output_type": "execute_result"
    }
   ],
   "source": [
    "testdf.head()"
   ]
  },
  {
   "cell_type": "code",
   "execution_count": 284,
   "id": "82df20c9",
   "metadata": {},
   "outputs": [],
   "source": [
    "from sklearn.metrics import mean_squared_log_error"
   ]
  },
  {
   "cell_type": "code",
   "execution_count": 285,
   "id": "c9022815",
   "metadata": {},
   "outputs": [
    {
     "data": {
      "text/plain": [
       "172.77081246807188"
      ]
     },
     "execution_count": 285,
     "metadata": {},
     "output_type": "execute_result"
    }
   ],
   "source": [
    "mean_squared_log_error(testdf['Sales'], testdf['pred'])*1000"
   ]
  },
  {
   "cell_type": "code",
   "execution_count": null,
   "id": "286a0fc2",
   "metadata": {},
   "outputs": [],
   "source": []
  },
  {
   "cell_type": "code",
   "execution_count": null,
   "id": "69857837",
   "metadata": {},
   "outputs": [],
   "source": []
  },
  {
   "cell_type": "code",
   "execution_count": 286,
   "id": "c2d7810a",
   "metadata": {},
   "outputs": [],
   "source": [
    "validdf = pd.read_csv(os.path.join(homedir, \"TEST_FINAL.csv\"))"
   ]
  },
  {
   "cell_type": "code",
   "execution_count": 287,
   "id": "4d8edb84",
   "metadata": {},
   "outputs": [
    {
     "data": {
      "text/plain": [
       "(22265, 8)"
      ]
     },
     "execution_count": 287,
     "metadata": {},
     "output_type": "execute_result"
    }
   ],
   "source": [
    "validdf.shape"
   ]
  },
  {
   "cell_type": "code",
   "execution_count": 295,
   "id": "1b43b3d5",
   "metadata": {},
   "outputs": [
    {
     "data": {
      "text/plain": [
       "ID                       object\n",
       "Store_id                  int64\n",
       "Store_Type               object\n",
       "Location_Type            object\n",
       "Region_Code              object\n",
       "Date             datetime64[ns]\n",
       "Holiday                   int64\n",
       "Discount                 object\n",
       "StoreCat                 object\n",
       "Year                      int64\n",
       "Month                     int64\n",
       "DayOfWeek                object\n",
       "dtype: object"
      ]
     },
     "execution_count": 295,
     "metadata": {},
     "output_type": "execute_result"
    }
   ],
   "source": [
    "validdf.dtypes"
   ]
  },
  {
   "cell_type": "code",
   "execution_count": 290,
   "id": "7155329e",
   "metadata": {},
   "outputs": [],
   "source": [
    "validdf['StoreCat'] = validdf['Store_Type'] + validdf['Location_Type'] + validdf['Region_Code']"
   ]
  },
  {
   "cell_type": "code",
   "execution_count": 292,
   "id": "602088af",
   "metadata": {},
   "outputs": [],
   "source": [
    "validdf['Date'] = pd.to_datetime(validdf['Date'])"
   ]
  },
  {
   "cell_type": "code",
   "execution_count": 293,
   "id": "ed5abd8d",
   "metadata": {},
   "outputs": [],
   "source": [
    "validdf['Year'] = validdf['Date'].dt.year\n",
    "validdf['Month'] = validdf['Date'].dt.month\n",
    "validdf['DayOfWeek'] = validdf['Date'].dt.dayofweek"
   ]
  },
  {
   "cell_type": "code",
   "execution_count": 294,
   "id": "d89255d3",
   "metadata": {},
   "outputs": [],
   "source": [
    "validdf['DayOfWeek'] = validdf['DayOfWeek'].apply(lambda x : dayOfWeekDict.get(x))"
   ]
  },
  {
   "cell_type": "code",
   "execution_count": 297,
   "id": "c455dae0",
   "metadata": {},
   "outputs": [],
   "source": [
    "validdf2 = validdf[['Store_id', \"StoreCat\", \"Date\", \"DayOfWeek\", \"Holiday\", \"Discount\"]]"
   ]
  },
  {
   "cell_type": "code",
   "execution_count": 298,
   "id": "fe1c1d01",
   "metadata": {},
   "outputs": [],
   "source": [
    "validdf3 = validdf2.set_index(\"Date\")"
   ]
  },
  {
   "cell_type": "code",
   "execution_count": 300,
   "id": "1b929623",
   "metadata": {},
   "outputs": [],
   "source": [
    "validdf3['Z'+'StoreCat'] = le1.transform(validdf3.loc[:, 'StoreCat'])\n",
    "validdf3['Z'+'DayOfWeek'] = le2.transform(validdf3.loc[:, 'DayOfWeek'])\n",
    "validdf3['Z'+'Discount'] = le3.transform(validdf3.loc[:, 'Discount'])"
   ]
  },
  {
   "cell_type": "code",
   "execution_count": 301,
   "id": "c0b249dc",
   "metadata": {},
   "outputs": [
    {
     "data": {
      "text/html": [
       "<div>\n",
       "<style scoped>\n",
       "    .dataframe tbody tr th:only-of-type {\n",
       "        vertical-align: middle;\n",
       "    }\n",
       "\n",
       "    .dataframe tbody tr th {\n",
       "        vertical-align: top;\n",
       "    }\n",
       "\n",
       "    .dataframe thead th {\n",
       "        text-align: right;\n",
       "    }\n",
       "</style>\n",
       "<table border=\"1\" class=\"dataframe\">\n",
       "  <thead>\n",
       "    <tr style=\"text-align: right;\">\n",
       "      <th></th>\n",
       "      <th>Store_id</th>\n",
       "      <th>StoreCat</th>\n",
       "      <th>DayOfWeek</th>\n",
       "      <th>Holiday</th>\n",
       "      <th>Discount</th>\n",
       "      <th>ZStoreCat</th>\n",
       "      <th>ZDayOfWeek</th>\n",
       "      <th>ZDiscount</th>\n",
       "    </tr>\n",
       "    <tr>\n",
       "      <th>Date</th>\n",
       "      <th></th>\n",
       "      <th></th>\n",
       "      <th></th>\n",
       "      <th></th>\n",
       "      <th></th>\n",
       "      <th></th>\n",
       "      <th></th>\n",
       "      <th></th>\n",
       "    </tr>\n",
       "  </thead>\n",
       "  <tbody>\n",
       "    <tr>\n",
       "      <th>2019-06-01</th>\n",
       "      <td>171</td>\n",
       "      <td>S4L2R3</td>\n",
       "      <td>Saturday</td>\n",
       "      <td>0</td>\n",
       "      <td>No</td>\n",
       "      <td>48</td>\n",
       "      <td>2</td>\n",
       "      <td>0</td>\n",
       "    </tr>\n",
       "    <tr>\n",
       "      <th>2019-06-01</th>\n",
       "      <td>172</td>\n",
       "      <td>S1L1R1</td>\n",
       "      <td>Saturday</td>\n",
       "      <td>0</td>\n",
       "      <td>No</td>\n",
       "      <td>0</td>\n",
       "      <td>2</td>\n",
       "      <td>0</td>\n",
       "    </tr>\n",
       "    <tr>\n",
       "      <th>2019-06-01</th>\n",
       "      <td>173</td>\n",
       "      <td>S4L2R1</td>\n",
       "      <td>Saturday</td>\n",
       "      <td>0</td>\n",
       "      <td>No</td>\n",
       "      <td>46</td>\n",
       "      <td>2</td>\n",
       "      <td>0</td>\n",
       "    </tr>\n",
       "    <tr>\n",
       "      <th>2019-06-01</th>\n",
       "      <td>174</td>\n",
       "      <td>S1L1R4</td>\n",
       "      <td>Saturday</td>\n",
       "      <td>0</td>\n",
       "      <td>No</td>\n",
       "      <td>3</td>\n",
       "      <td>2</td>\n",
       "      <td>0</td>\n",
       "    </tr>\n",
       "    <tr>\n",
       "      <th>2019-06-01</th>\n",
       "      <td>170</td>\n",
       "      <td>S1L1R2</td>\n",
       "      <td>Saturday</td>\n",
       "      <td>0</td>\n",
       "      <td>No</td>\n",
       "      <td>1</td>\n",
       "      <td>2</td>\n",
       "      <td>0</td>\n",
       "    </tr>\n",
       "  </tbody>\n",
       "</table>\n",
       "</div>"
      ],
      "text/plain": [
       "            Store_id StoreCat DayOfWeek  Holiday Discount  ZStoreCat  \\\n",
       "Date                                                                   \n",
       "2019-06-01       171   S4L2R3  Saturday        0       No         48   \n",
       "2019-06-01       172   S1L1R1  Saturday        0       No          0   \n",
       "2019-06-01       173   S4L2R1  Saturday        0       No         46   \n",
       "2019-06-01       174   S1L1R4  Saturday        0       No          3   \n",
       "2019-06-01       170   S1L1R2  Saturday        0       No          1   \n",
       "\n",
       "            ZDayOfWeek  ZDiscount  \n",
       "Date                               \n",
       "2019-06-01           2          0  \n",
       "2019-06-01           2          0  \n",
       "2019-06-01           2          0  \n",
       "2019-06-01           2          0  \n",
       "2019-06-01           2          0  "
      ]
     },
     "execution_count": 301,
     "metadata": {},
     "output_type": "execute_result"
    }
   ],
   "source": [
    "validdf3.head()"
   ]
  },
  {
   "cell_type": "code",
   "execution_count": 302,
   "id": "79a16eb3",
   "metadata": {},
   "outputs": [],
   "source": [
    "vexog = sm.add_constant(validdf3.loc[:, ('ZDayOfWeek', 'ZStoreCat', 'ZDiscount', 'Holiday')])"
   ]
  },
  {
   "cell_type": "code",
   "execution_count": 304,
   "id": "86507bcc",
   "metadata": {},
   "outputs": [
    {
     "name": "stderr",
     "output_type": "stream",
     "text": [
      "/Users/sundara/Documents/venv/lib/python3.9/site-packages/statsmodels/tsa/base/tsa_model.py:376: ValueWarning: No supported index is available. Prediction results will be given with an integer index beginning at `start`.\n",
      "  warnings.warn('No supported index is available.'\n"
     ]
    }
   ],
   "source": [
    "vpred = res.forecast(exog=vexog, steps=len(vexog))"
   ]
  },
  {
   "cell_type": "code",
   "execution_count": 305,
   "id": "cc2bd5e7",
   "metadata": {},
   "outputs": [],
   "source": [
    "validdf['Sales'] = vpred.tolist()"
   ]
  },
  {
   "cell_type": "code",
   "execution_count": 306,
   "id": "958bfc91",
   "metadata": {},
   "outputs": [
    {
     "data": {
      "text/html": [
       "<div>\n",
       "<style scoped>\n",
       "    .dataframe tbody tr th:only-of-type {\n",
       "        vertical-align: middle;\n",
       "    }\n",
       "\n",
       "    .dataframe tbody tr th {\n",
       "        vertical-align: top;\n",
       "    }\n",
       "\n",
       "    .dataframe thead th {\n",
       "        text-align: right;\n",
       "    }\n",
       "</style>\n",
       "<table border=\"1\" class=\"dataframe\">\n",
       "  <thead>\n",
       "    <tr style=\"text-align: right;\">\n",
       "      <th></th>\n",
       "      <th>ID</th>\n",
       "      <th>Store_id</th>\n",
       "      <th>Store_Type</th>\n",
       "      <th>Location_Type</th>\n",
       "      <th>Region_Code</th>\n",
       "      <th>Date</th>\n",
       "      <th>Holiday</th>\n",
       "      <th>Discount</th>\n",
       "      <th>StoreCat</th>\n",
       "      <th>Year</th>\n",
       "      <th>Month</th>\n",
       "      <th>DayOfWeek</th>\n",
       "      <th>Sales</th>\n",
       "    </tr>\n",
       "  </thead>\n",
       "  <tbody>\n",
       "    <tr>\n",
       "      <th>0</th>\n",
       "      <td>T1188341</td>\n",
       "      <td>171</td>\n",
       "      <td>S4</td>\n",
       "      <td>L2</td>\n",
       "      <td>R3</td>\n",
       "      <td>2019-06-01</td>\n",
       "      <td>0</td>\n",
       "      <td>No</td>\n",
       "      <td>S4L2R3</td>\n",
       "      <td>2019</td>\n",
       "      <td>6</td>\n",
       "      <td>Saturday</td>\n",
       "      <td>62909.390939</td>\n",
       "    </tr>\n",
       "    <tr>\n",
       "      <th>1</th>\n",
       "      <td>T1188342</td>\n",
       "      <td>172</td>\n",
       "      <td>S1</td>\n",
       "      <td>L1</td>\n",
       "      <td>R1</td>\n",
       "      <td>2019-06-01</td>\n",
       "      <td>0</td>\n",
       "      <td>No</td>\n",
       "      <td>S1L1R1</td>\n",
       "      <td>2019</td>\n",
       "      <td>6</td>\n",
       "      <td>Saturday</td>\n",
       "      <td>42034.903414</td>\n",
       "    </tr>\n",
       "    <tr>\n",
       "      <th>2</th>\n",
       "      <td>T1188343</td>\n",
       "      <td>173</td>\n",
       "      <td>S4</td>\n",
       "      <td>L2</td>\n",
       "      <td>R1</td>\n",
       "      <td>2019-06-01</td>\n",
       "      <td>0</td>\n",
       "      <td>No</td>\n",
       "      <td>S4L2R1</td>\n",
       "      <td>2019</td>\n",
       "      <td>6</td>\n",
       "      <td>Saturday</td>\n",
       "      <td>61995.524124</td>\n",
       "    </tr>\n",
       "    <tr>\n",
       "      <th>3</th>\n",
       "      <td>T1188344</td>\n",
       "      <td>174</td>\n",
       "      <td>S1</td>\n",
       "      <td>L1</td>\n",
       "      <td>R4</td>\n",
       "      <td>2019-06-01</td>\n",
       "      <td>0</td>\n",
       "      <td>No</td>\n",
       "      <td>S1L1R4</td>\n",
       "      <td>2019</td>\n",
       "      <td>6</td>\n",
       "      <td>Saturday</td>\n",
       "      <td>43293.194571</td>\n",
       "    </tr>\n",
       "    <tr>\n",
       "      <th>4</th>\n",
       "      <td>T1188345</td>\n",
       "      <td>170</td>\n",
       "      <td>S1</td>\n",
       "      <td>L1</td>\n",
       "      <td>R2</td>\n",
       "      <td>2019-06-01</td>\n",
       "      <td>0</td>\n",
       "      <td>No</td>\n",
       "      <td>S1L1R2</td>\n",
       "      <td>2019</td>\n",
       "      <td>6</td>\n",
       "      <td>Saturday</td>\n",
       "      <td>42401.945260</td>\n",
       "    </tr>\n",
       "  </tbody>\n",
       "</table>\n",
       "</div>"
      ],
      "text/plain": [
       "         ID  Store_id Store_Type Location_Type Region_Code       Date  \\\n",
       "0  T1188341       171         S4            L2          R3 2019-06-01   \n",
       "1  T1188342       172         S1            L1          R1 2019-06-01   \n",
       "2  T1188343       173         S4            L2          R1 2019-06-01   \n",
       "3  T1188344       174         S1            L1          R4 2019-06-01   \n",
       "4  T1188345       170         S1            L1          R2 2019-06-01   \n",
       "\n",
       "   Holiday Discount StoreCat  Year  Month DayOfWeek         Sales  \n",
       "0        0       No   S4L2R3  2019      6  Saturday  62909.390939  \n",
       "1        0       No   S1L1R1  2019      6  Saturday  42034.903414  \n",
       "2        0       No   S4L2R1  2019      6  Saturday  61995.524124  \n",
       "3        0       No   S1L1R4  2019      6  Saturday  43293.194571  \n",
       "4        0       No   S1L1R2  2019      6  Saturday  42401.945260  "
      ]
     },
     "execution_count": 306,
     "metadata": {},
     "output_type": "execute_result"
    }
   ],
   "source": [
    "validdf.head()"
   ]
  },
  {
   "cell_type": "code",
   "execution_count": 309,
   "id": "ec73aee2",
   "metadata": {},
   "outputs": [
    {
     "data": {
      "text/plain": [
       "510022"
      ]
     },
     "execution_count": 309,
     "metadata": {},
     "output_type": "execute_result"
    }
   ],
   "source": [
    "datetime.now().microsecond"
   ]
  },
  {
   "cell_type": "code",
   "execution_count": 311,
   "id": "290a860c",
   "metadata": {},
   "outputs": [],
   "source": [
    "validdf[[\"ID\", \"Sales\"]].to_csv(\"Submission_{}.csv\".format(datetime.now().microsecond), index=None)"
   ]
  },
  {
   "cell_type": "code",
   "execution_count": null,
   "id": "2abba615",
   "metadata": {},
   "outputs": [],
   "source": []
  }
 ],
 "metadata": {
  "kernelspec": {
   "display_name": "Python 3",
   "language": "python",
   "name": "python3"
  },
  "language_info": {
   "codemirror_mode": {
    "name": "ipython",
    "version": 3
   },
   "file_extension": ".py",
   "mimetype": "text/x-python",
   "name": "python",
   "nbconvert_exporter": "python",
   "pygments_lexer": "ipython3",
   "version": "3.9.4"
  }
 },
 "nbformat": 4,
 "nbformat_minor": 5
}
